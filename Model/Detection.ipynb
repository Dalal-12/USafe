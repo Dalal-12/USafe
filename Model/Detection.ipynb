{
 "cells": [
  {
   "cell_type": "code",
   "execution_count": 1,
   "id": "36521569",
   "metadata": {},
   "outputs": [],
   "source": [
    "#pip install ultralytics\n",
    "from ultralytics import YOLO\n",
    "from IPython.display import display, Image\n",
    "import cv2\n",
    "\n",
    "from roboflow import Roboflow\n",
    "import os\n",
    "import time\n",
    "import winsound"
   ]
  },
  {
   "cell_type": "code",
   "execution_count": null,
   "id": "673968d3",
   "metadata": {},
   "outputs": [
    {
     "name": "stdout",
     "output_type": "stream",
     "text": [
      "loading Roboflow workspace...\n",
      "loading Roboflow project...\n"
     ]
    },
    {
     "name": "stderr",
     "output_type": "stream",
     "text": [
      "Downloading Dataset Version Zip in Fainting-Detection-4 to yolov8:: 100%|██████████| 85056/85056 [00:09<00:00, 9102.44it/s] "
     ]
    },
    {
     "name": "stdout",
     "output_type": "stream",
     "text": [
      "\n"
     ]
    },
    {
     "name": "stderr",
     "output_type": "stream",
     "text": [
      "\n",
      "Extracting Dataset Version Zip to Fainting-Detection-4 in yolov8:: 100%|██████████| 3382/3382 [00:01<00:00, 2058.76it/s]\n"
     ]
    }
   ],
   "source": [
    "rf = Roboflow(api_key=\"G5XccPRXjGjr6LzTtS5T\")\n",
    "project = rf.workspace(\"capstone-hfoze\").project(\"fainting-detection\")\n",
    "dataset = project.version(4).download(\"yolov8\")\n"
   ]
  },
  {
   "cell_type": "code",
   "execution_count": null,
   "metadata": {},
   "outputs": [],
   "source": [
    "model = YOLO('yolov8n.pt')"
   ]
  },
  {
   "cell_type": "code",
   "execution_count": null,
   "id": "7350c309",
   "metadata": {},
   "outputs": [
    {
     "name": "stderr",
     "output_type": "stream",
     "text": [
      "New https://pypi.org/project/ultralytics/8.0.226 available  Update with 'pip install -U ultralytics'\n",
      "Ultralytics YOLOv8.0.196  Python-3.11.5 torch-2.1.1+cpu CPU (13th Gen Intel Core(TM) i7-1360P)\n",
      "\u001b[34m\u001b[1mengine\\trainer: \u001b[0mtask=detect, mode=train, model=yolov8n.pt, data=C:/Users/rifal/Desktop/CAPSTONE/Fainting-Detection-4/data.yaml, epochs=200, patience=5, batch=8, imgsz=640, save=True, save_period=-1, cache=False, device=None, workers=8, project=None, name=None, exist_ok=False, pretrained=True, optimizer=auto, verbose=True, seed=0, deterministic=True, single_cls=False, rect=False, cos_lr=False, close_mosaic=10, resume=False, amp=True, fraction=1.0, profile=False, freeze=None, overlap_mask=True, mask_ratio=4, dropout=0.0, val=True, split=val, save_json=False, save_hybrid=False, conf=None, iou=0.7, max_det=300, half=False, dnn=False, plots=True, source=None, show=False, save_txt=False, save_conf=False, save_crop=False, show_labels=True, show_conf=True, vid_stride=1, stream_buffer=False, line_width=None, visualize=False, augment=False, agnostic_nms=False, classes=None, retina_masks=False, boxes=True, format=torchscript, keras=False, optimize=False, int8=False, dynamic=False, simplify=False, opset=None, workspace=4, nms=False, lr0=0.01, lrf=0.01, momentum=0.937, weight_decay=0.0005, warmup_epochs=3.0, warmup_momentum=0.8, warmup_bias_lr=0.1, box=7.5, cls=0.5, dfl=1.5, pose=12.0, kobj=1.0, label_smoothing=0.0, nbs=64, hsv_h=0.015, hsv_s=0.7, hsv_v=0.4, degrees=0.0, translate=0.1, scale=0.5, shear=0.0, perspective=0.0, flipud=0.0, fliplr=0.5, mosaic=1.0, mixup=0.0, copy_paste=0.0, cfg=None, tracker=botsort.yaml, save_dir=runs\\detect\\train13\n"
     ]
    },
    {
     "name": "stdout",
     "output_type": "stream",
     "text": [
      "WARNING:tensorflow:From c:\\Users\\rifal\\anaconda3\\Lib\\site-packages\\keras\\src\\losses.py:2976: The name tf.losses.sparse_softmax_cross_entropy is deprecated. Please use tf.compat.v1.losses.sparse_softmax_cross_entropy instead.\n",
      "\n"
     ]
    },
    {
     "name": "stderr",
     "output_type": "stream",
     "text": [
      "Overriding model.yaml nc=80 with nc=2\n",
      "\n",
      "                   from  n    params  module                                       arguments                     \n",
      "  0                  -1  1       464  ultralytics.nn.modules.conv.Conv             [3, 16, 3, 2]                 \n",
      "  1                  -1  1      4672  ultralytics.nn.modules.conv.Conv             [16, 32, 3, 2]                \n",
      "  2                  -1  1      7360  ultralytics.nn.modules.block.C2f             [32, 32, 1, True]             \n",
      "  3                  -1  1     18560  ultralytics.nn.modules.conv.Conv             [32, 64, 3, 2]                \n",
      "  4                  -1  2     49664  ultralytics.nn.modules.block.C2f             [64, 64, 2, True]             \n",
      "  5                  -1  1     73984  ultralytics.nn.modules.conv.Conv             [64, 128, 3, 2]               \n",
      "  6                  -1  2    197632  ultralytics.nn.modules.block.C2f             [128, 128, 2, True]           \n",
      "  7                  -1  1    295424  ultralytics.nn.modules.conv.Conv             [128, 256, 3, 2]              \n",
      "  8                  -1  1    460288  ultralytics.nn.modules.block.C2f             [256, 256, 1, True]           \n",
      "  9                  -1  1    164608  ultralytics.nn.modules.block.SPPF            [256, 256, 5]                 \n",
      " 10                  -1  1         0  torch.nn.modules.upsampling.Upsample         [None, 2, 'nearest']          \n",
      " 11             [-1, 6]  1         0  ultralytics.nn.modules.conv.Concat           [1]                           \n",
      " 12                  -1  1    148224  ultralytics.nn.modules.block.C2f             [384, 128, 1]                 \n",
      " 13                  -1  1         0  torch.nn.modules.upsampling.Upsample         [None, 2, 'nearest']          \n",
      " 14             [-1, 4]  1         0  ultralytics.nn.modules.conv.Concat           [1]                           \n",
      " 15                  -1  1     37248  ultralytics.nn.modules.block.C2f             [192, 64, 1]                  \n",
      " 16                  -1  1     36992  ultralytics.nn.modules.conv.Conv             [64, 64, 3, 2]                \n",
      " 17            [-1, 12]  1         0  ultralytics.nn.modules.conv.Concat           [1]                           \n",
      " 18                  -1  1    123648  ultralytics.nn.modules.block.C2f             [192, 128, 1]                 \n",
      " 19                  -1  1    147712  ultralytics.nn.modules.conv.Conv             [128, 128, 3, 2]              \n",
      " 20             [-1, 9]  1         0  ultralytics.nn.modules.conv.Concat           [1]                           \n",
      " 21                  -1  1    493056  ultralytics.nn.modules.block.C2f             [384, 256, 1]                 \n",
      " 22        [15, 18, 21]  1    751702  ultralytics.nn.modules.head.Detect           [2, [64, 128, 256]]           \n",
      "Model summary: 225 layers, 3011238 parameters, 3011222 gradients, 8.2 GFLOPs\n",
      "\n",
      "Transferred 319/355 items from pretrained weights\n",
      "\u001b[34m\u001b[1mTensorBoard: \u001b[0mStart with 'tensorboard --logdir runs\\detect\\train13', view at http://localhost:6006/\n",
      "Freezing layer 'model.22.dfl.conv.weight'\n",
      "\u001b[34m\u001b[1mtrain: \u001b[0mScanning C:\\Users\\rifal\\Desktop\\CAPSTONE\\Fainting-Detection-4\\train\\labels.cache... 1008 images, 0 backgrounds, 0 corrupt: 100%|██████████| 1008/1008 [00:00<?, ?it/s]\n",
      "\u001b[34m\u001b[1mval: \u001b[0mScanning C:\\Users\\rifal\\Desktop\\CAPSTONE\\Fainting-Detection-4\\valid\\labels.cache... 330 images, 0 backgrounds, 0 corrupt: 100%|██████████| 330/330 [00:00<?, ?it/s]\n",
      "Plotting labels to runs\\detect\\train13\\labels.jpg... \n"
     ]
    },
    {
     "ename": "",
     "evalue": "",
     "output_type": "error",
     "traceback": [
      "\u001b[1;31mThe Kernel crashed while executing code in the the current cell or a previous cell. Please review the code in the cell(s) to identify a possible cause of the failure. Click <a href='https://aka.ms/vscodeJupyterKernelCrash'>here</a> for more info. View Jupyter <a href='command:jupyter.viewOutput'>log</a> for further details."
     ]
    }
   ],
   "source": [
    "training = model.train(data='C:/Users/rifal/Desktop/CAPSTONE/Fainting-Detection-4/data.yaml', workers=8, batch=8, epochs=200, patience=5)"
   ]
  },
  {
   "cell_type": "code",
   "execution_count": null,
   "id": "c9a037a0",
   "metadata": {},
   "outputs": [
    {
     "name": "stderr",
     "output_type": "stream",
     "text": [
      "\n",
      "0: 384x640 (no detections), 68.6ms\n",
      "Speed: 2.3ms preprocess, 68.6ms inference, 0.5ms postprocess per image at shape (1, 3, 384, 640)\n",
      "\n",
      "0: 384x640 (no detections), 60.3ms\n",
      "Speed: 1.0ms preprocess, 60.3ms inference, 1.2ms postprocess per image at shape (1, 3, 384, 640)\n",
      "\n",
      "0: 384x640 (no detections), 52.1ms\n",
      "Speed: 1.2ms preprocess, 52.1ms inference, 1.4ms postprocess per image at shape (1, 3, 384, 640)\n",
      "\n",
      "0: 384x640 (no detections), 50.9ms\n",
      "Speed: 1.0ms preprocess, 50.9ms inference, 1.3ms postprocess per image at shape (1, 3, 384, 640)\n",
      "\n",
      "0: 384x640 (no detections), 51.9ms\n",
      "Speed: 0.0ms preprocess, 51.9ms inference, 1.2ms postprocess per image at shape (1, 3, 384, 640)\n",
      "\n",
      "0: 384x640 (no detections), 54.1ms\n",
      "Speed: 1.1ms preprocess, 54.1ms inference, 1.1ms postprocess per image at shape (1, 3, 384, 640)\n",
      "\n",
      "0: 384x640 (no detections), 62.4ms\n",
      "Speed: 1.0ms preprocess, 62.4ms inference, 0.0ms postprocess per image at shape (1, 3, 384, 640)\n",
      "\n",
      "0: 384x640 (no detections), 57.5ms\n",
      "Speed: 1.1ms preprocess, 57.5ms inference, 0.0ms postprocess per image at shape (1, 3, 384, 640)\n",
      "\n",
      "0: 384x640 (no detections), 53.1ms\n",
      "Speed: 1.0ms preprocess, 53.1ms inference, 0.0ms postprocess per image at shape (1, 3, 384, 640)\n",
      "\n",
      "0: 384x640 (no detections), 59.5ms\n",
      "Speed: 0.0ms preprocess, 59.5ms inference, 0.0ms postprocess per image at shape (1, 3, 384, 640)\n",
      "\n",
      "0: 384x640 (no detections), 47.0ms\n",
      "Speed: 0.0ms preprocess, 47.0ms inference, 0.0ms postprocess per image at shape (1, 3, 384, 640)\n",
      "\n",
      "0: 384x640 (no detections), 45.0ms\n",
      "Speed: 1.0ms preprocess, 45.0ms inference, 0.0ms postprocess per image at shape (1, 3, 384, 640)\n",
      "\n",
      "0: 384x640 (no detections), 52.0ms\n",
      "Speed: 1.0ms preprocess, 52.0ms inference, 0.0ms postprocess per image at shape (1, 3, 384, 640)\n",
      "\n",
      "0: 384x640 (no detections), 49.9ms\n",
      "Speed: 0.0ms preprocess, 49.9ms inference, 1.0ms postprocess per image at shape (1, 3, 384, 640)\n",
      "\n",
      "0: 384x640 (no detections), 47.1ms\n",
      "Speed: 1.1ms preprocess, 47.1ms inference, 1.5ms postprocess per image at shape (1, 3, 384, 640)\n",
      "\n",
      "0: 384x640 (no detections), 49.9ms\n",
      "Speed: 1.0ms preprocess, 49.9ms inference, 0.0ms postprocess per image at shape (1, 3, 384, 640)\n",
      "\n",
      "0: 384x640 (no detections), 77.3ms\n",
      "Speed: 0.0ms preprocess, 77.3ms inference, 0.0ms postprocess per image at shape (1, 3, 384, 640)\n",
      "\n",
      "0: 384x640 (no detections), 55.7ms\n",
      "Speed: 1.2ms preprocess, 55.7ms inference, 0.0ms postprocess per image at shape (1, 3, 384, 640)\n",
      "\n",
      "0: 384x640 (no detections), 53.5ms\n",
      "Speed: 0.0ms preprocess, 53.5ms inference, 1.0ms postprocess per image at shape (1, 3, 384, 640)\n",
      "\n",
      "0: 384x640 (no detections), 50.4ms\n",
      "Speed: 0.0ms preprocess, 50.4ms inference, 1.0ms postprocess per image at shape (1, 3, 384, 640)\n",
      "\n",
      "0: 384x640 (no detections), 48.1ms\n",
      "Speed: 1.3ms preprocess, 48.1ms inference, 1.2ms postprocess per image at shape (1, 3, 384, 640)\n",
      "\n",
      "0: 384x640 (no detections), 47.3ms\n",
      "Speed: 1.0ms preprocess, 47.3ms inference, 1.2ms postprocess per image at shape (1, 3, 384, 640)\n",
      "\n",
      "0: 384x640 (no detections), 58.6ms\n",
      "Speed: 1.0ms preprocess, 58.6ms inference, 1.0ms postprocess per image at shape (1, 3, 384, 640)\n",
      "\n",
      "0: 384x640 (no detections), 57.2ms\n",
      "Speed: 1.0ms preprocess, 57.2ms inference, 0.0ms postprocess per image at shape (1, 3, 384, 640)\n",
      "\n",
      "0: 384x640 (no detections), 47.9ms\n",
      "Speed: 1.1ms preprocess, 47.9ms inference, 1.3ms postprocess per image at shape (1, 3, 384, 640)\n",
      "\n",
      "0: 384x640 (no detections), 49.0ms\n",
      "Speed: 1.4ms preprocess, 49.0ms inference, 1.4ms postprocess per image at shape (1, 3, 384, 640)\n",
      "\n",
      "0: 384x640 (no detections), 47.2ms\n",
      "Speed: 1.0ms preprocess, 47.2ms inference, 0.0ms postprocess per image at shape (1, 3, 384, 640)\n",
      "\n",
      "0: 384x640 (no detections), 46.8ms\n",
      "Speed: 1.1ms preprocess, 46.8ms inference, 1.0ms postprocess per image at shape (1, 3, 384, 640)\n",
      "\n",
      "0: 384x640 (no detections), 49.4ms\n",
      "Speed: 1.0ms preprocess, 49.4ms inference, 0.0ms postprocess per image at shape (1, 3, 384, 640)\n",
      "\n",
      "0: 384x640 (no detections), 57.0ms\n",
      "Speed: 0.0ms preprocess, 57.0ms inference, 1.5ms postprocess per image at shape (1, 3, 384, 640)\n",
      "\n",
      "0: 384x640 (no detections), 64.0ms\n",
      "Speed: 1.5ms preprocess, 64.0ms inference, 0.0ms postprocess per image at shape (1, 3, 384, 640)\n",
      "\n",
      "0: 384x640 (no detections), 53.0ms\n",
      "Speed: 1.0ms preprocess, 53.0ms inference, 0.0ms postprocess per image at shape (1, 3, 384, 640)\n",
      "\n",
      "0: 384x640 (no detections), 50.2ms\n",
      "Speed: 1.0ms preprocess, 50.2ms inference, 0.0ms postprocess per image at shape (1, 3, 384, 640)\n",
      "\n",
      "0: 384x640 (no detections), 50.4ms\n",
      "Speed: 1.1ms preprocess, 50.4ms inference, 0.0ms postprocess per image at shape (1, 3, 384, 640)\n",
      "\n",
      "0: 384x640 (no detections), 46.7ms\n",
      "Speed: 1.0ms preprocess, 46.7ms inference, 1.5ms postprocess per image at shape (1, 3, 384, 640)\n",
      "\n",
      "0: 384x640 (no detections), 48.0ms\n",
      "Speed: 1.0ms preprocess, 48.0ms inference, 0.0ms postprocess per image at shape (1, 3, 384, 640)\n",
      "\n",
      "0: 384x640 (no detections), 47.3ms\n",
      "Speed: 1.5ms preprocess, 47.3ms inference, 0.0ms postprocess per image at shape (1, 3, 384, 640)\n",
      "\n",
      "0: 384x640 (no detections), 51.8ms\n",
      "Speed: 1.1ms preprocess, 51.8ms inference, 0.0ms postprocess per image at shape (1, 3, 384, 640)\n",
      "\n",
      "0: 384x640 (no detections), 50.6ms\n",
      "Speed: 1.1ms preprocess, 50.6ms inference, 1.0ms postprocess per image at shape (1, 3, 384, 640)\n",
      "\n",
      "0: 384x640 (no detections), 50.9ms\n",
      "Speed: 1.0ms preprocess, 50.9ms inference, 1.3ms postprocess per image at shape (1, 3, 384, 640)\n",
      "\n",
      "0: 384x640 (no detections), 74.5ms\n",
      "Speed: 1.0ms preprocess, 74.5ms inference, 0.0ms postprocess per image at shape (1, 3, 384, 640)\n",
      "\n",
      "0: 384x640 (no detections), 46.1ms\n",
      "Speed: 1.0ms preprocess, 46.1ms inference, 0.0ms postprocess per image at shape (1, 3, 384, 640)\n",
      "\n",
      "0: 384x640 (no detections), 46.0ms\n",
      "Speed: 1.0ms preprocess, 46.0ms inference, 1.1ms postprocess per image at shape (1, 3, 384, 640)\n",
      "\n",
      "0: 384x640 (no detections), 57.8ms\n",
      "Speed: 11.5ms preprocess, 57.8ms inference, 0.0ms postprocess per image at shape (1, 3, 384, 640)\n",
      "\n",
      "0: 384x640 (no detections), 49.9ms\n",
      "Speed: 1.5ms preprocess, 49.9ms inference, 1.0ms postprocess per image at shape (1, 3, 384, 640)\n",
      "\n",
      "0: 384x640 (no detections), 51.7ms\n",
      "Speed: 1.1ms preprocess, 51.7ms inference, 0.7ms postprocess per image at shape (1, 3, 384, 640)\n",
      "\n",
      "0: 384x640 (no detections), 48.9ms\n",
      "Speed: 1.1ms preprocess, 48.9ms inference, 0.0ms postprocess per image at shape (1, 3, 384, 640)\n",
      "\n",
      "0: 384x640 (no detections), 46.2ms\n",
      "Speed: 1.0ms preprocess, 46.2ms inference, 1.5ms postprocess per image at shape (1, 3, 384, 640)\n",
      "\n",
      "0: 384x640 (no detections), 49.9ms\n",
      "Speed: 1.0ms preprocess, 49.9ms inference, 0.0ms postprocess per image at shape (1, 3, 384, 640)\n",
      "\n",
      "0: 384x640 (no detections), 50.5ms\n",
      "Speed: 2.0ms preprocess, 50.5ms inference, 0.0ms postprocess per image at shape (1, 3, 384, 640)\n",
      "\n",
      "0: 384x640 (no detections), 49.8ms\n",
      "Speed: 1.0ms preprocess, 49.8ms inference, 1.0ms postprocess per image at shape (1, 3, 384, 640)\n",
      "\n",
      "0: 384x640 (no detections), 51.1ms\n",
      "Speed: 1.3ms preprocess, 51.1ms inference, 1.2ms postprocess per image at shape (1, 3, 384, 640)\n",
      "\n",
      "0: 384x640 (no detections), 50.1ms\n",
      "Speed: 1.0ms preprocess, 50.1ms inference, 1.2ms postprocess per image at shape (1, 3, 384, 640)\n",
      "\n",
      "0: 384x640 (no detections), 50.5ms\n",
      "Speed: 1.0ms preprocess, 50.5ms inference, 0.0ms postprocess per image at shape (1, 3, 384, 640)\n",
      "\n",
      "0: 384x640 (no detections), 60.5ms\n",
      "Speed: 1.0ms preprocess, 60.5ms inference, 0.0ms postprocess per image at shape (1, 3, 384, 640)\n",
      "\n",
      "0: 384x640 (no detections), 51.5ms\n",
      "Speed: 1.0ms preprocess, 51.5ms inference, 1.1ms postprocess per image at shape (1, 3, 384, 640)\n",
      "\n",
      "0: 384x640 (no detections), 55.1ms\n",
      "Speed: 1.0ms preprocess, 55.1ms inference, 1.2ms postprocess per image at shape (1, 3, 384, 640)\n",
      "\n",
      "0: 384x640 (no detections), 55.8ms\n",
      "Speed: 1.0ms preprocess, 55.8ms inference, 1.2ms postprocess per image at shape (1, 3, 384, 640)\n",
      "\n",
      "0: 384x640 (no detections), 61.8ms\n",
      "Speed: 1.4ms preprocess, 61.8ms inference, 1.0ms postprocess per image at shape (1, 3, 384, 640)\n",
      "\n",
      "0: 384x640 (no detections), 60.5ms\n",
      "Speed: 1.0ms preprocess, 60.5ms inference, 1.0ms postprocess per image at shape (1, 3, 384, 640)\n",
      "\n",
      "0: 384x640 (no detections), 79.0ms\n",
      "Speed: 1.0ms preprocess, 79.0ms inference, 1.0ms postprocess per image at shape (1, 3, 384, 640)\n",
      "\n",
      "0: 384x640 (no detections), 83.0ms\n",
      "Speed: 1.1ms preprocess, 83.0ms inference, 0.0ms postprocess per image at shape (1, 3, 384, 640)\n",
      "\n",
      "0: 384x640 (no detections), 72.1ms\n",
      "Speed: 0.0ms preprocess, 72.1ms inference, 0.0ms postprocess per image at shape (1, 3, 384, 640)\n",
      "\n",
      "0: 384x640 (no detections), 56.7ms\n",
      "Speed: 1.2ms preprocess, 56.7ms inference, 1.3ms postprocess per image at shape (1, 3, 384, 640)\n",
      "\n",
      "0: 384x640 (no detections), 69.1ms\n",
      "Speed: 1.3ms preprocess, 69.1ms inference, 0.0ms postprocess per image at shape (1, 3, 384, 640)\n",
      "\n",
      "0: 384x640 (no detections), 44.9ms\n",
      "Speed: 1.0ms preprocess, 44.9ms inference, 1.0ms postprocess per image at shape (1, 3, 384, 640)\n",
      "\n",
      "0: 384x640 (no detections), 90.5ms\n",
      "Speed: 1.1ms preprocess, 90.5ms inference, 1.0ms postprocess per image at shape (1, 3, 384, 640)\n",
      "\n",
      "0: 384x640 (no detections), 51.0ms\n",
      "Speed: 1.0ms preprocess, 51.0ms inference, 1.4ms postprocess per image at shape (1, 3, 384, 640)\n",
      "\n",
      "0: 384x640 (no detections), 82.0ms\n",
      "Speed: 1.0ms preprocess, 82.0ms inference, 1.0ms postprocess per image at shape (1, 3, 384, 640)\n",
      "\n",
      "0: 384x640 (no detections), 73.3ms\n",
      "Speed: 1.3ms preprocess, 73.3ms inference, 0.0ms postprocess per image at shape (1, 3, 384, 640)\n",
      "\n",
      "0: 384x640 (no detections), 69.3ms\n",
      "Speed: 0.7ms preprocess, 69.3ms inference, 0.0ms postprocess per image at shape (1, 3, 384, 640)\n",
      "\n",
      "0: 384x640 (no detections), 67.3ms\n",
      "Speed: 1.2ms preprocess, 67.3ms inference, 1.0ms postprocess per image at shape (1, 3, 384, 640)\n",
      "\n",
      "0: 384x640 (no detections), 66.0ms\n",
      "Speed: 1.1ms preprocess, 66.0ms inference, 1.0ms postprocess per image at shape (1, 3, 384, 640)\n",
      "\n",
      "0: 384x640 (no detections), 57.1ms\n",
      "Speed: 1.1ms preprocess, 57.1ms inference, 0.0ms postprocess per image at shape (1, 3, 384, 640)\n",
      "\n",
      "0: 384x640 (no detections), 56.2ms\n",
      "Speed: 1.2ms preprocess, 56.2ms inference, 1.5ms postprocess per image at shape (1, 3, 384, 640)\n",
      "\n",
      "0: 384x640 (no detections), 53.0ms\n",
      "Speed: 2.0ms preprocess, 53.0ms inference, 0.0ms postprocess per image at shape (1, 3, 384, 640)\n",
      "\n",
      "0: 384x640 (no detections), 52.3ms\n",
      "Speed: 1.1ms preprocess, 52.3ms inference, 1.0ms postprocess per image at shape (1, 3, 384, 640)\n",
      "\n",
      "0: 384x640 (no detections), 54.2ms\n",
      "Speed: 1.0ms preprocess, 54.2ms inference, 0.0ms postprocess per image at shape (1, 3, 384, 640)\n",
      "\n",
      "0: 384x640 (no detections), 51.3ms\n",
      "Speed: 0.6ms preprocess, 51.3ms inference, 1.0ms postprocess per image at shape (1, 3, 384, 640)\n",
      "\n",
      "0: 384x640 (no detections), 49.2ms\n",
      "Speed: 0.0ms preprocess, 49.2ms inference, 0.0ms postprocess per image at shape (1, 3, 384, 640)\n",
      "\n",
      "0: 384x640 (no detections), 63.3ms\n",
      "Speed: 0.0ms preprocess, 63.3ms inference, 0.0ms postprocess per image at shape (1, 3, 384, 640)\n",
      "\n",
      "0: 384x640 (no detections), 69.4ms\n",
      "Speed: 0.0ms preprocess, 69.4ms inference, 1.0ms postprocess per image at shape (1, 3, 384, 640)\n",
      "\n",
      "0: 384x640 (no detections), 66.2ms\n",
      "Speed: 1.0ms preprocess, 66.2ms inference, 1.0ms postprocess per image at shape (1, 3, 384, 640)\n",
      "\n",
      "0: 384x640 (no detections), 61.5ms\n",
      "Speed: 1.0ms preprocess, 61.5ms inference, 1.0ms postprocess per image at shape (1, 3, 384, 640)\n",
      "\n",
      "0: 384x640 (no detections), 62.4ms\n",
      "Speed: 1.1ms preprocess, 62.4ms inference, 1.0ms postprocess per image at shape (1, 3, 384, 640)\n",
      "\n",
      "0: 384x640 (no detections), 64.2ms\n",
      "Speed: 2.4ms preprocess, 64.2ms inference, 0.0ms postprocess per image at shape (1, 3, 384, 640)\n",
      "\n",
      "0: 384x640 (no detections), 76.0ms\n",
      "Speed: 1.0ms preprocess, 76.0ms inference, 1.0ms postprocess per image at shape (1, 3, 384, 640)\n",
      "\n",
      "0: 384x640 (no detections), 104.1ms\n",
      "Speed: 1.0ms preprocess, 104.1ms inference, 1.0ms postprocess per image at shape (1, 3, 384, 640)\n",
      "\n",
      "0: 384x640 (no detections), 121.7ms\n",
      "Speed: 2.0ms preprocess, 121.7ms inference, 1.0ms postprocess per image at shape (1, 3, 384, 640)\n",
      "\n",
      "0: 384x640 (no detections), 99.8ms\n",
      "Speed: 2.0ms preprocess, 99.8ms inference, 0.0ms postprocess per image at shape (1, 3, 384, 640)\n",
      "\n",
      "0: 384x640 (no detections), 102.0ms\n",
      "Speed: 1.0ms preprocess, 102.0ms inference, 0.0ms postprocess per image at shape (1, 3, 384, 640)\n",
      "\n",
      "0: 384x640 (no detections), 108.7ms\n",
      "Speed: 1.0ms preprocess, 108.7ms inference, 1.0ms postprocess per image at shape (1, 3, 384, 640)\n",
      "\n",
      "0: 384x640 (no detections), 94.0ms\n",
      "Speed: 1.0ms preprocess, 94.0ms inference, 0.0ms postprocess per image at shape (1, 3, 384, 640)\n",
      "\n",
      "0: 384x640 (no detections), 83.4ms\n",
      "Speed: 0.6ms preprocess, 83.4ms inference, 1.0ms postprocess per image at shape (1, 3, 384, 640)\n",
      "\n",
      "0: 384x640 (no detections), 61.2ms\n",
      "Speed: 0.9ms preprocess, 61.2ms inference, 1.0ms postprocess per image at shape (1, 3, 384, 640)\n",
      "\n",
      "0: 384x640 (no detections), 67.8ms\n",
      "Speed: 2.5ms preprocess, 67.8ms inference, 0.0ms postprocess per image at shape (1, 3, 384, 640)\n",
      "\n",
      "0: 384x640 (no detections), 66.8ms\n",
      "Speed: 0.9ms preprocess, 66.8ms inference, 0.0ms postprocess per image at shape (1, 3, 384, 640)\n",
      "\n",
      "0: 384x640 (no detections), 72.5ms\n",
      "Speed: 0.0ms preprocess, 72.5ms inference, 1.0ms postprocess per image at shape (1, 3, 384, 640)\n",
      "\n",
      "0: 384x640 (no detections), 68.6ms\n",
      "Speed: 1.0ms preprocess, 68.6ms inference, 0.0ms postprocess per image at shape (1, 3, 384, 640)\n",
      "\n",
      "0: 384x640 1 fainted, 53.7ms\n",
      "Speed: 1.0ms preprocess, 53.7ms inference, 1.0ms postprocess per image at shape (1, 3, 384, 640)\n",
      "\n",
      "0: 384x640 1 fainted, 66.1ms\n",
      "Speed: 1.1ms preprocess, 66.1ms inference, 0.0ms postprocess per image at shape (1, 3, 384, 640)\n",
      "\n",
      "0: 384x640 1 fainted, 51.2ms\n",
      "Speed: 0.0ms preprocess, 51.2ms inference, 1.0ms postprocess per image at shape (1, 3, 384, 640)\n",
      "\n",
      "0: 384x640 1 fainted, 59.8ms\n",
      "Speed: 1.1ms preprocess, 59.8ms inference, 0.0ms postprocess per image at shape (1, 3, 384, 640)\n",
      "\n",
      "0: 384x640 1 fainted, 58.9ms\n",
      "Speed: 1.1ms preprocess, 58.9ms inference, 1.0ms postprocess per image at shape (1, 3, 384, 640)\n",
      "\n",
      "0: 384x640 1 fainted, 62.6ms\n",
      "Speed: 1.3ms preprocess, 62.6ms inference, 0.0ms postprocess per image at shape (1, 3, 384, 640)\n",
      "\n",
      "0: 384x640 1 fainted, 89.3ms\n",
      "Speed: 1.0ms preprocess, 89.3ms inference, 1.0ms postprocess per image at shape (1, 3, 384, 640)\n",
      "\n",
      "0: 384x640 1 fainted, 95.6ms\n",
      "Speed: 1.0ms preprocess, 95.6ms inference, 0.0ms postprocess per image at shape (1, 3, 384, 640)\n",
      "\n",
      "0: 384x640 1 fainted, 91.4ms\n",
      "Speed: 1.5ms preprocess, 91.4ms inference, 0.0ms postprocess per image at shape (1, 3, 384, 640)\n",
      "\n",
      "0: 384x640 1 fainted, 99.8ms\n",
      "Speed: 1.1ms preprocess, 99.8ms inference, 1.0ms postprocess per image at shape (1, 3, 384, 640)\n",
      "\n",
      "0: 384x640 (no detections), 79.9ms\n",
      "Speed: 0.0ms preprocess, 79.9ms inference, 1.5ms postprocess per image at shape (1, 3, 384, 640)\n",
      "\n",
      "0: 384x640 (no detections), 73.0ms\n",
      "Speed: 1.2ms preprocess, 73.0ms inference, 0.0ms postprocess per image at shape (1, 3, 384, 640)\n",
      "\n",
      "0: 384x640 (no detections), 68.0ms\n",
      "Speed: 1.0ms preprocess, 68.0ms inference, 0.0ms postprocess per image at shape (1, 3, 384, 640)\n",
      "\n",
      "0: 384x640 (no detections), 57.5ms\n",
      "Speed: 2.6ms preprocess, 57.5ms inference, 0.0ms postprocess per image at shape (1, 3, 384, 640)\n",
      "\n",
      "0: 384x640 (no detections), 55.3ms\n",
      "Speed: 1.0ms preprocess, 55.3ms inference, 1.0ms postprocess per image at shape (1, 3, 384, 640)\n",
      "\n",
      "0: 384x640 (no detections), 46.5ms\n",
      "Speed: 1.5ms preprocess, 46.5ms inference, 0.0ms postprocess per image at shape (1, 3, 384, 640)\n",
      "\n",
      "0: 384x640 (no detections), 49.1ms\n",
      "Speed: 1.2ms preprocess, 49.1ms inference, 0.0ms postprocess per image at shape (1, 3, 384, 640)\n",
      "\n",
      "0: 384x640 (no detections), 66.0ms\n",
      "Speed: 1.0ms preprocess, 66.0ms inference, 0.0ms postprocess per image at shape (1, 3, 384, 640)\n",
      "\n",
      "0: 384x640 (no detections), 73.9ms\n",
      "Speed: 0.0ms preprocess, 73.9ms inference, 0.0ms postprocess per image at shape (1, 3, 384, 640)\n",
      "\n",
      "0: 384x640 1 fainted, 91.2ms\n",
      "Speed: 1.0ms preprocess, 91.2ms inference, 1.0ms postprocess per image at shape (1, 3, 384, 640)\n",
      "\n",
      "0: 384x640 1 fainted, 112.8ms\n",
      "Speed: 1.0ms preprocess, 112.8ms inference, 1.0ms postprocess per image at shape (1, 3, 384, 640)\n",
      "\n",
      "0: 384x640 (no detections), 102.0ms\n",
      "Speed: 0.9ms preprocess, 102.0ms inference, 0.0ms postprocess per image at shape (1, 3, 384, 640)\n",
      "\n",
      "0: 384x640 1 fainted, 84.9ms\n",
      "Speed: 1.1ms preprocess, 84.9ms inference, 0.0ms postprocess per image at shape (1, 3, 384, 640)\n",
      "\n",
      "0: 384x640 1 fainted, 79.3ms\n",
      "Speed: 1.0ms preprocess, 79.3ms inference, 0.0ms postprocess per image at shape (1, 3, 384, 640)\n",
      "\n",
      "0: 384x640 (no detections), 61.7ms\n",
      "Speed: 1.0ms preprocess, 61.7ms inference, 0.0ms postprocess per image at shape (1, 3, 384, 640)\n",
      "\n",
      "0: 384x640 (no detections), 61.1ms\n",
      "Speed: 1.6ms preprocess, 61.1ms inference, 1.0ms postprocess per image at shape (1, 3, 384, 640)\n",
      "\n",
      "0: 384x640 (no detections), 58.1ms\n",
      "Speed: 1.0ms preprocess, 58.1ms inference, 0.0ms postprocess per image at shape (1, 3, 384, 640)\n",
      "\n",
      "0: 384x640 1 fainted, 53.6ms\n",
      "Speed: 1.0ms preprocess, 53.6ms inference, 0.0ms postprocess per image at shape (1, 3, 384, 640)\n",
      "\n",
      "0: 384x640 1 fainted, 58.5ms\n",
      "Speed: 1.1ms preprocess, 58.5ms inference, 1.5ms postprocess per image at shape (1, 3, 384, 640)\n",
      "\n",
      "0: 384x640 1 fainted, 70.9ms\n",
      "Speed: 1.0ms preprocess, 70.9ms inference, 0.0ms postprocess per image at shape (1, 3, 384, 640)\n",
      "\n",
      "0: 384x640 1 fainted, 106.7ms\n",
      "Speed: 0.9ms preprocess, 106.7ms inference, 1.0ms postprocess per image at shape (1, 3, 384, 640)\n",
      "\n",
      "0: 384x640 1 fainted, 70.2ms\n",
      "Speed: 2.0ms preprocess, 70.2ms inference, 0.0ms postprocess per image at shape (1, 3, 384, 640)\n",
      "\n",
      "0: 384x640 (no detections), 81.8ms\n",
      "Speed: 1.0ms preprocess, 81.8ms inference, 0.0ms postprocess per image at shape (1, 3, 384, 640)\n",
      "\n",
      "0: 384x640 (no detections), 63.1ms\n",
      "Speed: 1.0ms preprocess, 63.1ms inference, 0.5ms postprocess per image at shape (1, 3, 384, 640)\n",
      "\n",
      "0: 384x640 1 fainted, 58.3ms\n",
      "Speed: 0.0ms preprocess, 58.3ms inference, 1.6ms postprocess per image at shape (1, 3, 384, 640)\n",
      "\n",
      "0: 384x640 1 fainted, 111.1ms\n",
      "Speed: 1.1ms preprocess, 111.1ms inference, 1.0ms postprocess per image at shape (1, 3, 384, 640)\n",
      "\n",
      "0: 384x640 (no detections), 81.7ms\n",
      "Speed: 1.0ms preprocess, 81.7ms inference, 0.0ms postprocess per image at shape (1, 3, 384, 640)\n",
      "\n",
      "0: 384x640 1 fainted, 60.3ms\n",
      "Speed: 0.9ms preprocess, 60.3ms inference, 1.0ms postprocess per image at shape (1, 3, 384, 640)\n",
      "\n",
      "0: 384x640 1 fainted, 67.8ms\n",
      "Speed: 1.0ms preprocess, 67.8ms inference, 1.0ms postprocess per image at shape (1, 3, 384, 640)\n",
      "\n",
      "0: 384x640 (no detections), 72.7ms\n",
      "Speed: 1.0ms preprocess, 72.7ms inference, 1.0ms postprocess per image at shape (1, 3, 384, 640)\n",
      "\n",
      "0: 384x640 1 fainted, 76.4ms\n",
      "Speed: 2.0ms preprocess, 76.4ms inference, 1.0ms postprocess per image at shape (1, 3, 384, 640)\n",
      "\n",
      "0: 384x640 1 fainted, 87.8ms\n",
      "Speed: 1.0ms preprocess, 87.8ms inference, 0.0ms postprocess per image at shape (1, 3, 384, 640)\n",
      "\n",
      "0: 384x640 1 fainted, 78.8ms\n",
      "Speed: 0.9ms preprocess, 78.8ms inference, 1.0ms postprocess per image at shape (1, 3, 384, 640)\n",
      "\n",
      "0: 384x640 1 fainted, 74.2ms\n",
      "Speed: 1.0ms preprocess, 74.2ms inference, 0.0ms postprocess per image at shape (1, 3, 384, 640)\n",
      "\n",
      "0: 384x640 1 fainted, 60.1ms\n",
      "Speed: 0.0ms preprocess, 60.1ms inference, 1.0ms postprocess per image at shape (1, 3, 384, 640)\n",
      "\n",
      "0: 384x640 1 fainted, 54.6ms\n",
      "Speed: 1.2ms preprocess, 54.6ms inference, 0.5ms postprocess per image at shape (1, 3, 384, 640)\n",
      "\n",
      "0: 384x640 1 fainted, 46.1ms\n",
      "Speed: 1.0ms preprocess, 46.1ms inference, 1.0ms postprocess per image at shape (1, 3, 384, 640)\n",
      "\n",
      "0: 384x640 1 fainted, 46.1ms\n",
      "Speed: 1.5ms preprocess, 46.1ms inference, 1.5ms postprocess per image at shape (1, 3, 384, 640)\n",
      "\n",
      "0: 384x640 1 fainted, 48.7ms\n",
      "Speed: 0.0ms preprocess, 48.7ms inference, 1.0ms postprocess per image at shape (1, 3, 384, 640)\n",
      "\n",
      "0: 384x640 1 fainted, 48.2ms\n",
      "Speed: 1.0ms preprocess, 48.2ms inference, 1.0ms postprocess per image at shape (1, 3, 384, 640)\n",
      "\n",
      "0: 384x640 1 fainted, 52.1ms\n",
      "Speed: 1.0ms preprocess, 52.1ms inference, 1.0ms postprocess per image at shape (1, 3, 384, 640)\n",
      "\n",
      "0: 384x640 1 fainted, 43.1ms\n",
      "Speed: 1.0ms preprocess, 43.1ms inference, 1.0ms postprocess per image at shape (1, 3, 384, 640)\n",
      "\n",
      "0: 384x640 1 fainted, 55.8ms\n",
      "Speed: 1.0ms preprocess, 55.8ms inference, 1.0ms postprocess per image at shape (1, 3, 384, 640)\n",
      "\n",
      "0: 384x640 1 fainted, 96.6ms\n",
      "Speed: 1.0ms preprocess, 96.6ms inference, 1.0ms postprocess per image at shape (1, 3, 384, 640)\n",
      "\n",
      "0: 384x640 1 fainted, 79.9ms\n",
      "Speed: 1.0ms preprocess, 79.9ms inference, 1.5ms postprocess per image at shape (1, 3, 384, 640)\n",
      "\n",
      "0: 384x640 1 fainted, 49.2ms\n",
      "Speed: 1.0ms preprocess, 49.2ms inference, 1.0ms postprocess per image at shape (1, 3, 384, 640)\n",
      "\n",
      "0: 384x640 1 fainted, 62.4ms\n",
      "Speed: 1.2ms preprocess, 62.4ms inference, 0.0ms postprocess per image at shape (1, 3, 384, 640)\n",
      "\n",
      "0: 384x640 1 fainted, 62.0ms\n",
      "Speed: 1.0ms preprocess, 62.0ms inference, 0.0ms postprocess per image at shape (1, 3, 384, 640)\n",
      "\n",
      "0: 384x640 1 fainted, 67.6ms\n",
      "Speed: 1.3ms preprocess, 67.6ms inference, 1.1ms postprocess per image at shape (1, 3, 384, 640)\n",
      "\n",
      "0: 384x640 1 fainted, 53.0ms\n",
      "Speed: 1.0ms preprocess, 53.0ms inference, 0.0ms postprocess per image at shape (1, 3, 384, 640)\n",
      "\n",
      "0: 384x640 1 fainted, 78.8ms\n",
      "Speed: 1.0ms preprocess, 78.8ms inference, 1.1ms postprocess per image at shape (1, 3, 384, 640)\n",
      "\n",
      "0: 384x640 1 fainted, 98.8ms\n",
      "Speed: 2.5ms preprocess, 98.8ms inference, 1.0ms postprocess per image at shape (1, 3, 384, 640)\n",
      "\n",
      "0: 384x640 1 fainted, 93.7ms\n",
      "Speed: 0.9ms preprocess, 93.7ms inference, 0.0ms postprocess per image at shape (1, 3, 384, 640)\n",
      "\n",
      "0: 384x640 1 fainted, 77.6ms\n",
      "Speed: 1.0ms preprocess, 77.6ms inference, 1.0ms postprocess per image at shape (1, 3, 384, 640)\n",
      "\n",
      "0: 384x640 1 fainted, 58.6ms\n",
      "Speed: 1.0ms preprocess, 58.6ms inference, 1.0ms postprocess per image at shape (1, 3, 384, 640)\n",
      "\n",
      "0: 384x640 1 fainted, 79.8ms\n",
      "Speed: 2.0ms preprocess, 79.8ms inference, 1.5ms postprocess per image at shape (1, 3, 384, 640)\n",
      "\n",
      "0: 384x640 1 fainted, 63.6ms\n",
      "Speed: 0.9ms preprocess, 63.6ms inference, 1.0ms postprocess per image at shape (1, 3, 384, 640)\n",
      "\n",
      "0: 384x640 1 fainted, 48.4ms\n",
      "Speed: 1.5ms preprocess, 48.4ms inference, 1.7ms postprocess per image at shape (1, 3, 384, 640)\n",
      "\n",
      "0: 384x640 1 fainted, 53.6ms\n",
      "Speed: 0.0ms preprocess, 53.6ms inference, 0.0ms postprocess per image at shape (1, 3, 384, 640)\n",
      "\n",
      "0: 384x640 1 fainted, 55.8ms\n",
      "Speed: 2.0ms preprocess, 55.8ms inference, 1.0ms postprocess per image at shape (1, 3, 384, 640)\n",
      "\n",
      "0: 384x640 1 fainted, 62.7ms\n",
      "Speed: 1.0ms preprocess, 62.7ms inference, 0.0ms postprocess per image at shape (1, 3, 384, 640)\n",
      "\n",
      "0: 384x640 1 fainted, 59.1ms\n",
      "Speed: 1.0ms preprocess, 59.1ms inference, 1.0ms postprocess per image at shape (1, 3, 384, 640)\n",
      "\n",
      "0: 384x640 1 fainted, 45.3ms\n",
      "Speed: 1.4ms preprocess, 45.3ms inference, 1.1ms postprocess per image at shape (1, 3, 384, 640)\n",
      "\n",
      "0: 384x640 (no detections), 58.5ms\n",
      "Speed: 1.0ms preprocess, 58.5ms inference, 0.0ms postprocess per image at shape (1, 3, 384, 640)\n",
      "\n",
      "0: 384x640 (no detections), 55.2ms\n",
      "Speed: 0.0ms preprocess, 55.2ms inference, 0.0ms postprocess per image at shape (1, 3, 384, 640)\n",
      "\n",
      "0: 384x640 (no detections), 67.9ms\n",
      "Speed: 1.0ms preprocess, 67.9ms inference, 1.0ms postprocess per image at shape (1, 3, 384, 640)\n",
      "\n",
      "0: 384x640 (no detections), 46.7ms\n",
      "Speed: 1.0ms preprocess, 46.7ms inference, 1.0ms postprocess per image at shape (1, 3, 384, 640)\n",
      "\n",
      "0: 384x640 (no detections), 56.2ms\n",
      "Speed: 2.3ms preprocess, 56.2ms inference, 1.0ms postprocess per image at shape (1, 3, 384, 640)\n",
      "\n",
      "0: 384x640 (no detections), 67.3ms\n",
      "Speed: 1.0ms preprocess, 67.3ms inference, 1.0ms postprocess per image at shape (1, 3, 384, 640)\n",
      "\n",
      "0: 384x640 (no detections), 55.8ms\n",
      "Speed: 1.0ms preprocess, 55.8ms inference, 0.0ms postprocess per image at shape (1, 3, 384, 640)\n",
      "\n",
      "0: 384x640 (no detections), 69.9ms\n",
      "Speed: 0.0ms preprocess, 69.9ms inference, 0.0ms postprocess per image at shape (1, 3, 384, 640)\n",
      "\n",
      "0: 384x640 (no detections), 62.6ms\n",
      "Speed: 0.0ms preprocess, 62.6ms inference, 1.0ms postprocess per image at shape (1, 3, 384, 640)\n",
      "\n",
      "0: 384x640 (no detections), 48.4ms\n",
      "Speed: 1.1ms preprocess, 48.4ms inference, 0.0ms postprocess per image at shape (1, 3, 384, 640)\n",
      "\n",
      "0: 384x640 (no detections), 47.8ms\n",
      "Speed: 0.0ms preprocess, 47.8ms inference, 1.0ms postprocess per image at shape (1, 3, 384, 640)\n",
      "\n",
      "0: 384x640 (no detections), 49.8ms\n",
      "Speed: 1.0ms preprocess, 49.8ms inference, 1.2ms postprocess per image at shape (1, 3, 384, 640)\n",
      "\n",
      "0: 384x640 (no detections), 55.6ms\n",
      "Speed: 1.0ms preprocess, 55.6ms inference, 0.0ms postprocess per image at shape (1, 3, 384, 640)\n",
      "\n",
      "0: 384x640 (no detections), 54.8ms\n",
      "Speed: 1.3ms preprocess, 54.8ms inference, 0.0ms postprocess per image at shape (1, 3, 384, 640)\n",
      "\n",
      "0: 384x640 (no detections), 57.3ms\n",
      "Speed: 1.0ms preprocess, 57.3ms inference, 1.0ms postprocess per image at shape (1, 3, 384, 640)\n",
      "\n",
      "0: 384x640 (no detections), 51.7ms\n",
      "Speed: 2.0ms preprocess, 51.7ms inference, 0.0ms postprocess per image at shape (1, 3, 384, 640)\n",
      "\n",
      "0: 384x640 (no detections), 43.4ms\n",
      "Speed: 0.0ms preprocess, 43.4ms inference, 1.0ms postprocess per image at shape (1, 3, 384, 640)\n",
      "\n",
      "0: 384x640 (no detections), 53.8ms\n",
      "Speed: 1.0ms preprocess, 53.8ms inference, 0.0ms postprocess per image at shape (1, 3, 384, 640)\n",
      "\n",
      "0: 384x640 (no detections), 47.3ms\n",
      "Speed: 1.5ms preprocess, 47.3ms inference, 0.0ms postprocess per image at shape (1, 3, 384, 640)\n",
      "\n",
      "0: 384x640 (no detections), 54.7ms\n",
      "Speed: 0.0ms preprocess, 54.7ms inference, 0.0ms postprocess per image at shape (1, 3, 384, 640)\n",
      "\n",
      "0: 384x640 (no detections), 70.5ms\n",
      "Speed: 1.0ms preprocess, 70.5ms inference, 1.0ms postprocess per image at shape (1, 3, 384, 640)\n",
      "\n",
      "0: 384x640 (no detections), 55.3ms\n",
      "Speed: 0.5ms preprocess, 55.3ms inference, 1.0ms postprocess per image at shape (1, 3, 384, 640)\n",
      "\n",
      "0: 384x640 (no detections), 45.8ms\n",
      "Speed: 0.0ms preprocess, 45.8ms inference, 0.0ms postprocess per image at shape (1, 3, 384, 640)\n",
      "\n",
      "0: 384x640 (no detections), 58.8ms\n",
      "Speed: 1.0ms preprocess, 58.8ms inference, 1.2ms postprocess per image at shape (1, 3, 384, 640)\n",
      "\n",
      "0: 384x640 (no detections), 45.3ms\n",
      "Speed: 0.0ms preprocess, 45.3ms inference, 1.0ms postprocess per image at shape (1, 3, 384, 640)\n",
      "\n",
      "0: 384x640 (no detections), 47.4ms\n",
      "Speed: 1.0ms preprocess, 47.4ms inference, 0.0ms postprocess per image at shape (1, 3, 384, 640)\n",
      "\n",
      "0: 384x640 (no detections), 64.3ms\n",
      "Speed: 0.0ms preprocess, 64.3ms inference, 1.2ms postprocess per image at shape (1, 3, 384, 640)\n",
      "\n",
      "0: 384x640 (no detections), 49.9ms\n",
      "Speed: 1.0ms preprocess, 49.9ms inference, 0.0ms postprocess per image at shape (1, 3, 384, 640)\n",
      "\n",
      "0: 384x640 (no detections), 46.9ms\n",
      "Speed: 1.0ms preprocess, 46.9ms inference, 1.0ms postprocess per image at shape (1, 3, 384, 640)\n",
      "\n",
      "0: 384x640 (no detections), 49.7ms\n",
      "Speed: 1.0ms preprocess, 49.7ms inference, 1.3ms postprocess per image at shape (1, 3, 384, 640)\n",
      "\n",
      "0: 384x640 (no detections), 55.7ms\n",
      "Speed: 0.9ms preprocess, 55.7ms inference, 0.0ms postprocess per image at shape (1, 3, 384, 640)\n",
      "\n",
      "0: 384x640 (no detections), 51.7ms\n",
      "Speed: 1.6ms preprocess, 51.7ms inference, 1.0ms postprocess per image at shape (1, 3, 384, 640)\n",
      "\n",
      "0: 384x640 (no detections), 51.5ms\n",
      "Speed: 1.0ms preprocess, 51.5ms inference, 0.0ms postprocess per image at shape (1, 3, 384, 640)\n",
      "\n",
      "0: 384x640 (no detections), 49.8ms\n",
      "Speed: 0.9ms preprocess, 49.8ms inference, 1.2ms postprocess per image at shape (1, 3, 384, 640)\n",
      "\n",
      "0: 384x640 (no detections), 49.1ms\n",
      "Speed: 0.0ms preprocess, 49.1ms inference, 0.0ms postprocess per image at shape (1, 3, 384, 640)\n",
      "\n",
      "0: 384x640 (no detections), 48.4ms\n",
      "Speed: 1.5ms preprocess, 48.4ms inference, 0.0ms postprocess per image at shape (1, 3, 384, 640)\n",
      "\n",
      "0: 384x640 (no detections), 48.9ms\n",
      "Speed: 0.0ms preprocess, 48.9ms inference, 0.0ms postprocess per image at shape (1, 3, 384, 640)\n",
      "\n",
      "0: 384x640 (no detections), 51.4ms\n",
      "Speed: 1.0ms preprocess, 51.4ms inference, 1.0ms postprocess per image at shape (1, 3, 384, 640)\n",
      "\n",
      "0: 384x640 (no detections), 52.2ms\n",
      "Speed: 1.0ms preprocess, 52.2ms inference, 1.1ms postprocess per image at shape (1, 3, 384, 640)\n",
      "\n",
      "0: 384x640 (no detections), 49.7ms\n",
      "Speed: 1.0ms preprocess, 49.7ms inference, 0.0ms postprocess per image at shape (1, 3, 384, 640)\n",
      "\n",
      "0: 384x640 (no detections), 44.1ms\n",
      "Speed: 1.5ms preprocess, 44.1ms inference, 1.4ms postprocess per image at shape (1, 3, 384, 640)\n",
      "\n",
      "0: 384x640 (no detections), 56.3ms\n",
      "Speed: 1.0ms preprocess, 56.3ms inference, 1.6ms postprocess per image at shape (1, 3, 384, 640)\n",
      "\n",
      "0: 384x640 (no detections), 50.2ms\n",
      "Speed: 1.0ms preprocess, 50.2ms inference, 0.0ms postprocess per image at shape (1, 3, 384, 640)\n",
      "\n",
      "0: 384x640 (no detections), 49.5ms\n",
      "Speed: 1.3ms preprocess, 49.5ms inference, 1.1ms postprocess per image at shape (1, 3, 384, 640)\n",
      "\n",
      "0: 384x640 (no detections), 49.0ms\n",
      "Speed: 2.5ms preprocess, 49.0ms inference, 1.4ms postprocess per image at shape (1, 3, 384, 640)\n",
      "\n",
      "0: 384x640 (no detections), 50.9ms\n",
      "Speed: 0.0ms preprocess, 50.9ms inference, 1.2ms postprocess per image at shape (1, 3, 384, 640)\n",
      "\n",
      "0: 384x640 (no detections), 48.5ms\n",
      "Speed: 2.0ms preprocess, 48.5ms inference, 1.0ms postprocess per image at shape (1, 3, 384, 640)\n",
      "\n",
      "0: 384x640 (no detections), 50.6ms\n",
      "Speed: 1.1ms preprocess, 50.6ms inference, 0.0ms postprocess per image at shape (1, 3, 384, 640)\n",
      "\n",
      "0: 384x640 (no detections), 46.2ms\n",
      "Speed: 0.7ms preprocess, 46.2ms inference, 1.2ms postprocess per image at shape (1, 3, 384, 640)\n",
      "\n",
      "0: 384x640 (no detections), 47.7ms\n",
      "Speed: 1.5ms preprocess, 47.7ms inference, 0.0ms postprocess per image at shape (1, 3, 384, 640)\n",
      "\n",
      "0: 384x640 (no detections), 51.5ms\n",
      "Speed: 1.0ms preprocess, 51.5ms inference, 0.0ms postprocess per image at shape (1, 3, 384, 640)\n",
      "\n",
      "0: 384x640 (no detections), 52.7ms\n",
      "Speed: 1.0ms preprocess, 52.7ms inference, 0.0ms postprocess per image at shape (1, 3, 384, 640)\n",
      "\n",
      "0: 384x640 (no detections), 50.4ms\n",
      "Speed: 1.5ms preprocess, 50.4ms inference, 0.0ms postprocess per image at shape (1, 3, 384, 640)\n",
      "\n",
      "0: 384x640 (no detections), 49.1ms\n",
      "Speed: 1.1ms preprocess, 49.1ms inference, 1.3ms postprocess per image at shape (1, 3, 384, 640)\n",
      "\n",
      "0: 384x640 (no detections), 46.8ms\n",
      "Speed: 1.0ms preprocess, 46.8ms inference, 1.6ms postprocess per image at shape (1, 3, 384, 640)\n",
      "\n",
      "0: 384x640 (no detections), 48.6ms\n",
      "Speed: 1.0ms preprocess, 48.6ms inference, 0.0ms postprocess per image at shape (1, 3, 384, 640)\n",
      "\n",
      "0: 384x640 (no detections), 45.3ms\n",
      "Speed: 1.4ms preprocess, 45.3ms inference, 1.1ms postprocess per image at shape (1, 3, 384, 640)\n",
      "\n",
      "0: 384x640 (no detections), 47.6ms\n",
      "Speed: 1.1ms preprocess, 47.6ms inference, 0.0ms postprocess per image at shape (1, 3, 384, 640)\n",
      "\n",
      "0: 384x640 (no detections), 46.3ms\n",
      "Speed: 1.2ms preprocess, 46.3ms inference, 1.0ms postprocess per image at shape (1, 3, 384, 640)\n",
      "\n",
      "0: 384x640 (no detections), 46.3ms\n",
      "Speed: 1.3ms preprocess, 46.3ms inference, 1.4ms postprocess per image at shape (1, 3, 384, 640)\n",
      "\n",
      "0: 384x640 (no detections), 47.5ms\n",
      "Speed: 1.0ms preprocess, 47.5ms inference, 0.0ms postprocess per image at shape (1, 3, 384, 640)\n",
      "\n",
      "0: 384x640 (no detections), 47.7ms\n",
      "Speed: 1.3ms preprocess, 47.7ms inference, 1.1ms postprocess per image at shape (1, 3, 384, 640)\n",
      "\n",
      "0: 384x640 (no detections), 47.2ms\n",
      "Speed: 1.1ms preprocess, 47.2ms inference, 0.0ms postprocess per image at shape (1, 3, 384, 640)\n",
      "\n",
      "0: 384x640 (no detections), 46.7ms\n",
      "Speed: 1.1ms preprocess, 46.7ms inference, 1.1ms postprocess per image at shape (1, 3, 384, 640)\n",
      "\n",
      "0: 384x640 (no detections), 46.1ms\n",
      "Speed: 1.1ms preprocess, 46.1ms inference, 1.4ms postprocess per image at shape (1, 3, 384, 640)\n",
      "\n",
      "0: 384x640 (no detections), 46.7ms\n",
      "Speed: 1.0ms preprocess, 46.7ms inference, 1.5ms postprocess per image at shape (1, 3, 384, 640)\n",
      "\n",
      "0: 384x640 (no detections), 53.4ms\n",
      "Speed: 1.1ms preprocess, 53.4ms inference, 1.5ms postprocess per image at shape (1, 3, 384, 640)\n",
      "\n",
      "0: 384x640 (no detections), 64.7ms\n",
      "Speed: 1.3ms preprocess, 64.7ms inference, 1.5ms postprocess per image at shape (1, 3, 384, 640)\n",
      "\n",
      "0: 384x640 (no detections), 60.8ms\n",
      "Speed: 2.3ms preprocess, 60.8ms inference, 0.0ms postprocess per image at shape (1, 3, 384, 640)\n",
      "\n",
      "0: 384x640 (no detections), 84.4ms\n",
      "Speed: 1.0ms preprocess, 84.4ms inference, 0.0ms postprocess per image at shape (1, 3, 384, 640)\n",
      "\n",
      "0: 384x640 (no detections), 58.1ms\n",
      "Speed: 1.1ms preprocess, 58.1ms inference, 0.0ms postprocess per image at shape (1, 3, 384, 640)\n",
      "\n",
      "0: 384x640 (no detections), 54.2ms\n",
      "Speed: 1.8ms preprocess, 54.2ms inference, 0.0ms postprocess per image at shape (1, 3, 384, 640)\n",
      "\n",
      "0: 384x640 (no detections), 47.5ms\n",
      "Speed: 1.0ms preprocess, 47.5ms inference, 1.0ms postprocess per image at shape (1, 3, 384, 640)\n",
      "\n",
      "0: 384x640 (no detections), 55.7ms\n",
      "Speed: 1.0ms preprocess, 55.7ms inference, 0.0ms postprocess per image at shape (1, 3, 384, 640)\n",
      "\n",
      "0: 384x640 (no detections), 54.6ms\n",
      "Speed: 1.0ms preprocess, 54.6ms inference, 1.5ms postprocess per image at shape (1, 3, 384, 640)\n",
      "\n",
      "0: 384x640 (no detections), 76.3ms\n",
      "Speed: 1.0ms preprocess, 76.3ms inference, 1.0ms postprocess per image at shape (1, 3, 384, 640)\n",
      "\n",
      "0: 384x640 (no detections), 94.5ms\n",
      "Speed: 2.0ms preprocess, 94.5ms inference, 1.0ms postprocess per image at shape (1, 3, 384, 640)\n",
      "\n",
      "0: 384x640 (no detections), 102.2ms\n",
      "Speed: 3.0ms preprocess, 102.2ms inference, 0.0ms postprocess per image at shape (1, 3, 384, 640)\n",
      "\n",
      "0: 384x640 (no detections), 66.9ms\n",
      "Speed: 0.9ms preprocess, 66.9ms inference, 1.0ms postprocess per image at shape (1, 3, 384, 640)\n",
      "\n",
      "0: 384x640 (no detections), 55.9ms\n",
      "Speed: 1.0ms preprocess, 55.9ms inference, 0.0ms postprocess per image at shape (1, 3, 384, 640)\n",
      "\n",
      "0: 384x640 (no detections), 63.7ms\n",
      "Speed: 2.0ms preprocess, 63.7ms inference, 0.0ms postprocess per image at shape (1, 3, 384, 640)\n",
      "\n",
      "0: 384x640 (no detections), 89.7ms\n",
      "Speed: 1.0ms preprocess, 89.7ms inference, 0.8ms postprocess per image at shape (1, 3, 384, 640)\n",
      "\n",
      "0: 384x640 (no detections), 52.7ms\n",
      "Speed: 1.0ms preprocess, 52.7ms inference, 0.0ms postprocess per image at shape (1, 3, 384, 640)\n",
      "\n",
      "0: 384x640 (no detections), 50.9ms\n",
      "Speed: 1.0ms preprocess, 50.9ms inference, 0.0ms postprocess per image at shape (1, 3, 384, 640)\n",
      "\n",
      "0: 384x640 (no detections), 66.6ms\n",
      "Speed: 1.0ms preprocess, 66.6ms inference, 1.0ms postprocess per image at shape (1, 3, 384, 640)\n",
      "\n",
      "0: 384x640 (no detections), 64.5ms\n",
      "Speed: 1.6ms preprocess, 64.5ms inference, 1.0ms postprocess per image at shape (1, 3, 384, 640)\n",
      "\n",
      "0: 384x640 (no detections), 62.2ms\n",
      "Speed: 1.1ms preprocess, 62.2ms inference, 1.0ms postprocess per image at shape (1, 3, 384, 640)\n",
      "\n",
      "0: 384x640 (no detections), 69.2ms\n",
      "Speed: 1.0ms preprocess, 69.2ms inference, 1.4ms postprocess per image at shape (1, 3, 384, 640)\n",
      "\n",
      "0: 384x640 (no detections), 54.9ms\n",
      "Speed: 1.0ms preprocess, 54.9ms inference, 1.0ms postprocess per image at shape (1, 3, 384, 640)\n",
      "\n",
      "0: 384x640 (no detections), 67.7ms\n",
      "Speed: 2.9ms preprocess, 67.7ms inference, 0.0ms postprocess per image at shape (1, 3, 384, 640)\n",
      "\n",
      "0: 384x640 (no detections), 55.8ms\n",
      "Speed: 1.0ms preprocess, 55.8ms inference, 1.0ms postprocess per image at shape (1, 3, 384, 640)\n",
      "\n",
      "0: 384x640 (no detections), 53.6ms\n",
      "Speed: 0.0ms preprocess, 53.6ms inference, 0.0ms postprocess per image at shape (1, 3, 384, 640)\n",
      "\n",
      "0: 384x640 (no detections), 62.8ms\n",
      "Speed: 2.0ms preprocess, 62.8ms inference, 1.2ms postprocess per image at shape (1, 3, 384, 640)\n",
      "\n",
      "0: 384x640 (no detections), 59.3ms\n",
      "Speed: 1.5ms preprocess, 59.3ms inference, 0.0ms postprocess per image at shape (1, 3, 384, 640)\n",
      "\n",
      "0: 384x640 (no detections), 72.1ms\n",
      "Speed: 1.0ms preprocess, 72.1ms inference, 0.0ms postprocess per image at shape (1, 3, 384, 640)\n",
      "\n",
      "0: 384x640 (no detections), 89.9ms\n",
      "Speed: 1.4ms preprocess, 89.9ms inference, 1.0ms postprocess per image at shape (1, 3, 384, 640)\n",
      "\n",
      "0: 384x640 (no detections), 76.7ms\n",
      "Speed: 1.0ms preprocess, 76.7ms inference, 1.3ms postprocess per image at shape (1, 3, 384, 640)\n",
      "\n",
      "0: 384x640 (no detections), 58.7ms\n",
      "Speed: 0.0ms preprocess, 58.7ms inference, 0.0ms postprocess per image at shape (1, 3, 384, 640)\n",
      "\n",
      "0: 384x640 (no detections), 50.2ms\n",
      "Speed: 1.6ms preprocess, 50.2ms inference, 0.0ms postprocess per image at shape (1, 3, 384, 640)\n",
      "\n",
      "0: 384x640 (no detections), 54.1ms\n",
      "Speed: 1.1ms preprocess, 54.1ms inference, 1.0ms postprocess per image at shape (1, 3, 384, 640)\n",
      "\n",
      "0: 384x640 (no detections), 61.3ms\n",
      "Speed: 1.0ms preprocess, 61.3ms inference, 0.0ms postprocess per image at shape (1, 3, 384, 640)\n",
      "\n",
      "0: 384x640 (no detections), 48.5ms\n",
      "Speed: 1.0ms preprocess, 48.5ms inference, 0.0ms postprocess per image at shape (1, 3, 384, 640)\n",
      "\n",
      "0: 384x640 (no detections), 54.4ms\n",
      "Speed: 1.0ms preprocess, 54.4ms inference, 1.0ms postprocess per image at shape (1, 3, 384, 640)\n",
      "\n",
      "0: 384x640 (no detections), 53.6ms\n",
      "Speed: 1.2ms preprocess, 53.6ms inference, 1.1ms postprocess per image at shape (1, 3, 384, 640)\n",
      "\n",
      "0: 384x640 (no detections), 62.4ms\n",
      "Speed: 1.3ms preprocess, 62.4ms inference, 1.0ms postprocess per image at shape (1, 3, 384, 640)\n",
      "\n",
      "0: 384x640 (no detections), 63.4ms\n",
      "Speed: 0.0ms preprocess, 63.4ms inference, 1.0ms postprocess per image at shape (1, 3, 384, 640)\n",
      "\n",
      "0: 384x640 (no detections), 72.3ms\n",
      "Speed: 1.0ms preprocess, 72.3ms inference, 1.1ms postprocess per image at shape (1, 3, 384, 640)\n",
      "\n",
      "0: 384x640 (no detections), 78.4ms\n",
      "Speed: 2.0ms preprocess, 78.4ms inference, 0.0ms postprocess per image at shape (1, 3, 384, 640)\n",
      "\n",
      "0: 384x640 (no detections), 77.2ms\n",
      "Speed: 1.9ms preprocess, 77.2ms inference, 1.0ms postprocess per image at shape (1, 3, 384, 640)\n",
      "\n",
      "0: 384x640 (no detections), 53.1ms\n",
      "Speed: 1.0ms preprocess, 53.1ms inference, 1.1ms postprocess per image at shape (1, 3, 384, 640)\n",
      "\n",
      "0: 384x640 (no detections), 55.7ms\n",
      "Speed: 0.0ms preprocess, 55.7ms inference, 1.0ms postprocess per image at shape (1, 3, 384, 640)\n",
      "\n",
      "0: 384x640 (no detections), 59.2ms\n",
      "Speed: 1.0ms preprocess, 59.2ms inference, 1.2ms postprocess per image at shape (1, 3, 384, 640)\n",
      "\n",
      "0: 384x640 (no detections), 53.7ms\n",
      "Speed: 1.0ms preprocess, 53.7ms inference, 0.0ms postprocess per image at shape (1, 3, 384, 640)\n",
      "\n",
      "0: 384x640 (no detections), 46.1ms\n",
      "Speed: 1.2ms preprocess, 46.1ms inference, 1.1ms postprocess per image at shape (1, 3, 384, 640)\n",
      "\n",
      "0: 384x640 (no detections), 66.5ms\n",
      "Speed: 2.0ms preprocess, 66.5ms inference, 1.0ms postprocess per image at shape (1, 3, 384, 640)\n",
      "\n",
      "0: 384x640 (no detections), 52.6ms\n",
      "Speed: 1.0ms preprocess, 52.6ms inference, 1.0ms postprocess per image at shape (1, 3, 384, 640)\n",
      "\n",
      "0: 384x640 (no detections), 52.8ms\n",
      "Speed: 1.0ms preprocess, 52.8ms inference, 1.0ms postprocess per image at shape (1, 3, 384, 640)\n",
      "\n",
      "0: 384x640 (no detections), 49.9ms\n",
      "Speed: 1.5ms preprocess, 49.9ms inference, 1.4ms postprocess per image at shape (1, 3, 384, 640)\n",
      "\n",
      "0: 384x640 (no detections), 55.5ms\n",
      "Speed: 1.0ms preprocess, 55.5ms inference, 0.0ms postprocess per image at shape (1, 3, 384, 640)\n",
      "\n",
      "0: 384x640 (no detections), 67.7ms\n",
      "Speed: 1.0ms preprocess, 67.7ms inference, 1.0ms postprocess per image at shape (1, 3, 384, 640)\n",
      "\n",
      "0: 384x640 (no detections), 74.9ms\n",
      "Speed: 0.9ms preprocess, 74.9ms inference, 0.0ms postprocess per image at shape (1, 3, 384, 640)\n",
      "\n",
      "0: 384x640 (no detections), 88.3ms\n",
      "Speed: 1.0ms preprocess, 88.3ms inference, 0.0ms postprocess per image at shape (1, 3, 384, 640)\n",
      "\n",
      "0: 384x640 (no detections), 91.5ms\n",
      "Speed: 0.0ms preprocess, 91.5ms inference, 1.1ms postprocess per image at shape (1, 3, 384, 640)\n",
      "\n",
      "0: 384x640 (no detections), 70.0ms\n",
      "Speed: 1.0ms preprocess, 70.0ms inference, 0.0ms postprocess per image at shape (1, 3, 384, 640)\n",
      "\n",
      "0: 384x640 (no detections), 58.2ms\n",
      "Speed: 1.0ms preprocess, 58.2ms inference, 1.0ms postprocess per image at shape (1, 3, 384, 640)\n",
      "\n",
      "0: 384x640 (no detections), 54.7ms\n",
      "Speed: 0.0ms preprocess, 54.7ms inference, 0.0ms postprocess per image at shape (1, 3, 384, 640)\n",
      "\n",
      "0: 384x640 (no detections), 96.3ms\n",
      "Speed: 1.1ms preprocess, 96.3ms inference, 1.0ms postprocess per image at shape (1, 3, 384, 640)\n",
      "\n",
      "0: 384x640 (no detections), 97.0ms\n",
      "Speed: 1.6ms preprocess, 97.0ms inference, 1.0ms postprocess per image at shape (1, 3, 384, 640)\n",
      "\n",
      "0: 384x640 (no detections), 99.4ms\n",
      "Speed: 2.0ms preprocess, 99.4ms inference, 1.0ms postprocess per image at shape (1, 3, 384, 640)\n",
      "\n",
      "0: 384x640 (no detections), 66.0ms\n",
      "Speed: 1.1ms preprocess, 66.0ms inference, 1.5ms postprocess per image at shape (1, 3, 384, 640)\n",
      "\n",
      "0: 384x640 (no detections), 62.4ms\n",
      "Speed: 1.5ms preprocess, 62.4ms inference, 0.0ms postprocess per image at shape (1, 3, 384, 640)\n",
      "\n",
      "0: 384x640 (no detections), 91.9ms\n",
      "Speed: 2.4ms preprocess, 91.9ms inference, 1.0ms postprocess per image at shape (1, 3, 384, 640)\n",
      "\n",
      "0: 384x640 (no detections), 80.0ms\n",
      "Speed: 0.9ms preprocess, 80.0ms inference, 0.0ms postprocess per image at shape (1, 3, 384, 640)\n",
      "\n",
      "0: 384x640 (no detections), 60.2ms\n",
      "Speed: 1.1ms preprocess, 60.2ms inference, 1.0ms postprocess per image at shape (1, 3, 384, 640)\n",
      "\n",
      "0: 384x640 (no detections), 53.7ms\n",
      "Speed: 2.0ms preprocess, 53.7ms inference, 0.0ms postprocess per image at shape (1, 3, 384, 640)\n",
      "\n",
      "0: 384x640 (no detections), 74.2ms\n",
      "Speed: 1.0ms preprocess, 74.2ms inference, 0.0ms postprocess per image at shape (1, 3, 384, 640)\n",
      "\n",
      "0: 384x640 (no detections), 87.2ms\n",
      "Speed: 1.4ms preprocess, 87.2ms inference, 0.0ms postprocess per image at shape (1, 3, 384, 640)\n",
      "\n",
      "0: 384x640 (no detections), 98.0ms\n",
      "Speed: 1.0ms preprocess, 98.0ms inference, 1.0ms postprocess per image at shape (1, 3, 384, 640)\n",
      "\n",
      "0: 384x640 (no detections), 91.3ms\n",
      "Speed: 0.7ms preprocess, 91.3ms inference, 0.0ms postprocess per image at shape (1, 3, 384, 640)\n",
      "\n",
      "0: 384x640 (no detections), 53.0ms\n",
      "Speed: 2.5ms preprocess, 53.0ms inference, 0.0ms postprocess per image at shape (1, 3, 384, 640)\n",
      "\n",
      "0: 384x640 (no detections), 50.9ms\n",
      "Speed: 1.0ms preprocess, 50.9ms inference, 0.0ms postprocess per image at shape (1, 3, 384, 640)\n",
      "\n",
      "0: 384x640 (no detections), 49.4ms\n",
      "Speed: 0.0ms preprocess, 49.4ms inference, 1.0ms postprocess per image at shape (1, 3, 384, 640)\n",
      "\n",
      "0: 384x640 (no detections), 82.1ms\n",
      "Speed: 1.5ms preprocess, 82.1ms inference, 1.0ms postprocess per image at shape (1, 3, 384, 640)\n",
      "\n",
      "0: 384x640 (no detections), 108.5ms\n",
      "Speed: 1.0ms preprocess, 108.5ms inference, 1.3ms postprocess per image at shape (1, 3, 384, 640)\n",
      "\n",
      "0: 384x640 (no detections), 87.3ms\n",
      "Speed: 1.1ms preprocess, 87.3ms inference, 1.0ms postprocess per image at shape (1, 3, 384, 640)\n",
      "\n",
      "0: 384x640 (no detections), 59.1ms\n",
      "Speed: 1.2ms preprocess, 59.1ms inference, 1.0ms postprocess per image at shape (1, 3, 384, 640)\n",
      "\n",
      "0: 384x640 (no detections), 63.7ms\n",
      "Speed: 1.0ms preprocess, 63.7ms inference, 1.0ms postprocess per image at shape (1, 3, 384, 640)\n",
      "\n",
      "0: 384x640 (no detections), 57.2ms\n",
      "Speed: 1.1ms preprocess, 57.2ms inference, 0.0ms postprocess per image at shape (1, 3, 384, 640)\n",
      "\n",
      "0: 384x640 (no detections), 89.0ms\n",
      "Speed: 1.3ms preprocess, 89.0ms inference, 0.0ms postprocess per image at shape (1, 3, 384, 640)\n",
      "\n",
      "0: 384x640 (no detections), 60.9ms\n",
      "Speed: 1.0ms preprocess, 60.9ms inference, 1.0ms postprocess per image at shape (1, 3, 384, 640)\n",
      "\n",
      "0: 384x640 (no detections), 60.2ms\n",
      "Speed: 1.6ms preprocess, 60.2ms inference, 1.0ms postprocess per image at shape (1, 3, 384, 640)\n",
      "\n",
      "0: 384x640 (no detections), 59.2ms\n",
      "Speed: 1.1ms preprocess, 59.2ms inference, 1.4ms postprocess per image at shape (1, 3, 384, 640)\n",
      "\n",
      "0: 384x640 (no detections), 58.0ms\n",
      "Speed: 1.0ms preprocess, 58.0ms inference, 1.1ms postprocess per image at shape (1, 3, 384, 640)\n",
      "\n"
     ]
    },
    {
     "ename": "",
     "evalue": "",
     "output_type": "error",
     "traceback": [
      "\u001b[1;31mThe Kernel crashed while executing code in the the current cell or a previous cell. Please review the code in the cell(s) to identify a possible cause of the failure. Click <a href='https://aka.ms/vscodeJupyterKernelCrash'>here</a> for more info. View Jupyter <a href='command:jupyter.viewOutput'>log</a> for further details."
     ]
    }
   ],
   "source": [
    "import cv2\n",
    "import winsound\n",
    "import time\n",
    "from ultralytics import YOLO\n",
    "import numpy as np\n",
    "\n",
    "\n",
    "model = YOLO('C:/Users/rifal/Desktop/CAPSTONE/Fainting-Detection-4/runs/detect/train12/weights/best.pt')\n",
    "\n",
    "cap = cv2.VideoCapture(0)\n",
    "cap.set(3, 640)\n",
    "cap.set(4, 400)\n",
    "\n",
    "alarm_triggered = False\n",
    "start_time = None\n",
    "\n",
    "sound_file = \"C:/Users/rifal/Desktop/CAPSTONE/alarm.wav\"\n",
    "\n",
    "while True:\n",
    "    ret, img = cap.read()\n",
    "    cv2.imshow('Webcam', img)\n",
    "    \n",
    "    results = model.predict(source=img, show=True, conf=0.5, classes=1)\n",
    "\n",
    "    for i, (result) in enumerate(results):        \n",
    "        if result and not alarm_triggered:\n",
    "            start_time = time.time()\n",
    "            alarm_triggered = True\n",
    "        elif not result and alarm_triggered:\n",
    "            alarm_triggered = False\n",
    "            start_time = None\n",
    "    \n",
    "    if alarm_triggered and start_time is not None:\n",
    "        elapsed_time = time.time() - start_time\n",
    "        if elapsed_time >= 3:\n",
    "            winsound.PlaySound(sound_file, winsound.SND_FILENAME)\n",
    "            #cv2.putText(frame, \"No movement detected for 10 seconds!\", (10, 30), cv2.FONT_HERSHEY_SIMPLEX, 1, (0, 0, 255), 2)\n",
    "        \n",
    "    if cv2.waitKey(1) == ord('q'):\n",
    "        break\n",
    "\n",
    "cap.release()\n",
    "cv2.destroyAllWindows()"
   ]
  },
  {
   "cell_type": "code",
   "execution_count": 1,
   "id": "56cdaa0b",
   "metadata": {},
   "outputs": [
    {
     "name": "stderr",
     "output_type": "stream",
     "text": [
      "\n",
      "video 1/1 (1/236) C:\\Users\\rifal\\Desktop\\CAPSTONE\\WhatsApp Video 2023-12-22 at 17.50.07_28c729f8.mp4: 640x320 (no detections), 78.0ms\n",
      "video 1/1 (2/236) C:\\Users\\rifal\\Desktop\\CAPSTONE\\WhatsApp Video 2023-12-22 at 17.50.07_28c729f8.mp4: 640x320 (no detections), 67.7ms\n",
      "video 1/1 (3/236) C:\\Users\\rifal\\Desktop\\CAPSTONE\\WhatsApp Video 2023-12-22 at 17.50.07_28c729f8.mp4: 640x320 (no detections), 65.2ms\n"
     ]
    },
    {
     "name": "stdout",
     "output_type": "stream",
     "text": [
      "Fainted Detected\n",
      "Fainted Detected\n",
      "Fainted Detected\n"
     ]
    },
    {
     "name": "stderr",
     "output_type": "stream",
     "text": [
      "video 1/1 (4/236) C:\\Users\\rifal\\Desktop\\CAPSTONE\\WhatsApp Video 2023-12-22 at 17.50.07_28c729f8.mp4: 640x320 (no detections), 64.3ms\n",
      "video 1/1 (5/236) C:\\Users\\rifal\\Desktop\\CAPSTONE\\WhatsApp Video 2023-12-22 at 17.50.07_28c729f8.mp4: 640x320 (no detections), 63.0ms\n",
      "video 1/1 (6/236) C:\\Users\\rifal\\Desktop\\CAPSTONE\\WhatsApp Video 2023-12-22 at 17.50.07_28c729f8.mp4: 640x320 (no detections), 60.4ms\n"
     ]
    },
    {
     "name": "stdout",
     "output_type": "stream",
     "text": [
      "Fainted Detected\n",
      "Fainted Detected\n",
      "Fainted Detected\n"
     ]
    },
    {
     "name": "stderr",
     "output_type": "stream",
     "text": [
      "video 1/1 (7/236) C:\\Users\\rifal\\Desktop\\CAPSTONE\\WhatsApp Video 2023-12-22 at 17.50.07_28c729f8.mp4: 640x320 (no detections), 61.3ms\n",
      "video 1/1 (8/236) C:\\Users\\rifal\\Desktop\\CAPSTONE\\WhatsApp Video 2023-12-22 at 17.50.07_28c729f8.mp4: 640x320 (no detections), 73.3ms\n",
      "video 1/1 (9/236) C:\\Users\\rifal\\Desktop\\CAPSTONE\\WhatsApp Video 2023-12-22 at 17.50.07_28c729f8.mp4: 640x320 (no detections), 68.1ms\n"
     ]
    },
    {
     "name": "stdout",
     "output_type": "stream",
     "text": [
      "Fainted Detected\n",
      "Fainted Detected\n",
      "Fainted Detected\n"
     ]
    },
    {
     "name": "stderr",
     "output_type": "stream",
     "text": [
      "video 1/1 (10/236) C:\\Users\\rifal\\Desktop\\CAPSTONE\\WhatsApp Video 2023-12-22 at 17.50.07_28c729f8.mp4: 640x320 (no detections), 68.9ms\n",
      "video 1/1 (11/236) C:\\Users\\rifal\\Desktop\\CAPSTONE\\WhatsApp Video 2023-12-22 at 17.50.07_28c729f8.mp4: 640x320 (no detections), 71.5ms\n",
      "video 1/1 (12/236) C:\\Users\\rifal\\Desktop\\CAPSTONE\\WhatsApp Video 2023-12-22 at 17.50.07_28c729f8.mp4: 640x320 (no detections), 66.7ms\n"
     ]
    },
    {
     "name": "stdout",
     "output_type": "stream",
     "text": [
      "Fainted Detected\n",
      "Fainted Detected\n",
      "Fainted Detected\n"
     ]
    },
    {
     "name": "stderr",
     "output_type": "stream",
     "text": [
      "video 1/1 (13/236) C:\\Users\\rifal\\Desktop\\CAPSTONE\\WhatsApp Video 2023-12-22 at 17.50.07_28c729f8.mp4: 640x320 (no detections), 68.6ms\n",
      "video 1/1 (14/236) C:\\Users\\rifal\\Desktop\\CAPSTONE\\WhatsApp Video 2023-12-22 at 17.50.07_28c729f8.mp4: 640x320 (no detections), 66.6ms\n",
      "video 1/1 (15/236) C:\\Users\\rifal\\Desktop\\CAPSTONE\\WhatsApp Video 2023-12-22 at 17.50.07_28c729f8.mp4: 640x320 (no detections), 65.6ms\n"
     ]
    },
    {
     "name": "stdout",
     "output_type": "stream",
     "text": [
      "Fainted Detected\n",
      "Fainted Detected\n",
      "Fainted Detected\n"
     ]
    },
    {
     "name": "stderr",
     "output_type": "stream",
     "text": [
      "video 1/1 (16/236) C:\\Users\\rifal\\Desktop\\CAPSTONE\\WhatsApp Video 2023-12-22 at 17.50.07_28c729f8.mp4: 640x320 (no detections), 70.2ms\n",
      "video 1/1 (17/236) C:\\Users\\rifal\\Desktop\\CAPSTONE\\WhatsApp Video 2023-12-22 at 17.50.07_28c729f8.mp4: 640x320 (no detections), 62.6ms\n",
      "video 1/1 (18/236) C:\\Users\\rifal\\Desktop\\CAPSTONE\\WhatsApp Video 2023-12-22 at 17.50.07_28c729f8.mp4: 640x320 (no detections), 60.4ms\n"
     ]
    },
    {
     "name": "stdout",
     "output_type": "stream",
     "text": [
      "Fainted Detected\n",
      "Fainted Detected\n",
      "Fainted Detected\n"
     ]
    },
    {
     "name": "stderr",
     "output_type": "stream",
     "text": [
      "video 1/1 (19/236) C:\\Users\\rifal\\Desktop\\CAPSTONE\\WhatsApp Video 2023-12-22 at 17.50.07_28c729f8.mp4: 640x320 (no detections), 59.6ms\n",
      "video 1/1 (20/236) C:\\Users\\rifal\\Desktop\\CAPSTONE\\WhatsApp Video 2023-12-22 at 17.50.07_28c729f8.mp4: 640x320 (no detections), 69.9ms\n",
      "video 1/1 (21/236) C:\\Users\\rifal\\Desktop\\CAPSTONE\\WhatsApp Video 2023-12-22 at 17.50.07_28c729f8.mp4: 640x320 (no detections), 69.9ms\n"
     ]
    },
    {
     "name": "stdout",
     "output_type": "stream",
     "text": [
      "Fainted Detected\n",
      "Fainted Detected\n",
      "Fainted Detected\n"
     ]
    },
    {
     "name": "stderr",
     "output_type": "stream",
     "text": [
      "video 1/1 (22/236) C:\\Users\\rifal\\Desktop\\CAPSTONE\\WhatsApp Video 2023-12-22 at 17.50.07_28c729f8.mp4: 640x320 (no detections), 79.3ms\n",
      "video 1/1 (23/236) C:\\Users\\rifal\\Desktop\\CAPSTONE\\WhatsApp Video 2023-12-22 at 17.50.07_28c729f8.mp4: 640x320 (no detections), 68.1ms\n",
      "video 1/1 (24/236) C:\\Users\\rifal\\Desktop\\CAPSTONE\\WhatsApp Video 2023-12-22 at 17.50.07_28c729f8.mp4: 640x320 (no detections), 64.5ms\n"
     ]
    },
    {
     "name": "stdout",
     "output_type": "stream",
     "text": [
      "Fainted Detected\n",
      "Fainted Detected\n",
      "Fainted Detected\n"
     ]
    },
    {
     "name": "stderr",
     "output_type": "stream",
     "text": [
      "video 1/1 (25/236) C:\\Users\\rifal\\Desktop\\CAPSTONE\\WhatsApp Video 2023-12-22 at 17.50.07_28c729f8.mp4: 640x320 (no detections), 68.9ms\n",
      "video 1/1 (26/236) C:\\Users\\rifal\\Desktop\\CAPSTONE\\WhatsApp Video 2023-12-22 at 17.50.07_28c729f8.mp4: 640x320 (no detections), 66.3ms\n",
      "video 1/1 (27/236) C:\\Users\\rifal\\Desktop\\CAPSTONE\\WhatsApp Video 2023-12-22 at 17.50.07_28c729f8.mp4: 640x320 (no detections), 62.1ms\n"
     ]
    },
    {
     "name": "stdout",
     "output_type": "stream",
     "text": [
      "Fainted Detected\n",
      "Fainted Detected\n",
      "Fainted Detected\n"
     ]
    },
    {
     "name": "stderr",
     "output_type": "stream",
     "text": [
      "video 1/1 (28/236) C:\\Users\\rifal\\Desktop\\CAPSTONE\\WhatsApp Video 2023-12-22 at 17.50.07_28c729f8.mp4: 640x320 (no detections), 59.8ms\n",
      "video 1/1 (29/236) C:\\Users\\rifal\\Desktop\\CAPSTONE\\WhatsApp Video 2023-12-22 at 17.50.07_28c729f8.mp4: 640x320 (no detections), 61.4ms\n",
      "video 1/1 (30/236) C:\\Users\\rifal\\Desktop\\CAPSTONE\\WhatsApp Video 2023-12-22 at 17.50.07_28c729f8.mp4: 640x320 (no detections), 60.5ms\n"
     ]
    },
    {
     "name": "stdout",
     "output_type": "stream",
     "text": [
      "Fainted Detected\n",
      "Fainted Detected\n",
      "Fainted Detected\n"
     ]
    },
    {
     "name": "stderr",
     "output_type": "stream",
     "text": [
      "video 1/1 (31/236) C:\\Users\\rifal\\Desktop\\CAPSTONE\\WhatsApp Video 2023-12-22 at 17.50.07_28c729f8.mp4: 640x320 (no detections), 58.8ms\n",
      "video 1/1 (32/236) C:\\Users\\rifal\\Desktop\\CAPSTONE\\WhatsApp Video 2023-12-22 at 17.50.07_28c729f8.mp4: 640x320 (no detections), 62.7ms\n",
      "video 1/1 (33/236) C:\\Users\\rifal\\Desktop\\CAPSTONE\\WhatsApp Video 2023-12-22 at 17.50.07_28c729f8.mp4: 640x320 (no detections), 69.8ms\n"
     ]
    },
    {
     "name": "stdout",
     "output_type": "stream",
     "text": [
      "Fainted Detected\n",
      "Fainted Detected\n",
      "Fainted Detected\n"
     ]
    },
    {
     "name": "stderr",
     "output_type": "stream",
     "text": [
      "video 1/1 (34/236) C:\\Users\\rifal\\Desktop\\CAPSTONE\\WhatsApp Video 2023-12-22 at 17.50.07_28c729f8.mp4: 640x320 (no detections), 66.7ms\n",
      "video 1/1 (35/236) C:\\Users\\rifal\\Desktop\\CAPSTONE\\WhatsApp Video 2023-12-22 at 17.50.07_28c729f8.mp4: 640x320 (no detections), 69.0ms\n",
      "video 1/1 (36/236) C:\\Users\\rifal\\Desktop\\CAPSTONE\\WhatsApp Video 2023-12-22 at 17.50.07_28c729f8.mp4: 640x320 (no detections), 64.4ms\n"
     ]
    },
    {
     "name": "stdout",
     "output_type": "stream",
     "text": [
      "Fainted Detected\n",
      "Fainted Detected\n",
      "Fainted Detected\n"
     ]
    },
    {
     "name": "stderr",
     "output_type": "stream",
     "text": [
      "video 1/1 (37/236) C:\\Users\\rifal\\Desktop\\CAPSTONE\\WhatsApp Video 2023-12-22 at 17.50.07_28c729f8.mp4: 640x320 (no detections), 61.6ms\n",
      "video 1/1 (38/236) C:\\Users\\rifal\\Desktop\\CAPSTONE\\WhatsApp Video 2023-12-22 at 17.50.07_28c729f8.mp4: 640x320 (no detections), 66.5ms\n",
      "video 1/1 (39/236) C:\\Users\\rifal\\Desktop\\CAPSTONE\\WhatsApp Video 2023-12-22 at 17.50.07_28c729f8.mp4: 640x320 (no detections), 68.1ms\n"
     ]
    },
    {
     "name": "stdout",
     "output_type": "stream",
     "text": [
      "Fainted Detected\n",
      "Fainted Detected\n",
      "Fainted Detected\n"
     ]
    },
    {
     "name": "stderr",
     "output_type": "stream",
     "text": [
      "video 1/1 (40/236) C:\\Users\\rifal\\Desktop\\CAPSTONE\\WhatsApp Video 2023-12-22 at 17.50.07_28c729f8.mp4: 640x320 (no detections), 62.6ms\n",
      "video 1/1 (41/236) C:\\Users\\rifal\\Desktop\\CAPSTONE\\WhatsApp Video 2023-12-22 at 17.50.07_28c729f8.mp4: 640x320 (no detections), 61.8ms\n",
      "video 1/1 (42/236) C:\\Users\\rifal\\Desktop\\CAPSTONE\\WhatsApp Video 2023-12-22 at 17.50.07_28c729f8.mp4: 640x320 (no detections), 62.2ms\n"
     ]
    },
    {
     "name": "stdout",
     "output_type": "stream",
     "text": [
      "Fainted Detected\n",
      "Fainted Detected\n",
      "Fainted Detected\n"
     ]
    },
    {
     "name": "stderr",
     "output_type": "stream",
     "text": [
      "video 1/1 (43/236) C:\\Users\\rifal\\Desktop\\CAPSTONE\\WhatsApp Video 2023-12-22 at 17.50.07_28c729f8.mp4: 640x320 (no detections), 63.6ms\n",
      "video 1/1 (44/236) C:\\Users\\rifal\\Desktop\\CAPSTONE\\WhatsApp Video 2023-12-22 at 17.50.07_28c729f8.mp4: 640x320 (no detections), 79.2ms\n",
      "video 1/1 (45/236) C:\\Users\\rifal\\Desktop\\CAPSTONE\\WhatsApp Video 2023-12-22 at 17.50.07_28c729f8.mp4: 640x320 (no detections), 56.6ms\n"
     ]
    },
    {
     "name": "stdout",
     "output_type": "stream",
     "text": [
      "Fainted Detected\n",
      "Fainted Detected\n",
      "Fainted Detected\n"
     ]
    },
    {
     "name": "stderr",
     "output_type": "stream",
     "text": [
      "video 1/1 (46/236) C:\\Users\\rifal\\Desktop\\CAPSTONE\\WhatsApp Video 2023-12-22 at 17.50.07_28c729f8.mp4: 640x320 (no detections), 58.6ms\n",
      "video 1/1 (47/236) C:\\Users\\rifal\\Desktop\\CAPSTONE\\WhatsApp Video 2023-12-22 at 17.50.07_28c729f8.mp4: 640x320 (no detections), 55.8ms\n",
      "video 1/1 (48/236) C:\\Users\\rifal\\Desktop\\CAPSTONE\\WhatsApp Video 2023-12-22 at 17.50.07_28c729f8.mp4: 640x320 (no detections), 54.6ms\n"
     ]
    },
    {
     "name": "stdout",
     "output_type": "stream",
     "text": [
      "Fainted Detected\n",
      "Fainted Detected\n",
      "Fainted Detected\n"
     ]
    },
    {
     "name": "stderr",
     "output_type": "stream",
     "text": [
      "video 1/1 (49/236) C:\\Users\\rifal\\Desktop\\CAPSTONE\\WhatsApp Video 2023-12-22 at 17.50.07_28c729f8.mp4: 640x320 (no detections), 57.4ms\n",
      "video 1/1 (50/236) C:\\Users\\rifal\\Desktop\\CAPSTONE\\WhatsApp Video 2023-12-22 at 17.50.07_28c729f8.mp4: 640x320 (no detections), 53.9ms\n",
      "video 1/1 (51/236) C:\\Users\\rifal\\Desktop\\CAPSTONE\\WhatsApp Video 2023-12-22 at 17.50.07_28c729f8.mp4: 640x320 (no detections), 54.9ms\n"
     ]
    },
    {
     "name": "stdout",
     "output_type": "stream",
     "text": [
      "Fainted Detected\n",
      "Fainted Detected\n",
      "Fainted Detected\n"
     ]
    },
    {
     "name": "stderr",
     "output_type": "stream",
     "text": [
      "video 1/1 (52/236) C:\\Users\\rifal\\Desktop\\CAPSTONE\\WhatsApp Video 2023-12-22 at 17.50.07_28c729f8.mp4: 640x320 (no detections), 55.2ms\n",
      "video 1/1 (53/236) C:\\Users\\rifal\\Desktop\\CAPSTONE\\WhatsApp Video 2023-12-22 at 17.50.07_28c729f8.mp4: 640x320 (no detections), 57.4ms\n",
      "video 1/1 (54/236) C:\\Users\\rifal\\Desktop\\CAPSTONE\\WhatsApp Video 2023-12-22 at 17.50.07_28c729f8.mp4: 640x320 (no detections), 57.6ms\n"
     ]
    },
    {
     "name": "stdout",
     "output_type": "stream",
     "text": [
      "Fainted Detected\n",
      "Fainted Detected\n",
      "Fainted Detected\n"
     ]
    },
    {
     "name": "stderr",
     "output_type": "stream",
     "text": [
      "video 1/1 (55/236) C:\\Users\\rifal\\Desktop\\CAPSTONE\\WhatsApp Video 2023-12-22 at 17.50.07_28c729f8.mp4: 640x320 (no detections), 61.8ms\n",
      "video 1/1 (56/236) C:\\Users\\rifal\\Desktop\\CAPSTONE\\WhatsApp Video 2023-12-22 at 17.50.07_28c729f8.mp4: 640x320 (no detections), 70.0ms\n",
      "video 1/1 (57/236) C:\\Users\\rifal\\Desktop\\CAPSTONE\\WhatsApp Video 2023-12-22 at 17.50.07_28c729f8.mp4: 640x320 (no detections), 61.8ms\n"
     ]
    },
    {
     "name": "stdout",
     "output_type": "stream",
     "text": [
      "Fainted Detected\n",
      "Fainted Detected\n",
      "Fainted Detected\n"
     ]
    },
    {
     "name": "stderr",
     "output_type": "stream",
     "text": [
      "video 1/1 (58/236) C:\\Users\\rifal\\Desktop\\CAPSTONE\\WhatsApp Video 2023-12-22 at 17.50.07_28c729f8.mp4: 640x320 (no detections), 61.0ms\n",
      "video 1/1 (59/236) C:\\Users\\rifal\\Desktop\\CAPSTONE\\WhatsApp Video 2023-12-22 at 17.50.07_28c729f8.mp4: 640x320 (no detections), 65.6ms\n",
      "video 1/1 (60/236) C:\\Users\\rifal\\Desktop\\CAPSTONE\\WhatsApp Video 2023-12-22 at 17.50.07_28c729f8.mp4: 640x320 (no detections), 55.9ms\n"
     ]
    },
    {
     "name": "stdout",
     "output_type": "stream",
     "text": [
      "Fainted Detected\n",
      "Fainted Detected\n",
      "Fainted Detected\n"
     ]
    },
    {
     "name": "stderr",
     "output_type": "stream",
     "text": [
      "video 1/1 (61/236) C:\\Users\\rifal\\Desktop\\CAPSTONE\\WhatsApp Video 2023-12-22 at 17.50.07_28c729f8.mp4: 640x320 (no detections), 56.2ms\n",
      "video 1/1 (62/236) C:\\Users\\rifal\\Desktop\\CAPSTONE\\WhatsApp Video 2023-12-22 at 17.50.07_28c729f8.mp4: 640x320 (no detections), 76.6ms\n",
      "video 1/1 (63/236) C:\\Users\\rifal\\Desktop\\CAPSTONE\\WhatsApp Video 2023-12-22 at 17.50.07_28c729f8.mp4: 640x320 (no detections), 61.9ms\n"
     ]
    },
    {
     "name": "stdout",
     "output_type": "stream",
     "text": [
      "Fainted Detected\n",
      "Fainted Detected\n",
      "Fainted Detected\n"
     ]
    },
    {
     "name": "stderr",
     "output_type": "stream",
     "text": [
      "video 1/1 (64/236) C:\\Users\\rifal\\Desktop\\CAPSTONE\\WhatsApp Video 2023-12-22 at 17.50.07_28c729f8.mp4: 640x320 (no detections), 59.2ms\n",
      "video 1/1 (65/236) C:\\Users\\rifal\\Desktop\\CAPSTONE\\WhatsApp Video 2023-12-22 at 17.50.07_28c729f8.mp4: 640x320 (no detections), 58.9ms\n",
      "video 1/1 (66/236) C:\\Users\\rifal\\Desktop\\CAPSTONE\\WhatsApp Video 2023-12-22 at 17.50.07_28c729f8.mp4: 640x320 (no detections), 58.2ms\n"
     ]
    },
    {
     "name": "stdout",
     "output_type": "stream",
     "text": [
      "Fainted Detected\n",
      "Fainted Detected\n",
      "Fainted Detected\n"
     ]
    },
    {
     "name": "stderr",
     "output_type": "stream",
     "text": [
      "video 1/1 (67/236) C:\\Users\\rifal\\Desktop\\CAPSTONE\\WhatsApp Video 2023-12-22 at 17.50.07_28c729f8.mp4: 640x320 (no detections), 79.3ms\n",
      "video 1/1 (68/236) C:\\Users\\rifal\\Desktop\\CAPSTONE\\WhatsApp Video 2023-12-22 at 17.50.07_28c729f8.mp4: 640x320 (no detections), 62.1ms\n",
      "video 1/1 (69/236) C:\\Users\\rifal\\Desktop\\CAPSTONE\\WhatsApp Video 2023-12-22 at 17.50.07_28c729f8.mp4: 640x320 (no detections), 57.9ms\n"
     ]
    },
    {
     "name": "stdout",
     "output_type": "stream",
     "text": [
      "Fainted Detected\n",
      "Fainted Detected\n",
      "Fainted Detected\n"
     ]
    },
    {
     "name": "stderr",
     "output_type": "stream",
     "text": [
      "video 1/1 (70/236) C:\\Users\\rifal\\Desktop\\CAPSTONE\\WhatsApp Video 2023-12-22 at 17.50.07_28c729f8.mp4: 640x320 (no detections), 63.6ms\n",
      "video 1/1 (71/236) C:\\Users\\rifal\\Desktop\\CAPSTONE\\WhatsApp Video 2023-12-22 at 17.50.07_28c729f8.mp4: 640x320 (no detections), 66.1ms\n",
      "video 1/1 (72/236) C:\\Users\\rifal\\Desktop\\CAPSTONE\\WhatsApp Video 2023-12-22 at 17.50.07_28c729f8.mp4: 640x320 (no detections), 64.2ms\n"
     ]
    },
    {
     "name": "stdout",
     "output_type": "stream",
     "text": [
      "Fainted Detected\n",
      "Fainted Detected\n",
      "Fainted Detected\n"
     ]
    },
    {
     "name": "stderr",
     "output_type": "stream",
     "text": [
      "video 1/1 (73/236) C:\\Users\\rifal\\Desktop\\CAPSTONE\\WhatsApp Video 2023-12-22 at 17.50.07_28c729f8.mp4: 640x320 (no detections), 65.4ms\n",
      "video 1/1 (74/236) C:\\Users\\rifal\\Desktop\\CAPSTONE\\WhatsApp Video 2023-12-22 at 17.50.07_28c729f8.mp4: 640x320 (no detections), 65.8ms\n",
      "video 1/1 (75/236) C:\\Users\\rifal\\Desktop\\CAPSTONE\\WhatsApp Video 2023-12-22 at 17.50.07_28c729f8.mp4: 640x320 (no detections), 63.5ms\n"
     ]
    },
    {
     "name": "stdout",
     "output_type": "stream",
     "text": [
      "Fainted Detected\n",
      "Fainted Detected\n",
      "Fainted Detected\n"
     ]
    },
    {
     "name": "stderr",
     "output_type": "stream",
     "text": [
      "video 1/1 (76/236) C:\\Users\\rifal\\Desktop\\CAPSTONE\\WhatsApp Video 2023-12-22 at 17.50.07_28c729f8.mp4: 640x320 (no detections), 66.4ms\n",
      "video 1/1 (77/236) C:\\Users\\rifal\\Desktop\\CAPSTONE\\WhatsApp Video 2023-12-22 at 17.50.07_28c729f8.mp4: 640x320 (no detections), 64.2ms\n",
      "video 1/1 (78/236) C:\\Users\\rifal\\Desktop\\CAPSTONE\\WhatsApp Video 2023-12-22 at 17.50.07_28c729f8.mp4: 640x320 (no detections), 63.7ms\n"
     ]
    },
    {
     "name": "stdout",
     "output_type": "stream",
     "text": [
      "Fainted Detected\n",
      "Fainted Detected\n",
      "Fainted Detected\n"
     ]
    },
    {
     "name": "stderr",
     "output_type": "stream",
     "text": [
      "video 1/1 (79/236) C:\\Users\\rifal\\Desktop\\CAPSTONE\\WhatsApp Video 2023-12-22 at 17.50.07_28c729f8.mp4: 640x320 1 fainted, 64.1ms\n",
      "video 1/1 (80/236) C:\\Users\\rifal\\Desktop\\CAPSTONE\\WhatsApp Video 2023-12-22 at 17.50.07_28c729f8.mp4: 640x320 1 fainted, 67.6ms\n",
      "video 1/1 (81/236) C:\\Users\\rifal\\Desktop\\CAPSTONE\\WhatsApp Video 2023-12-22 at 17.50.07_28c729f8.mp4: 640x320 1 fainted, 64.0ms\n"
     ]
    },
    {
     "name": "stdout",
     "output_type": "stream",
     "text": [
      "Fainted Detected\n",
      "Fainted Detected\n",
      "Fainted Detected\n"
     ]
    },
    {
     "name": "stderr",
     "output_type": "stream",
     "text": [
      "video 1/1 (82/236) C:\\Users\\rifal\\Desktop\\CAPSTONE\\WhatsApp Video 2023-12-22 at 17.50.07_28c729f8.mp4: 640x320 1 fainted, 63.2ms\n",
      "video 1/1 (83/236) C:\\Users\\rifal\\Desktop\\CAPSTONE\\WhatsApp Video 2023-12-22 at 17.50.07_28c729f8.mp4: 640x320 1 fainted, 64.8ms\n",
      "video 1/1 (84/236) C:\\Users\\rifal\\Desktop\\CAPSTONE\\WhatsApp Video 2023-12-22 at 17.50.07_28c729f8.mp4: 640x320 1 fainted, 64.4ms\n"
     ]
    },
    {
     "name": "stdout",
     "output_type": "stream",
     "text": [
      "Fainted Detected\n",
      "Fainted Detected\n",
      "Fainted Detected\n"
     ]
    },
    {
     "name": "stderr",
     "output_type": "stream",
     "text": [
      "video 1/1 (85/236) C:\\Users\\rifal\\Desktop\\CAPSTONE\\WhatsApp Video 2023-12-22 at 17.50.07_28c729f8.mp4: 640x320 1 fainted, 73.7ms\n",
      "video 1/1 (86/236) C:\\Users\\rifal\\Desktop\\CAPSTONE\\WhatsApp Video 2023-12-22 at 17.50.07_28c729f8.mp4: 640x320 1 fainted, 90.2ms\n"
     ]
    },
    {
     "name": "stdout",
     "output_type": "stream",
     "text": [
      "Fainted Detected\n",
      "Fainted Detected\n"
     ]
    },
    {
     "name": "stderr",
     "output_type": "stream",
     "text": [
      "video 1/1 (87/236) C:\\Users\\rifal\\Desktop\\CAPSTONE\\WhatsApp Video 2023-12-22 at 17.50.07_28c729f8.mp4: 640x320 1 fainted, 93.4ms\n",
      "video 1/1 (88/236) C:\\Users\\rifal\\Desktop\\CAPSTONE\\WhatsApp Video 2023-12-22 at 17.50.07_28c729f8.mp4: 640x320 1 fainted, 122.0ms\n"
     ]
    },
    {
     "name": "stdout",
     "output_type": "stream",
     "text": [
      "Fainted Detected\n",
      "Fainted Detected\n"
     ]
    },
    {
     "name": "stderr",
     "output_type": "stream",
     "text": [
      "video 1/1 (89/236) C:\\Users\\rifal\\Desktop\\CAPSTONE\\WhatsApp Video 2023-12-22 at 17.50.07_28c729f8.mp4: 640x320 1 fainted, 72.3ms\n",
      "video 1/1 (90/236) C:\\Users\\rifal\\Desktop\\CAPSTONE\\WhatsApp Video 2023-12-22 at 17.50.07_28c729f8.mp4: 640x320 1 fainted, 71.3ms\n",
      "video 1/1 (91/236) C:\\Users\\rifal\\Desktop\\CAPSTONE\\WhatsApp Video 2023-12-22 at 17.50.07_28c729f8.mp4: 640x320 1 fainted, 67.2ms\n"
     ]
    },
    {
     "name": "stdout",
     "output_type": "stream",
     "text": [
      "Fainted Detected\n",
      "Fainted Detected\n",
      "Fainted Detected\n"
     ]
    },
    {
     "name": "stderr",
     "output_type": "stream",
     "text": [
      "video 1/1 (92/236) C:\\Users\\rifal\\Desktop\\CAPSTONE\\WhatsApp Video 2023-12-22 at 17.50.07_28c729f8.mp4: 640x320 (no detections), 70.2ms\n",
      "video 1/1 (93/236) C:\\Users\\rifal\\Desktop\\CAPSTONE\\WhatsApp Video 2023-12-22 at 17.50.07_28c729f8.mp4: 640x320 (no detections), 77.3ms\n",
      "video 1/1 (94/236) C:\\Users\\rifal\\Desktop\\CAPSTONE\\WhatsApp Video 2023-12-22 at 17.50.07_28c729f8.mp4: 640x320 (no detections), 68.7ms\n"
     ]
    },
    {
     "name": "stdout",
     "output_type": "stream",
     "text": [
      "Fainted Detected\n",
      "Fainted Detected\n",
      "Fainted Detected\n"
     ]
    },
    {
     "name": "stderr",
     "output_type": "stream",
     "text": [
      "video 1/1 (95/236) C:\\Users\\rifal\\Desktop\\CAPSTONE\\WhatsApp Video 2023-12-22 at 17.50.07_28c729f8.mp4: 640x320 (no detections), 68.5ms\n",
      "video 1/1 (96/236) C:\\Users\\rifal\\Desktop\\CAPSTONE\\WhatsApp Video 2023-12-22 at 17.50.07_28c729f8.mp4: 640x320 (no detections), 67.7ms\n",
      "video 1/1 (97/236) C:\\Users\\rifal\\Desktop\\CAPSTONE\\WhatsApp Video 2023-12-22 at 17.50.07_28c729f8.mp4: 640x320 (no detections), 66.9ms\n"
     ]
    },
    {
     "name": "stdout",
     "output_type": "stream",
     "text": [
      "Fainted Detected\n",
      "Fainted Detected\n",
      "Fainted Detected\n"
     ]
    },
    {
     "name": "stderr",
     "output_type": "stream",
     "text": [
      "video 1/1 (98/236) C:\\Users\\rifal\\Desktop\\CAPSTONE\\WhatsApp Video 2023-12-22 at 17.50.07_28c729f8.mp4: 640x320 (no detections), 72.2ms\n",
      "video 1/1 (99/236) C:\\Users\\rifal\\Desktop\\CAPSTONE\\WhatsApp Video 2023-12-22 at 17.50.07_28c729f8.mp4: 640x320 (no detections), 70.6ms\n",
      "video 1/1 (100/236) C:\\Users\\rifal\\Desktop\\CAPSTONE\\WhatsApp Video 2023-12-22 at 17.50.07_28c729f8.mp4: 640x320 (no detections), 63.7ms\n"
     ]
    },
    {
     "name": "stdout",
     "output_type": "stream",
     "text": [
      "Fainted Detected\n",
      "Fainted Detected\n",
      "Fainted Detected\n"
     ]
    },
    {
     "name": "stderr",
     "output_type": "stream",
     "text": [
      "video 1/1 (101/236) C:\\Users\\rifal\\Desktop\\CAPSTONE\\WhatsApp Video 2023-12-22 at 17.50.07_28c729f8.mp4: 640x320 (no detections), 64.8ms\n",
      "video 1/1 (102/236) C:\\Users\\rifal\\Desktop\\CAPSTONE\\WhatsApp Video 2023-12-22 at 17.50.07_28c729f8.mp4: 640x320 (no detections), 67.9ms\n",
      "video 1/1 (103/236) C:\\Users\\rifal\\Desktop\\CAPSTONE\\WhatsApp Video 2023-12-22 at 17.50.07_28c729f8.mp4: 640x320 (no detections), 61.2ms\n"
     ]
    },
    {
     "name": "stdout",
     "output_type": "stream",
     "text": [
      "Fainted Detected\n",
      "Fainted Detected\n",
      "Fainted Detected\n"
     ]
    },
    {
     "name": "stderr",
     "output_type": "stream",
     "text": [
      "video 1/1 (104/236) C:\\Users\\rifal\\Desktop\\CAPSTONE\\WhatsApp Video 2023-12-22 at 17.50.07_28c729f8.mp4: 640x320 (no detections), 63.9ms\n",
      "video 1/1 (105/236) C:\\Users\\rifal\\Desktop\\CAPSTONE\\WhatsApp Video 2023-12-22 at 17.50.07_28c729f8.mp4: 640x320 (no detections), 66.2ms\n",
      "video 1/1 (106/236) C:\\Users\\rifal\\Desktop\\CAPSTONE\\WhatsApp Video 2023-12-22 at 17.50.07_28c729f8.mp4: 640x320 (no detections), 62.5ms\n"
     ]
    },
    {
     "name": "stdout",
     "output_type": "stream",
     "text": [
      "Fainted Detected\n",
      "Fainted Detected\n",
      "Fainted Detected\n"
     ]
    },
    {
     "name": "stderr",
     "output_type": "stream",
     "text": [
      "video 1/1 (107/236) C:\\Users\\rifal\\Desktop\\CAPSTONE\\WhatsApp Video 2023-12-22 at 17.50.07_28c729f8.mp4: 640x320 (no detections), 64.2ms\n",
      "video 1/1 (108/236) C:\\Users\\rifal\\Desktop\\CAPSTONE\\WhatsApp Video 2023-12-22 at 17.50.07_28c729f8.mp4: 640x320 (no detections), 92.4ms\n"
     ]
    },
    {
     "name": "stdout",
     "output_type": "stream",
     "text": [
      "Fainted Detected\n",
      "Fainted Detected\n",
      "Fainted Detected\n"
     ]
    },
    {
     "name": "stderr",
     "output_type": "stream",
     "text": [
      "video 1/1 (109/236) C:\\Users\\rifal\\Desktop\\CAPSTONE\\WhatsApp Video 2023-12-22 at 17.50.07_28c729f8.mp4: 640x320 (no detections), 61.4ms\n",
      "video 1/1 (110/236) C:\\Users\\rifal\\Desktop\\CAPSTONE\\WhatsApp Video 2023-12-22 at 17.50.07_28c729f8.mp4: 640x320 (no detections), 64.9ms\n",
      "video 1/1 (111/236) C:\\Users\\rifal\\Desktop\\CAPSTONE\\WhatsApp Video 2023-12-22 at 17.50.07_28c729f8.mp4: 640x320 (no detections), 62.3ms\n",
      "video 1/1 (112/236) C:\\Users\\rifal\\Desktop\\CAPSTONE\\WhatsApp Video 2023-12-22 at 17.50.07_28c729f8.mp4: 640x320 (no detections), 61.4ms\n"
     ]
    },
    {
     "name": "stdout",
     "output_type": "stream",
     "text": [
      "Fainted Detected\n",
      "Fainted Detected\n",
      "Fainted Detected\n"
     ]
    },
    {
     "name": "stderr",
     "output_type": "stream",
     "text": [
      "video 1/1 (113/236) C:\\Users\\rifal\\Desktop\\CAPSTONE\\WhatsApp Video 2023-12-22 at 17.50.07_28c729f8.mp4: 640x320 (no detections), 65.5ms\n",
      "video 1/1 (114/236) C:\\Users\\rifal\\Desktop\\CAPSTONE\\WhatsApp Video 2023-12-22 at 17.50.07_28c729f8.mp4: 640x320 (no detections), 66.5ms\n",
      "video 1/1 (115/236) C:\\Users\\rifal\\Desktop\\CAPSTONE\\WhatsApp Video 2023-12-22 at 17.50.07_28c729f8.mp4: 640x320 (no detections), 60.4ms\n"
     ]
    },
    {
     "name": "stdout",
     "output_type": "stream",
     "text": [
      "Fainted Detected\n",
      "Fainted Detected\n",
      "Fainted Detected\n"
     ]
    },
    {
     "name": "stderr",
     "output_type": "stream",
     "text": [
      "video 1/1 (116/236) C:\\Users\\rifal\\Desktop\\CAPSTONE\\WhatsApp Video 2023-12-22 at 17.50.07_28c729f8.mp4: 640x320 (no detections), 67.7ms\n",
      "video 1/1 (117/236) C:\\Users\\rifal\\Desktop\\CAPSTONE\\WhatsApp Video 2023-12-22 at 17.50.07_28c729f8.mp4: 640x320 (no detections), 66.4ms\n",
      "video 1/1 (118/236) C:\\Users\\rifal\\Desktop\\CAPSTONE\\WhatsApp Video 2023-12-22 at 17.50.07_28c729f8.mp4: 640x320 (no detections), 64.5ms\n"
     ]
    },
    {
     "name": "stdout",
     "output_type": "stream",
     "text": [
      "Fainted Detected\n",
      "Fainted Detected\n",
      "Fainted Detected\n"
     ]
    },
    {
     "name": "stderr",
     "output_type": "stream",
     "text": [
      "video 1/1 (119/236) C:\\Users\\rifal\\Desktop\\CAPSTONE\\WhatsApp Video 2023-12-22 at 17.50.07_28c729f8.mp4: 640x320 (no detections), 64.8ms\n",
      "video 1/1 (120/236) C:\\Users\\rifal\\Desktop\\CAPSTONE\\WhatsApp Video 2023-12-22 at 17.50.07_28c729f8.mp4: 640x320 (no detections), 66.0ms\n",
      "video 1/1 (121/236) C:\\Users\\rifal\\Desktop\\CAPSTONE\\WhatsApp Video 2023-12-22 at 17.50.07_28c729f8.mp4: 640x320 (no detections), 56.8ms\n"
     ]
    },
    {
     "name": "stdout",
     "output_type": "stream",
     "text": [
      "Fainted Detected\n",
      "Fainted Detected\n",
      "Fainted Detected\n"
     ]
    },
    {
     "name": "stderr",
     "output_type": "stream",
     "text": [
      "video 1/1 (122/236) C:\\Users\\rifal\\Desktop\\CAPSTONE\\WhatsApp Video 2023-12-22 at 17.50.07_28c729f8.mp4: 640x320 (no detections), 56.9ms\n",
      "video 1/1 (123/236) C:\\Users\\rifal\\Desktop\\CAPSTONE\\WhatsApp Video 2023-12-22 at 17.50.07_28c729f8.mp4: 640x320 (no detections), 57.9ms\n",
      "video 1/1 (124/236) C:\\Users\\rifal\\Desktop\\CAPSTONE\\WhatsApp Video 2023-12-22 at 17.50.07_28c729f8.mp4: 640x320 (no detections), 58.9ms\n"
     ]
    },
    {
     "name": "stdout",
     "output_type": "stream",
     "text": [
      "Fainted Detected\n",
      "Fainted Detected\n",
      "Fainted Detected\n"
     ]
    },
    {
     "name": "stderr",
     "output_type": "stream",
     "text": [
      "video 1/1 (125/236) C:\\Users\\rifal\\Desktop\\CAPSTONE\\WhatsApp Video 2023-12-22 at 17.50.07_28c729f8.mp4: 640x320 (no detections), 58.3ms\n",
      "video 1/1 (126/236) C:\\Users\\rifal\\Desktop\\CAPSTONE\\WhatsApp Video 2023-12-22 at 17.50.07_28c729f8.mp4: 640x320 (no detections), 62.1ms\n",
      "video 1/1 (127/236) C:\\Users\\rifal\\Desktop\\CAPSTONE\\WhatsApp Video 2023-12-22 at 17.50.07_28c729f8.mp4: 640x320 (no detections), 60.1ms\n"
     ]
    },
    {
     "name": "stdout",
     "output_type": "stream",
     "text": [
      "Fainted Detected\n",
      "Fainted Detected\n",
      "Fainted Detected\n"
     ]
    },
    {
     "name": "stderr",
     "output_type": "stream",
     "text": [
      "video 1/1 (128/236) C:\\Users\\rifal\\Desktop\\CAPSTONE\\WhatsApp Video 2023-12-22 at 17.50.07_28c729f8.mp4: 640x320 (no detections), 82.3ms\n",
      "video 1/1 (129/236) C:\\Users\\rifal\\Desktop\\CAPSTONE\\WhatsApp Video 2023-12-22 at 17.50.07_28c729f8.mp4: 640x320 (no detections), 73.3ms\n",
      "video 1/1 (130/236) C:\\Users\\rifal\\Desktop\\CAPSTONE\\WhatsApp Video 2023-12-22 at 17.50.07_28c729f8.mp4: 640x320 (no detections), 65.8ms\n"
     ]
    },
    {
     "name": "stdout",
     "output_type": "stream",
     "text": [
      "Fainted Detected\n",
      "Fainted Detected\n",
      "Fainted Detected\n"
     ]
    },
    {
     "name": "stderr",
     "output_type": "stream",
     "text": [
      "video 1/1 (131/236) C:\\Users\\rifal\\Desktop\\CAPSTONE\\WhatsApp Video 2023-12-22 at 17.50.07_28c729f8.mp4: 640x320 (no detections), 74.1ms\n",
      "video 1/1 (132/236) C:\\Users\\rifal\\Desktop\\CAPSTONE\\WhatsApp Video 2023-12-22 at 17.50.07_28c729f8.mp4: 640x320 1 fainted, 78.5ms\n",
      "video 1/1 (133/236) C:\\Users\\rifal\\Desktop\\CAPSTONE\\WhatsApp Video 2023-12-22 at 17.50.07_28c729f8.mp4: 640x320 1 fainted, 66.2ms\n"
     ]
    },
    {
     "name": "stdout",
     "output_type": "stream",
     "text": [
      "Fainted Detected\n",
      "Fainted Detected\n",
      "Fainted Detected\n"
     ]
    },
    {
     "name": "stderr",
     "output_type": "stream",
     "text": [
      "video 1/1 (134/236) C:\\Users\\rifal\\Desktop\\CAPSTONE\\WhatsApp Video 2023-12-22 at 17.50.07_28c729f8.mp4: 640x320 1 fainted, 64.0ms\n",
      "video 1/1 (135/236) C:\\Users\\rifal\\Desktop\\CAPSTONE\\WhatsApp Video 2023-12-22 at 17.50.07_28c729f8.mp4: 640x320 1 fainted, 66.3ms\n",
      "video 1/1 (136/236) C:\\Users\\rifal\\Desktop\\CAPSTONE\\WhatsApp Video 2023-12-22 at 17.50.07_28c729f8.mp4: 640x320 1 fainted, 63.3ms\n"
     ]
    },
    {
     "name": "stdout",
     "output_type": "stream",
     "text": [
      "Fainted Detected\n",
      "Fainted Detected\n",
      "Fainted Detected\n"
     ]
    },
    {
     "name": "stderr",
     "output_type": "stream",
     "text": [
      "video 1/1 (137/236) C:\\Users\\rifal\\Desktop\\CAPSTONE\\WhatsApp Video 2023-12-22 at 17.50.07_28c729f8.mp4: 640x320 1 fainted, 64.1ms\n",
      "video 1/1 (138/236) C:\\Users\\rifal\\Desktop\\CAPSTONE\\WhatsApp Video 2023-12-22 at 17.50.07_28c729f8.mp4: 640x320 1 fainted, 76.6ms\n",
      "video 1/1 (139/236) C:\\Users\\rifal\\Desktop\\CAPSTONE\\WhatsApp Video 2023-12-22 at 17.50.07_28c729f8.mp4: 640x320 1 fainted, 65.4ms\n"
     ]
    },
    {
     "name": "stdout",
     "output_type": "stream",
     "text": [
      "Fainted Detected\n",
      "Fainted Detected\n",
      "Fainted Detected\n"
     ]
    },
    {
     "name": "stderr",
     "output_type": "stream",
     "text": [
      "video 1/1 (140/236) C:\\Users\\rifal\\Desktop\\CAPSTONE\\WhatsApp Video 2023-12-22 at 17.50.07_28c729f8.mp4: 640x320 1 fainted, 84.1ms\n",
      "video 1/1 (141/236) C:\\Users\\rifal\\Desktop\\CAPSTONE\\WhatsApp Video 2023-12-22 at 17.50.07_28c729f8.mp4: 640x320 1 fainted, 81.8ms\n",
      "video 1/1 (142/236) C:\\Users\\rifal\\Desktop\\CAPSTONE\\WhatsApp Video 2023-12-22 at 17.50.07_28c729f8.mp4: 640x320 1 fainted, 73.0ms\n"
     ]
    },
    {
     "name": "stdout",
     "output_type": "stream",
     "text": [
      "Fainted Detected\n",
      "Fainted Detected\n",
      "Fainted Detected\n"
     ]
    },
    {
     "name": "stderr",
     "output_type": "stream",
     "text": [
      "video 1/1 (143/236) C:\\Users\\rifal\\Desktop\\CAPSTONE\\WhatsApp Video 2023-12-22 at 17.50.07_28c729f8.mp4: 640x320 1 fainted, 77.9ms\n",
      "video 1/1 (144/236) C:\\Users\\rifal\\Desktop\\CAPSTONE\\WhatsApp Video 2023-12-22 at 17.50.07_28c729f8.mp4: 640x320 1 fainted, 73.6ms\n",
      "video 1/1 (145/236) C:\\Users\\rifal\\Desktop\\CAPSTONE\\WhatsApp Video 2023-12-22 at 17.50.07_28c729f8.mp4: 640x320 1 fainted, 70.4ms\n"
     ]
    },
    {
     "name": "stdout",
     "output_type": "stream",
     "text": [
      "Fainted Detected\n",
      "Fainted Detected\n",
      "Fainted Detected\n"
     ]
    },
    {
     "name": "stderr",
     "output_type": "stream",
     "text": [
      "video 1/1 (146/236) C:\\Users\\rifal\\Desktop\\CAPSTONE\\WhatsApp Video 2023-12-22 at 17.50.07_28c729f8.mp4: 640x320 1 fainted, 74.7ms\n",
      "video 1/1 (147/236) C:\\Users\\rifal\\Desktop\\CAPSTONE\\WhatsApp Video 2023-12-22 at 17.50.07_28c729f8.mp4: 640x320 1 fainted, 88.1ms\n",
      "video 1/1 (148/236) C:\\Users\\rifal\\Desktop\\CAPSTONE\\WhatsApp Video 2023-12-22 at 17.50.07_28c729f8.mp4: 640x320 1 fainted, 78.6ms\n"
     ]
    },
    {
     "name": "stdout",
     "output_type": "stream",
     "text": [
      "Fainted Detected\n",
      "Fainted Detected\n",
      "Fainted Detected\n"
     ]
    },
    {
     "name": "stderr",
     "output_type": "stream",
     "text": [
      "video 1/1 (149/236) C:\\Users\\rifal\\Desktop\\CAPSTONE\\WhatsApp Video 2023-12-22 at 17.50.07_28c729f8.mp4: 640x320 1 fainted, 80.3ms\n",
      "video 1/1 (150/236) C:\\Users\\rifal\\Desktop\\CAPSTONE\\WhatsApp Video 2023-12-22 at 17.50.07_28c729f8.mp4: 640x320 1 fainted, 80.3ms\n",
      "video 1/1 (151/236) C:\\Users\\rifal\\Desktop\\CAPSTONE\\WhatsApp Video 2023-12-22 at 17.50.07_28c729f8.mp4: 640x320 1 fainted, 73.3ms\n"
     ]
    },
    {
     "name": "stdout",
     "output_type": "stream",
     "text": [
      "Fainted Detected\n",
      "Fainted Detected\n",
      "Fainted Detected\n"
     ]
    },
    {
     "name": "stderr",
     "output_type": "stream",
     "text": [
      "video 1/1 (152/236) C:\\Users\\rifal\\Desktop\\CAPSTONE\\WhatsApp Video 2023-12-22 at 17.50.07_28c729f8.mp4: 640x320 1 fainted, 80.2ms\n",
      "video 1/1 (153/236) C:\\Users\\rifal\\Desktop\\CAPSTONE\\WhatsApp Video 2023-12-22 at 17.50.07_28c729f8.mp4: 640x320 1 fainted, 101.9ms\n"
     ]
    },
    {
     "name": "stdout",
     "output_type": "stream",
     "text": [
      "Fainted Detected\n",
      "Fainted Detected\n"
     ]
    },
    {
     "name": "stderr",
     "output_type": "stream",
     "text": [
      "video 1/1 (154/236) C:\\Users\\rifal\\Desktop\\CAPSTONE\\WhatsApp Video 2023-12-22 at 17.50.07_28c729f8.mp4: 640x320 1 fainted, 67.7ms\n",
      "video 1/1 (155/236) C:\\Users\\rifal\\Desktop\\CAPSTONE\\WhatsApp Video 2023-12-22 at 17.50.07_28c729f8.mp4: 640x320 1 fainted, 77.1ms\n"
     ]
    },
    {
     "name": "stdout",
     "output_type": "stream",
     "text": [
      "Fainted Detected\n",
      "Fainted Detected\n"
     ]
    },
    {
     "name": "stderr",
     "output_type": "stream",
     "text": [
      "video 1/1 (156/236) C:\\Users\\rifal\\Desktop\\CAPSTONE\\WhatsApp Video 2023-12-22 at 17.50.07_28c729f8.mp4: 640x320 1 fainted, 75.5ms\n",
      "video 1/1 (157/236) C:\\Users\\rifal\\Desktop\\CAPSTONE\\WhatsApp Video 2023-12-22 at 17.50.07_28c729f8.mp4: 640x320 1 fainted, 82.1ms\n"
     ]
    },
    {
     "name": "stdout",
     "output_type": "stream",
     "text": [
      "Fainted Detected\n",
      "Fainted Detected\n"
     ]
    },
    {
     "name": "stderr",
     "output_type": "stream",
     "text": [
      "video 1/1 (158/236) C:\\Users\\rifal\\Desktop\\CAPSTONE\\WhatsApp Video 2023-12-22 at 17.50.07_28c729f8.mp4: 640x320 1 fainted, 78.4ms\n",
      "video 1/1 (159/236) C:\\Users\\rifal\\Desktop\\CAPSTONE\\WhatsApp Video 2023-12-22 at 17.50.07_28c729f8.mp4: 640x320 1 fainted, 85.8ms\n"
     ]
    },
    {
     "name": "stdout",
     "output_type": "stream",
     "text": [
      "Fainted Detected\n",
      "Fainted Detected\n"
     ]
    },
    {
     "name": "stderr",
     "output_type": "stream",
     "text": [
      "video 1/1 (160/236) C:\\Users\\rifal\\Desktop\\CAPSTONE\\WhatsApp Video 2023-12-22 at 17.50.07_28c729f8.mp4: 640x320 1 fainted, 76.1ms\n",
      "video 1/1 (161/236) C:\\Users\\rifal\\Desktop\\CAPSTONE\\WhatsApp Video 2023-12-22 at 17.50.07_28c729f8.mp4: 640x320 1 fainted, 85.6ms\n"
     ]
    },
    {
     "name": "stdout",
     "output_type": "stream",
     "text": [
      "Fainted Detected\n",
      "Fainted Detected\n"
     ]
    },
    {
     "name": "stderr",
     "output_type": "stream",
     "text": [
      "video 1/1 (162/236) C:\\Users\\rifal\\Desktop\\CAPSTONE\\WhatsApp Video 2023-12-22 at 17.50.07_28c729f8.mp4: 640x320 1 fainted, 79.2ms\n",
      "video 1/1 (163/236) C:\\Users\\rifal\\Desktop\\CAPSTONE\\WhatsApp Video 2023-12-22 at 17.50.07_28c729f8.mp4: 640x320 1 fainted, 77.6ms\n",
      "video 1/1 (164/236) C:\\Users\\rifal\\Desktop\\CAPSTONE\\WhatsApp Video 2023-12-22 at 17.50.07_28c729f8.mp4: 640x320 1 fainted, 67.6ms\n"
     ]
    },
    {
     "name": "stdout",
     "output_type": "stream",
     "text": [
      "Fainted Detected\n",
      "Fainted Detected\n",
      "Fainted Detected\n"
     ]
    },
    {
     "name": "stderr",
     "output_type": "stream",
     "text": [
      "video 1/1 (165/236) C:\\Users\\rifal\\Desktop\\CAPSTONE\\WhatsApp Video 2023-12-22 at 17.50.07_28c729f8.mp4: 640x320 1 fainted, 72.9ms\n",
      "video 1/1 (166/236) C:\\Users\\rifal\\Desktop\\CAPSTONE\\WhatsApp Video 2023-12-22 at 17.50.07_28c729f8.mp4: 640x320 1 fainted, 64.9ms\n",
      "video 1/1 (167/236) C:\\Users\\rifal\\Desktop\\CAPSTONE\\WhatsApp Video 2023-12-22 at 17.50.07_28c729f8.mp4: 640x320 1 fainted, 67.2ms\n"
     ]
    },
    {
     "name": "stdout",
     "output_type": "stream",
     "text": [
      "Fainted Detected\n",
      "Fainted Detected\n",
      "Fainted Detected\n"
     ]
    },
    {
     "name": "stderr",
     "output_type": "stream",
     "text": [
      "video 1/1 (168/236) C:\\Users\\rifal\\Desktop\\CAPSTONE\\WhatsApp Video 2023-12-22 at 17.50.07_28c729f8.mp4: 640x320 1 fainted, 63.2ms\n",
      "video 1/1 (169/236) C:\\Users\\rifal\\Desktop\\CAPSTONE\\WhatsApp Video 2023-12-22 at 17.50.07_28c729f8.mp4: 640x320 1 fainted, 62.0ms\n",
      "video 1/1 (170/236) C:\\Users\\rifal\\Desktop\\CAPSTONE\\WhatsApp Video 2023-12-22 at 17.50.07_28c729f8.mp4: 640x320 1 fainted, 54.7ms\n"
     ]
    },
    {
     "name": "stdout",
     "output_type": "stream",
     "text": [
      "Fainted Detected\n",
      "Fainted Detected\n",
      "Fainted Detected\n"
     ]
    },
    {
     "name": "stderr",
     "output_type": "stream",
     "text": [
      "video 1/1 (171/236) C:\\Users\\rifal\\Desktop\\CAPSTONE\\WhatsApp Video 2023-12-22 at 17.50.07_28c729f8.mp4: 640x320 1 fainted, 67.0ms\n",
      "video 1/1 (172/236) C:\\Users\\rifal\\Desktop\\CAPSTONE\\WhatsApp Video 2023-12-22 at 17.50.07_28c729f8.mp4: 640x320 1 fainted, 66.6ms\n",
      "video 1/1 (173/236) C:\\Users\\rifal\\Desktop\\CAPSTONE\\WhatsApp Video 2023-12-22 at 17.50.07_28c729f8.mp4: 640x320 1 fainted, 65.5ms\n"
     ]
    },
    {
     "name": "stdout",
     "output_type": "stream",
     "text": [
      "Fainted Detected\n",
      "Fainted Detected\n",
      "Fainted Detected\n"
     ]
    },
    {
     "name": "stderr",
     "output_type": "stream",
     "text": [
      "video 1/1 (174/236) C:\\Users\\rifal\\Desktop\\CAPSTONE\\WhatsApp Video 2023-12-22 at 17.50.07_28c729f8.mp4: 640x320 1 fainted, 67.0ms\n",
      "video 1/1 (175/236) C:\\Users\\rifal\\Desktop\\CAPSTONE\\WhatsApp Video 2023-12-22 at 17.50.07_28c729f8.mp4: 640x320 1 fainted, 82.0ms\n",
      "video 1/1 (176/236) C:\\Users\\rifal\\Desktop\\CAPSTONE\\WhatsApp Video 2023-12-22 at 17.50.07_28c729f8.mp4: 640x320 1 fainted, 53.2ms\n"
     ]
    },
    {
     "name": "stdout",
     "output_type": "stream",
     "text": [
      "Fainted Detected\n",
      "Fainted Detected\n",
      "Fainted Detected\n"
     ]
    },
    {
     "name": "stderr",
     "output_type": "stream",
     "text": [
      "video 1/1 (177/236) C:\\Users\\rifal\\Desktop\\CAPSTONE\\WhatsApp Video 2023-12-22 at 17.50.07_28c729f8.mp4: 640x320 1 fainted, 58.2ms\n",
      "video 1/1 (178/236) C:\\Users\\rifal\\Desktop\\CAPSTONE\\WhatsApp Video 2023-12-22 at 17.50.07_28c729f8.mp4: 640x320 1 fainted, 65.4ms\n",
      "video 1/1 (179/236) C:\\Users\\rifal\\Desktop\\CAPSTONE\\WhatsApp Video 2023-12-22 at 17.50.07_28c729f8.mp4: 640x320 1 fainted, 71.1ms\n"
     ]
    },
    {
     "name": "stdout",
     "output_type": "stream",
     "text": [
      "Fainted Detected\n",
      "Fainted Detected\n",
      "Fainted Detected\n"
     ]
    },
    {
     "name": "stderr",
     "output_type": "stream",
     "text": [
      "video 1/1 (180/236) C:\\Users\\rifal\\Desktop\\CAPSTONE\\WhatsApp Video 2023-12-22 at 17.50.07_28c729f8.mp4: 640x320 1 fainted, 59.1ms\n",
      "video 1/1 (181/236) C:\\Users\\rifal\\Desktop\\CAPSTONE\\WhatsApp Video 2023-12-22 at 17.50.07_28c729f8.mp4: 640x320 1 fainted, 63.3ms\n",
      "video 1/1 (182/236) C:\\Users\\rifal\\Desktop\\CAPSTONE\\WhatsApp Video 2023-12-22 at 17.50.07_28c729f8.mp4: 640x320 1 fainted, 53.3ms\n"
     ]
    },
    {
     "name": "stdout",
     "output_type": "stream",
     "text": [
      "Fainted Detected\n",
      "Fainted Detected\n",
      "Fainted Detected\n"
     ]
    },
    {
     "name": "stderr",
     "output_type": "stream",
     "text": [
      "video 1/1 (183/236) C:\\Users\\rifal\\Desktop\\CAPSTONE\\WhatsApp Video 2023-12-22 at 17.50.07_28c729f8.mp4: 640x320 1 fainted, 74.6ms\n",
      "video 1/1 (184/236) C:\\Users\\rifal\\Desktop\\CAPSTONE\\WhatsApp Video 2023-12-22 at 17.50.07_28c729f8.mp4: 640x320 1 fainted, 80.0ms\n"
     ]
    },
    {
     "name": "stdout",
     "output_type": "stream",
     "text": [
      "Fainted Detected\n",
      "Fainted Detected\n"
     ]
    },
    {
     "name": "stderr",
     "output_type": "stream",
     "text": [
      "video 1/1 (185/236) C:\\Users\\rifal\\Desktop\\CAPSTONE\\WhatsApp Video 2023-12-22 at 17.50.07_28c729f8.mp4: 640x320 1 fainted, 127.6ms\n",
      "video 1/1 (186/236) C:\\Users\\rifal\\Desktop\\CAPSTONE\\WhatsApp Video 2023-12-22 at 17.50.07_28c729f8.mp4: 640x320 1 fainted, 145.4ms\n"
     ]
    },
    {
     "name": "stdout",
     "output_type": "stream",
     "text": [
      "Fainted Detected\n",
      "Fainted Detected\n"
     ]
    },
    {
     "name": "stderr",
     "output_type": "stream",
     "text": [
      "video 1/1 (187/236) C:\\Users\\rifal\\Desktop\\CAPSTONE\\WhatsApp Video 2023-12-22 at 17.50.07_28c729f8.mp4: 640x320 1 fainted, 143.2ms\n",
      "video 1/1 (188/236) C:\\Users\\rifal\\Desktop\\CAPSTONE\\WhatsApp Video 2023-12-22 at 17.50.07_28c729f8.mp4: 640x320 1 fainted, 143.3ms\n"
     ]
    },
    {
     "name": "stdout",
     "output_type": "stream",
     "text": [
      "Fainted Detected\n",
      "Fainted Detected\n"
     ]
    },
    {
     "name": "stderr",
     "output_type": "stream",
     "text": [
      "video 1/1 (189/236) C:\\Users\\rifal\\Desktop\\CAPSTONE\\WhatsApp Video 2023-12-22 at 17.50.07_28c729f8.mp4: 640x320 1 fainted, 144.5ms\n",
      "video 1/1 (190/236) C:\\Users\\rifal\\Desktop\\CAPSTONE\\WhatsApp Video 2023-12-22 at 17.50.07_28c729f8.mp4: 640x320 1 fainted, 142.7ms\n"
     ]
    },
    {
     "name": "stdout",
     "output_type": "stream",
     "text": [
      "Fainted Detected\n",
      "Fainted Detected\n"
     ]
    },
    {
     "name": "stderr",
     "output_type": "stream",
     "text": [
      "video 1/1 (191/236) C:\\Users\\rifal\\Desktop\\CAPSTONE\\WhatsApp Video 2023-12-22 at 17.50.07_28c729f8.mp4: 640x320 1 fainted, 141.5ms\n",
      "video 1/1 (192/236) C:\\Users\\rifal\\Desktop\\CAPSTONE\\WhatsApp Video 2023-12-22 at 17.50.07_28c729f8.mp4: 640x320 1 fainted, 144.4ms\n"
     ]
    },
    {
     "name": "stdout",
     "output_type": "stream",
     "text": [
      "Fainted Detected\n",
      "Fainted Detected\n"
     ]
    },
    {
     "name": "stderr",
     "output_type": "stream",
     "text": [
      "video 1/1 (193/236) C:\\Users\\rifal\\Desktop\\CAPSTONE\\WhatsApp Video 2023-12-22 at 17.50.07_28c729f8.mp4: 640x320 1 fainted, 172.6ms\n",
      "video 1/1 (194/236) C:\\Users\\rifal\\Desktop\\CAPSTONE\\WhatsApp Video 2023-12-22 at 17.50.07_28c729f8.mp4: 640x320 1 fainted, 141.3ms\n"
     ]
    },
    {
     "name": "stdout",
     "output_type": "stream",
     "text": [
      "Fainted Detected\n",
      "Fainted Detected\n"
     ]
    },
    {
     "name": "stderr",
     "output_type": "stream",
     "text": [
      "video 1/1 (195/236) C:\\Users\\rifal\\Desktop\\CAPSTONE\\WhatsApp Video 2023-12-22 at 17.50.07_28c729f8.mp4: 640x320 1 fainted, 152.2ms\n",
      "video 1/1 (196/236) C:\\Users\\rifal\\Desktop\\CAPSTONE\\WhatsApp Video 2023-12-22 at 17.50.07_28c729f8.mp4: 640x320 1 fainted, 144.1ms\n"
     ]
    },
    {
     "name": "stdout",
     "output_type": "stream",
     "text": [
      "Fainted Detected\n",
      "Fainted Detected\n"
     ]
    },
    {
     "name": "stderr",
     "output_type": "stream",
     "text": [
      "video 1/1 (197/236) C:\\Users\\rifal\\Desktop\\CAPSTONE\\WhatsApp Video 2023-12-22 at 17.50.07_28c729f8.mp4: 640x320 1 fainted, 144.7ms\n",
      "video 1/1 (198/236) C:\\Users\\rifal\\Desktop\\CAPSTONE\\WhatsApp Video 2023-12-22 at 17.50.07_28c729f8.mp4: 640x320 1 fainted, 138.2ms\n"
     ]
    },
    {
     "name": "stdout",
     "output_type": "stream",
     "text": [
      "Fainted Detected\n",
      "Fainted Detected\n"
     ]
    },
    {
     "name": "stderr",
     "output_type": "stream",
     "text": [
      "video 1/1 (199/236) C:\\Users\\rifal\\Desktop\\CAPSTONE\\WhatsApp Video 2023-12-22 at 17.50.07_28c729f8.mp4: 640x320 1 fainted, 142.1ms\n",
      "video 1/1 (200/236) C:\\Users\\rifal\\Desktop\\CAPSTONE\\WhatsApp Video 2023-12-22 at 17.50.07_28c729f8.mp4: 640x320 1 fainted, 143.3ms\n"
     ]
    },
    {
     "name": "stdout",
     "output_type": "stream",
     "text": [
      "Fainted Detected\n",
      "Fainted Detected\n"
     ]
    },
    {
     "name": "stderr",
     "output_type": "stream",
     "text": [
      "video 1/1 (201/236) C:\\Users\\rifal\\Desktop\\CAPSTONE\\WhatsApp Video 2023-12-22 at 17.50.07_28c729f8.mp4: 640x320 1 fainted, 138.8ms\n",
      "video 1/1 (202/236) C:\\Users\\rifal\\Desktop\\CAPSTONE\\WhatsApp Video 2023-12-22 at 17.50.07_28c729f8.mp4: 640x320 1 fainted, 141.8ms\n"
     ]
    },
    {
     "name": "stdout",
     "output_type": "stream",
     "text": [
      "Fainted Detected\n",
      "Fainted Detected\n"
     ]
    },
    {
     "name": "stderr",
     "output_type": "stream",
     "text": [
      "video 1/1 (203/236) C:\\Users\\rifal\\Desktop\\CAPSTONE\\WhatsApp Video 2023-12-22 at 17.50.07_28c729f8.mp4: 640x320 1 fainted, 140.0ms\n",
      "video 1/1 (204/236) C:\\Users\\rifal\\Desktop\\CAPSTONE\\WhatsApp Video 2023-12-22 at 17.50.07_28c729f8.mp4: 640x320 1 fainted, 138.0ms\n"
     ]
    },
    {
     "name": "stdout",
     "output_type": "stream",
     "text": [
      "Fainted Detected\n",
      "Fainted Detected\n"
     ]
    },
    {
     "name": "stderr",
     "output_type": "stream",
     "text": [
      "video 1/1 (205/236) C:\\Users\\rifal\\Desktop\\CAPSTONE\\WhatsApp Video 2023-12-22 at 17.50.07_28c729f8.mp4: 640x320 1 fainted, 141.5ms\n",
      "video 1/1 (206/236) C:\\Users\\rifal\\Desktop\\CAPSTONE\\WhatsApp Video 2023-12-22 at 17.50.07_28c729f8.mp4: 640x320 1 fainted, 139.2ms\n"
     ]
    },
    {
     "name": "stdout",
     "output_type": "stream",
     "text": [
      "Fainted Detected\n",
      "Fainted Detected\n"
     ]
    },
    {
     "name": "stderr",
     "output_type": "stream",
     "text": [
      "video 1/1 (207/236) C:\\Users\\rifal\\Desktop\\CAPSTONE\\WhatsApp Video 2023-12-22 at 17.50.07_28c729f8.mp4: 640x320 1 fainted, 143.7ms\n",
      "video 1/1 (208/236) C:\\Users\\rifal\\Desktop\\CAPSTONE\\WhatsApp Video 2023-12-22 at 17.50.07_28c729f8.mp4: 640x320 1 fainted, 142.1ms\n"
     ]
    },
    {
     "name": "stdout",
     "output_type": "stream",
     "text": [
      "Fainted Detected\n",
      "Fainted Detected\n"
     ]
    },
    {
     "name": "stderr",
     "output_type": "stream",
     "text": [
      "video 1/1 (209/236) C:\\Users\\rifal\\Desktop\\CAPSTONE\\WhatsApp Video 2023-12-22 at 17.50.07_28c729f8.mp4: 640x320 1 fainted, 174.1ms\n",
      "video 1/1 (210/236) C:\\Users\\rifal\\Desktop\\CAPSTONE\\WhatsApp Video 2023-12-22 at 17.50.07_28c729f8.mp4: 640x320 1 fainted, 142.3ms\n"
     ]
    },
    {
     "name": "stdout",
     "output_type": "stream",
     "text": [
      "Fainted Detected\n",
      "Fainted Detected\n"
     ]
    },
    {
     "name": "stderr",
     "output_type": "stream",
     "text": [
      "video 1/1 (211/236) C:\\Users\\rifal\\Desktop\\CAPSTONE\\WhatsApp Video 2023-12-22 at 17.50.07_28c729f8.mp4: 640x320 1 fainted, 146.3ms\n",
      "video 1/1 (212/236) C:\\Users\\rifal\\Desktop\\CAPSTONE\\WhatsApp Video 2023-12-22 at 17.50.07_28c729f8.mp4: 640x320 1 fainted, 137.2ms\n"
     ]
    },
    {
     "name": "stdout",
     "output_type": "stream",
     "text": [
      "Fainted Detected\n",
      "Fainted Detected\n"
     ]
    },
    {
     "name": "stderr",
     "output_type": "stream",
     "text": [
      "video 1/1 (213/236) C:\\Users\\rifal\\Desktop\\CAPSTONE\\WhatsApp Video 2023-12-22 at 17.50.07_28c729f8.mp4: 640x320 1 fainted, 148.5ms\n",
      "video 1/1 (214/236) C:\\Users\\rifal\\Desktop\\CAPSTONE\\WhatsApp Video 2023-12-22 at 17.50.07_28c729f8.mp4: 640x320 1 fainted, 148.1ms\n"
     ]
    },
    {
     "name": "stdout",
     "output_type": "stream",
     "text": [
      "Fainted Detected\n",
      "Fainted Detected\n"
     ]
    },
    {
     "name": "stderr",
     "output_type": "stream",
     "text": [
      "video 1/1 (215/236) C:\\Users\\rifal\\Desktop\\CAPSTONE\\WhatsApp Video 2023-12-22 at 17.50.07_28c729f8.mp4: 640x320 1 fainted, 150.8ms\n",
      "video 1/1 (216/236) C:\\Users\\rifal\\Desktop\\CAPSTONE\\WhatsApp Video 2023-12-22 at 17.50.07_28c729f8.mp4: 640x320 1 fainted, 148.8ms\n"
     ]
    },
    {
     "name": "stdout",
     "output_type": "stream",
     "text": [
      "Fainted Detected\n",
      "Fainted Detected\n"
     ]
    },
    {
     "name": "stderr",
     "output_type": "stream",
     "text": [
      "video 1/1 (217/236) C:\\Users\\rifal\\Desktop\\CAPSTONE\\WhatsApp Video 2023-12-22 at 17.50.07_28c729f8.mp4: 640x320 1 fainted, 153.6ms\n",
      "video 1/1 (218/236) C:\\Users\\rifal\\Desktop\\CAPSTONE\\WhatsApp Video 2023-12-22 at 17.50.07_28c729f8.mp4: 640x320 1 fainted, 143.0ms\n"
     ]
    },
    {
     "name": "stdout",
     "output_type": "stream",
     "text": [
      "Fainted Detected\n",
      "Fainted Detected\n"
     ]
    },
    {
     "name": "stderr",
     "output_type": "stream",
     "text": [
      "video 1/1 (219/236) C:\\Users\\rifal\\Desktop\\CAPSTONE\\WhatsApp Video 2023-12-22 at 17.50.07_28c729f8.mp4: 640x320 1 fainted, 146.1ms\n",
      "video 1/1 (220/236) C:\\Users\\rifal\\Desktop\\CAPSTONE\\WhatsApp Video 2023-12-22 at 17.50.07_28c729f8.mp4: 640x320 1 fainted, 142.5ms\n"
     ]
    },
    {
     "name": "stdout",
     "output_type": "stream",
     "text": [
      "Fainted Detected\n",
      "Fainted Detected\n"
     ]
    },
    {
     "name": "stderr",
     "output_type": "stream",
     "text": [
      "video 1/1 (221/236) C:\\Users\\rifal\\Desktop\\CAPSTONE\\WhatsApp Video 2023-12-22 at 17.50.07_28c729f8.mp4: 640x320 1 fainted, 147.8ms\n",
      "video 1/1 (222/236) C:\\Users\\rifal\\Desktop\\CAPSTONE\\WhatsApp Video 2023-12-22 at 17.50.07_28c729f8.mp4: 640x320 1 fainted, 147.7ms\n"
     ]
    },
    {
     "name": "stdout",
     "output_type": "stream",
     "text": [
      "Fainted Detected\n",
      "Fainted Detected\n"
     ]
    },
    {
     "name": "stderr",
     "output_type": "stream",
     "text": [
      "video 1/1 (223/236) C:\\Users\\rifal\\Desktop\\CAPSTONE\\WhatsApp Video 2023-12-22 at 17.50.07_28c729f8.mp4: 640x320 1 fainted, 149.0ms\n",
      "video 1/1 (224/236) C:\\Users\\rifal\\Desktop\\CAPSTONE\\WhatsApp Video 2023-12-22 at 17.50.07_28c729f8.mp4: 640x320 1 fainted, 142.3ms\n"
     ]
    },
    {
     "name": "stdout",
     "output_type": "stream",
     "text": [
      "Fainted Detected\n",
      "Fainted Detected\n"
     ]
    },
    {
     "name": "stderr",
     "output_type": "stream",
     "text": [
      "video 1/1 (225/236) C:\\Users\\rifal\\Desktop\\CAPSTONE\\WhatsApp Video 2023-12-22 at 17.50.07_28c729f8.mp4: 640x320 1 fainted, 173.2ms\n",
      "video 1/1 (226/236) C:\\Users\\rifal\\Desktop\\CAPSTONE\\WhatsApp Video 2023-12-22 at 17.50.07_28c729f8.mp4: 640x320 1 fainted, 138.1ms\n"
     ]
    },
    {
     "name": "stdout",
     "output_type": "stream",
     "text": [
      "Fainted Detected\n",
      "Fainted Detected\n"
     ]
    },
    {
     "name": "stderr",
     "output_type": "stream",
     "text": [
      "video 1/1 (227/236) C:\\Users\\rifal\\Desktop\\CAPSTONE\\WhatsApp Video 2023-12-22 at 17.50.07_28c729f8.mp4: 640x320 1 fainted, 139.3ms\n",
      "video 1/1 (228/236) C:\\Users\\rifal\\Desktop\\CAPSTONE\\WhatsApp Video 2023-12-22 at 17.50.07_28c729f8.mp4: 640x320 1 fainted, 138.5ms\n"
     ]
    },
    {
     "name": "stdout",
     "output_type": "stream",
     "text": [
      "Fainted Detected\n",
      "Fainted Detected\n"
     ]
    },
    {
     "name": "stderr",
     "output_type": "stream",
     "text": [
      "video 1/1 (229/236) C:\\Users\\rifal\\Desktop\\CAPSTONE\\WhatsApp Video 2023-12-22 at 17.50.07_28c729f8.mp4: 640x320 1 fainted, 141.7ms\n",
      "video 1/1 (230/236) C:\\Users\\rifal\\Desktop\\CAPSTONE\\WhatsApp Video 2023-12-22 at 17.50.07_28c729f8.mp4: 640x320 1 fainted, 146.6ms\n"
     ]
    },
    {
     "name": "stdout",
     "output_type": "stream",
     "text": [
      "Fainted Detected\n",
      "Fainted Detected\n"
     ]
    },
    {
     "name": "stderr",
     "output_type": "stream",
     "text": [
      "video 1/1 (231/236) C:\\Users\\rifal\\Desktop\\CAPSTONE\\WhatsApp Video 2023-12-22 at 17.50.07_28c729f8.mp4: 640x320 1 fainted, 147.3ms\n",
      "video 1/1 (232/236) C:\\Users\\rifal\\Desktop\\CAPSTONE\\WhatsApp Video 2023-12-22 at 17.50.07_28c729f8.mp4: 640x320 1 fainted, 145.1ms\n"
     ]
    },
    {
     "name": "stdout",
     "output_type": "stream",
     "text": [
      "Fainted Detected\n",
      "Fainted Detected\n"
     ]
    },
    {
     "name": "stderr",
     "output_type": "stream",
     "text": [
      "video 1/1 (233/236) C:\\Users\\rifal\\Desktop\\CAPSTONE\\WhatsApp Video 2023-12-22 at 17.50.07_28c729f8.mp4: 640x320 1 fainted, 142.9ms\n",
      "video 1/1 (234/236) C:\\Users\\rifal\\Desktop\\CAPSTONE\\WhatsApp Video 2023-12-22 at 17.50.07_28c729f8.mp4: 640x320 1 fainted, 146.0ms\n"
     ]
    },
    {
     "name": "stdout",
     "output_type": "stream",
     "text": [
      "Fainted Detected\n",
      "Fainted Detected\n"
     ]
    },
    {
     "name": "stderr",
     "output_type": "stream",
     "text": [
      "video 1/1 (235/236) C:\\Users\\rifal\\Desktop\\CAPSTONE\\WhatsApp Video 2023-12-22 at 17.50.07_28c729f8.mp4: 640x320 1 fainted, 143.3ms\n",
      "video 1/1 (236/236) C:\\Users\\rifal\\Desktop\\CAPSTONE\\WhatsApp Video 2023-12-22 at 17.50.07_28c729f8.mp4: 640x320 1 fainted, 137.6ms\n",
      "Speed: 2.0ms preprocess, 84.7ms inference, 1.0ms postprocess per image at shape (1, 3, 640, 320)\n"
     ]
    },
    {
     "name": "stdout",
     "output_type": "stream",
     "text": [
      "Fainted Detected\n",
      "Fainted Detected\n"
     ]
    },
    {
     "name": "stderr",
     "output_type": "stream",
     "text": [
      "\n",
      "video 1/1 (1/236) C:\\Users\\rifal\\Desktop\\CAPSTONE\\WhatsApp Video 2023-12-22 at 17.50.07_28c729f8.mp4: 640x320 (no detections), 157.3ms\n",
      "video 1/1 (2/236) C:\\Users\\rifal\\Desktop\\CAPSTONE\\WhatsApp Video 2023-12-22 at 17.50.07_28c729f8.mp4: 640x320 (no detections), 157.5ms\n"
     ]
    },
    {
     "name": "stdout",
     "output_type": "stream",
     "text": [
      "Fainted Detected\n",
      "Fainted Detected\n"
     ]
    },
    {
     "name": "stderr",
     "output_type": "stream",
     "text": [
      "video 1/1 (3/236) C:\\Users\\rifal\\Desktop\\CAPSTONE\\WhatsApp Video 2023-12-22 at 17.50.07_28c729f8.mp4: 640x320 (no detections), 209.2ms\n",
      "video 1/1 (4/236) C:\\Users\\rifal\\Desktop\\CAPSTONE\\WhatsApp Video 2023-12-22 at 17.50.07_28c729f8.mp4: 640x320 (no detections), 156.4ms\n"
     ]
    },
    {
     "name": "stdout",
     "output_type": "stream",
     "text": [
      "Fainted Detected\n",
      "Fainted Detected\n"
     ]
    },
    {
     "name": "stderr",
     "output_type": "stream",
     "text": [
      "video 1/1 (5/236) C:\\Users\\rifal\\Desktop\\CAPSTONE\\WhatsApp Video 2023-12-22 at 17.50.07_28c729f8.mp4: 640x320 (no detections), 169.4ms\n",
      "video 1/1 (6/236) C:\\Users\\rifal\\Desktop\\CAPSTONE\\WhatsApp Video 2023-12-22 at 17.50.07_28c729f8.mp4: 640x320 (no detections), 161.4ms\n"
     ]
    },
    {
     "name": "stdout",
     "output_type": "stream",
     "text": [
      "Fainted Detected\n",
      "Fainted Detected\n"
     ]
    },
    {
     "name": "stderr",
     "output_type": "stream",
     "text": [
      "video 1/1 (7/236) C:\\Users\\rifal\\Desktop\\CAPSTONE\\WhatsApp Video 2023-12-22 at 17.50.07_28c729f8.mp4: 640x320 (no detections), 168.3ms\n",
      "video 1/1 (8/236) C:\\Users\\rifal\\Desktop\\CAPSTONE\\WhatsApp Video 2023-12-22 at 17.50.07_28c729f8.mp4: 640x320 (no detections), 188.3ms\n"
     ]
    },
    {
     "name": "stdout",
     "output_type": "stream",
     "text": [
      "Fainted Detected\n",
      "Fainted Detected\n"
     ]
    },
    {
     "name": "stderr",
     "output_type": "stream",
     "text": [
      "video 1/1 (9/236) C:\\Users\\rifal\\Desktop\\CAPSTONE\\WhatsApp Video 2023-12-22 at 17.50.07_28c729f8.mp4: 640x320 (no detections), 191.2ms\n",
      "video 1/1 (10/236) C:\\Users\\rifal\\Desktop\\CAPSTONE\\WhatsApp Video 2023-12-22 at 17.50.07_28c729f8.mp4: 640x320 (no detections), 154.8ms\n"
     ]
    },
    {
     "name": "stdout",
     "output_type": "stream",
     "text": [
      "Fainted Detected\n",
      "Fainted Detected\n"
     ]
    },
    {
     "name": "stderr",
     "output_type": "stream",
     "text": [
      "video 1/1 (11/236) C:\\Users\\rifal\\Desktop\\CAPSTONE\\WhatsApp Video 2023-12-22 at 17.50.07_28c729f8.mp4: 640x320 (no detections), 171.0ms\n",
      "video 1/1 (12/236) C:\\Users\\rifal\\Desktop\\CAPSTONE\\WhatsApp Video 2023-12-22 at 17.50.07_28c729f8.mp4: 640x320 (no detections), 157.4ms\n"
     ]
    },
    {
     "name": "stdout",
     "output_type": "stream",
     "text": [
      "Fainted Detected\n",
      "Fainted Detected\n"
     ]
    },
    {
     "name": "stderr",
     "output_type": "stream",
     "text": [
      "video 1/1 (13/236) C:\\Users\\rifal\\Desktop\\CAPSTONE\\WhatsApp Video 2023-12-22 at 17.50.07_28c729f8.mp4: 640x320 (no detections), 161.9ms\n",
      "video 1/1 (14/236) C:\\Users\\rifal\\Desktop\\CAPSTONE\\WhatsApp Video 2023-12-22 at 17.50.07_28c729f8.mp4: 640x320 (no detections), 152.9ms\n"
     ]
    },
    {
     "name": "stdout",
     "output_type": "stream",
     "text": [
      "Fainted Detected\n",
      "Fainted Detected\n"
     ]
    },
    {
     "name": "stderr",
     "output_type": "stream",
     "text": [
      "video 1/1 (15/236) C:\\Users\\rifal\\Desktop\\CAPSTONE\\WhatsApp Video 2023-12-22 at 17.50.07_28c729f8.mp4: 640x320 (no detections), 149.0ms\n",
      "video 1/1 (16/236) C:\\Users\\rifal\\Desktop\\CAPSTONE\\WhatsApp Video 2023-12-22 at 17.50.07_28c729f8.mp4: 640x320 (no detections), 145.3ms\n"
     ]
    },
    {
     "name": "stdout",
     "output_type": "stream",
     "text": [
      "Fainted Detected\n",
      "Fainted Detected\n"
     ]
    },
    {
     "name": "stderr",
     "output_type": "stream",
     "text": [
      "video 1/1 (17/236) C:\\Users\\rifal\\Desktop\\CAPSTONE\\WhatsApp Video 2023-12-22 at 17.50.07_28c729f8.mp4: 640x320 (no detections), 148.9ms\n",
      "video 1/1 (18/236) C:\\Users\\rifal\\Desktop\\CAPSTONE\\WhatsApp Video 2023-12-22 at 17.50.07_28c729f8.mp4: 640x320 (no detections), 146.0ms\n"
     ]
    },
    {
     "name": "stdout",
     "output_type": "stream",
     "text": [
      "Fainted Detected\n",
      "Fainted Detected\n"
     ]
    },
    {
     "name": "stderr",
     "output_type": "stream",
     "text": [
      "video 1/1 (19/236) C:\\Users\\rifal\\Desktop\\CAPSTONE\\WhatsApp Video 2023-12-22 at 17.50.07_28c729f8.mp4: 640x320 (no detections), 189.1ms\n",
      "video 1/1 (20/236) C:\\Users\\rifal\\Desktop\\CAPSTONE\\WhatsApp Video 2023-12-22 at 17.50.07_28c729f8.mp4: 640x320 (no detections), 142.4ms\n"
     ]
    },
    {
     "name": "stdout",
     "output_type": "stream",
     "text": [
      "Fainted Detected\n",
      "Fainted Detected\n"
     ]
    },
    {
     "name": "stderr",
     "output_type": "stream",
     "text": [
      "video 1/1 (21/236) C:\\Users\\rifal\\Desktop\\CAPSTONE\\WhatsApp Video 2023-12-22 at 17.50.07_28c729f8.mp4: 640x320 (no detections), 139.3ms\n",
      "video 1/1 (22/236) C:\\Users\\rifal\\Desktop\\CAPSTONE\\WhatsApp Video 2023-12-22 at 17.50.07_28c729f8.mp4: 640x320 (no detections), 138.9ms\n"
     ]
    },
    {
     "name": "stdout",
     "output_type": "stream",
     "text": [
      "Fainted Detected\n",
      "Fainted Detected\n"
     ]
    },
    {
     "name": "stderr",
     "output_type": "stream",
     "text": [
      "video 1/1 (23/236) C:\\Users\\rifal\\Desktop\\CAPSTONE\\WhatsApp Video 2023-12-22 at 17.50.07_28c729f8.mp4: 640x320 (no detections), 150.2ms\n",
      "video 1/1 (24/236) C:\\Users\\rifal\\Desktop\\CAPSTONE\\WhatsApp Video 2023-12-22 at 17.50.07_28c729f8.mp4: 640x320 (no detections), 135.0ms\n"
     ]
    },
    {
     "name": "stdout",
     "output_type": "stream",
     "text": [
      "Fainted Detected\n",
      "Fainted Detected\n"
     ]
    },
    {
     "name": "stderr",
     "output_type": "stream",
     "text": [
      "video 1/1 (25/236) C:\\Users\\rifal\\Desktop\\CAPSTONE\\WhatsApp Video 2023-12-22 at 17.50.07_28c729f8.mp4: 640x320 (no detections), 134.4ms\n",
      "video 1/1 (26/236) C:\\Users\\rifal\\Desktop\\CAPSTONE\\WhatsApp Video 2023-12-22 at 17.50.07_28c729f8.mp4: 640x320 (no detections), 129.1ms\n"
     ]
    },
    {
     "name": "stdout",
     "output_type": "stream",
     "text": [
      "Fainted Detected\n",
      "Fainted Detected\n"
     ]
    },
    {
     "name": "stderr",
     "output_type": "stream",
     "text": [
      "video 1/1 (27/236) C:\\Users\\rifal\\Desktop\\CAPSTONE\\WhatsApp Video 2023-12-22 at 17.50.07_28c729f8.mp4: 640x320 (no detections), 130.7ms\n",
      "video 1/1 (28/236) C:\\Users\\rifal\\Desktop\\CAPSTONE\\WhatsApp Video 2023-12-22 at 17.50.07_28c729f8.mp4: 640x320 (no detections), 128.2ms\n"
     ]
    },
    {
     "name": "stdout",
     "output_type": "stream",
     "text": [
      "Fainted Detected\n",
      "Fainted Detected\n"
     ]
    },
    {
     "name": "stderr",
     "output_type": "stream",
     "text": [
      "video 1/1 (29/236) C:\\Users\\rifal\\Desktop\\CAPSTONE\\WhatsApp Video 2023-12-22 at 17.50.07_28c729f8.mp4: 640x320 (no detections), 168.5ms\n",
      "video 1/1 (30/236) C:\\Users\\rifal\\Desktop\\CAPSTONE\\WhatsApp Video 2023-12-22 at 17.50.07_28c729f8.mp4: 640x320 (no detections), 139.1ms\n"
     ]
    },
    {
     "name": "stdout",
     "output_type": "stream",
     "text": [
      "Fainted Detected\n",
      "Fainted Detected\n"
     ]
    },
    {
     "name": "stderr",
     "output_type": "stream",
     "text": [
      "video 1/1 (31/236) C:\\Users\\rifal\\Desktop\\CAPSTONE\\WhatsApp Video 2023-12-22 at 17.50.07_28c729f8.mp4: 640x320 (no detections), 127.8ms\n",
      "video 1/1 (32/236) C:\\Users\\rifal\\Desktop\\CAPSTONE\\WhatsApp Video 2023-12-22 at 17.50.07_28c729f8.mp4: 640x320 (no detections), 123.2ms\n"
     ]
    },
    {
     "name": "stdout",
     "output_type": "stream",
     "text": [
      "Fainted Detected\n",
      "Fainted Detected\n"
     ]
    },
    {
     "name": "stderr",
     "output_type": "stream",
     "text": [
      "video 1/1 (33/236) C:\\Users\\rifal\\Desktop\\CAPSTONE\\WhatsApp Video 2023-12-22 at 17.50.07_28c729f8.mp4: 640x320 (no detections), 137.0ms\n",
      "video 1/1 (34/236) C:\\Users\\rifal\\Desktop\\CAPSTONE\\WhatsApp Video 2023-12-22 at 17.50.07_28c729f8.mp4: 640x320 (no detections), 161.8ms\n"
     ]
    },
    {
     "name": "stdout",
     "output_type": "stream",
     "text": [
      "Fainted Detected\n",
      "Fainted Detected\n"
     ]
    },
    {
     "name": "stderr",
     "output_type": "stream",
     "text": [
      "video 1/1 (35/236) C:\\Users\\rifal\\Desktop\\CAPSTONE\\WhatsApp Video 2023-12-22 at 17.50.07_28c729f8.mp4: 640x320 (no detections), 126.9ms\n",
      "video 1/1 (36/236) C:\\Users\\rifal\\Desktop\\CAPSTONE\\WhatsApp Video 2023-12-22 at 17.50.07_28c729f8.mp4: 640x320 (no detections), 122.8ms\n"
     ]
    },
    {
     "name": "stdout",
     "output_type": "stream",
     "text": [
      "Fainted Detected\n",
      "Fainted Detected\n"
     ]
    },
    {
     "name": "stderr",
     "output_type": "stream",
     "text": [
      "video 1/1 (37/236) C:\\Users\\rifal\\Desktop\\CAPSTONE\\WhatsApp Video 2023-12-22 at 17.50.07_28c729f8.mp4: 640x320 (no detections), 120.0ms\n",
      "video 1/1 (38/236) C:\\Users\\rifal\\Desktop\\CAPSTONE\\WhatsApp Video 2023-12-22 at 17.50.07_28c729f8.mp4: 640x320 (no detections), 124.8ms\n"
     ]
    },
    {
     "name": "stdout",
     "output_type": "stream",
     "text": [
      "Fainted Detected\n",
      "Fainted Detected\n"
     ]
    },
    {
     "name": "stderr",
     "output_type": "stream",
     "text": [
      "video 1/1 (39/236) C:\\Users\\rifal\\Desktop\\CAPSTONE\\WhatsApp Video 2023-12-22 at 17.50.07_28c729f8.mp4: 640x320 (no detections), 121.4ms\n",
      "video 1/1 (40/236) C:\\Users\\rifal\\Desktop\\CAPSTONE\\WhatsApp Video 2023-12-22 at 17.50.07_28c729f8.mp4: 640x320 (no detections), 115.5ms\n"
     ]
    },
    {
     "name": "stdout",
     "output_type": "stream",
     "text": [
      "Fainted Detected\n",
      "Fainted Detected\n"
     ]
    },
    {
     "name": "stderr",
     "output_type": "stream",
     "text": [
      "video 1/1 (41/236) C:\\Users\\rifal\\Desktop\\CAPSTONE\\WhatsApp Video 2023-12-22 at 17.50.07_28c729f8.mp4: 640x320 (no detections), 127.1ms\n",
      "video 1/1 (42/236) C:\\Users\\rifal\\Desktop\\CAPSTONE\\WhatsApp Video 2023-12-22 at 17.50.07_28c729f8.mp4: 640x320 (no detections), 113.8ms\n"
     ]
    },
    {
     "name": "stdout",
     "output_type": "stream",
     "text": [
      "Fainted Detected\n",
      "Fainted Detected\n"
     ]
    },
    {
     "name": "stderr",
     "output_type": "stream",
     "text": [
      "video 1/1 (43/236) C:\\Users\\rifal\\Desktop\\CAPSTONE\\WhatsApp Video 2023-12-22 at 17.50.07_28c729f8.mp4: 640x320 (no detections), 122.1ms\n",
      "video 1/1 (44/236) C:\\Users\\rifal\\Desktop\\CAPSTONE\\WhatsApp Video 2023-12-22 at 17.50.07_28c729f8.mp4: 640x320 (no detections), 125.7ms\n"
     ]
    },
    {
     "name": "stdout",
     "output_type": "stream",
     "text": [
      "Fainted Detected\n",
      "Fainted Detected\n"
     ]
    },
    {
     "name": "stderr",
     "output_type": "stream",
     "text": [
      "video 1/1 (45/236) C:\\Users\\rifal\\Desktop\\CAPSTONE\\WhatsApp Video 2023-12-22 at 17.50.07_28c729f8.mp4: 640x320 (no detections), 124.6ms\n",
      "video 1/1 (46/236) C:\\Users\\rifal\\Desktop\\CAPSTONE\\WhatsApp Video 2023-12-22 at 17.50.07_28c729f8.mp4: 640x320 (no detections), 121.8ms\n"
     ]
    },
    {
     "name": "stdout",
     "output_type": "stream",
     "text": [
      "Fainted Detected\n",
      "Fainted Detected\n"
     ]
    },
    {
     "name": "stderr",
     "output_type": "stream",
     "text": [
      "video 1/1 (47/236) C:\\Users\\rifal\\Desktop\\CAPSTONE\\WhatsApp Video 2023-12-22 at 17.50.07_28c729f8.mp4: 640x320 (no detections), 129.2ms\n",
      "video 1/1 (48/236) C:\\Users\\rifal\\Desktop\\CAPSTONE\\WhatsApp Video 2023-12-22 at 17.50.07_28c729f8.mp4: 640x320 (no detections), 117.3ms\n"
     ]
    },
    {
     "name": "stdout",
     "output_type": "stream",
     "text": [
      "Fainted Detected\n",
      "Fainted Detected\n"
     ]
    },
    {
     "name": "stderr",
     "output_type": "stream",
     "text": [
      "video 1/1 (49/236) C:\\Users\\rifal\\Desktop\\CAPSTONE\\WhatsApp Video 2023-12-22 at 17.50.07_28c729f8.mp4: 640x320 (no detections), 129.1ms\n",
      "video 1/1 (50/236) C:\\Users\\rifal\\Desktop\\CAPSTONE\\WhatsApp Video 2023-12-22 at 17.50.07_28c729f8.mp4: 640x320 (no detections), 137.9ms\n"
     ]
    },
    {
     "name": "stdout",
     "output_type": "stream",
     "text": [
      "Fainted Detected\n",
      "Fainted Detected\n"
     ]
    },
    {
     "name": "stderr",
     "output_type": "stream",
     "text": [
      "video 1/1 (51/236) C:\\Users\\rifal\\Desktop\\CAPSTONE\\WhatsApp Video 2023-12-22 at 17.50.07_28c729f8.mp4: 640x320 (no detections), 121.3ms\n",
      "video 1/1 (52/236) C:\\Users\\rifal\\Desktop\\CAPSTONE\\WhatsApp Video 2023-12-22 at 17.50.07_28c729f8.mp4: 640x320 (no detections), 121.4ms\n"
     ]
    },
    {
     "name": "stdout",
     "output_type": "stream",
     "text": [
      "Fainted Detected\n",
      "Fainted Detected\n"
     ]
    },
    {
     "name": "stderr",
     "output_type": "stream",
     "text": [
      "video 1/1 (53/236) C:\\Users\\rifal\\Desktop\\CAPSTONE\\WhatsApp Video 2023-12-22 at 17.50.07_28c729f8.mp4: 640x320 (no detections), 121.5ms\n",
      "video 1/1 (54/236) C:\\Users\\rifal\\Desktop\\CAPSTONE\\WhatsApp Video 2023-12-22 at 17.50.07_28c729f8.mp4: 640x320 (no detections), 122.5ms\n"
     ]
    },
    {
     "name": "stdout",
     "output_type": "stream",
     "text": [
      "Fainted Detected\n",
      "Fainted Detected\n"
     ]
    },
    {
     "name": "stderr",
     "output_type": "stream",
     "text": [
      "video 1/1 (55/236) C:\\Users\\rifal\\Desktop\\CAPSTONE\\WhatsApp Video 2023-12-22 at 17.50.07_28c729f8.mp4: 640x320 (no detections), 122.4ms\n",
      "video 1/1 (56/236) C:\\Users\\rifal\\Desktop\\CAPSTONE\\WhatsApp Video 2023-12-22 at 17.50.07_28c729f8.mp4: 640x320 (no detections), 134.5ms\n"
     ]
    },
    {
     "name": "stdout",
     "output_type": "stream",
     "text": [
      "Fainted Detected\n",
      "Fainted Detected\n"
     ]
    },
    {
     "name": "stderr",
     "output_type": "stream",
     "text": [
      "video 1/1 (57/236) C:\\Users\\rifal\\Desktop\\CAPSTONE\\WhatsApp Video 2023-12-22 at 17.50.07_28c729f8.mp4: 640x320 (no detections), 139.4ms\n",
      "video 1/1 (58/236) C:\\Users\\rifal\\Desktop\\CAPSTONE\\WhatsApp Video 2023-12-22 at 17.50.07_28c729f8.mp4: 640x320 (no detections), 136.7ms\n"
     ]
    },
    {
     "name": "stdout",
     "output_type": "stream",
     "text": [
      "Fainted Detected\n",
      "Fainted Detected\n"
     ]
    },
    {
     "name": "stderr",
     "output_type": "stream",
     "text": [
      "video 1/1 (59/236) C:\\Users\\rifal\\Desktop\\CAPSTONE\\WhatsApp Video 2023-12-22 at 17.50.07_28c729f8.mp4: 640x320 (no detections), 138.7ms\n",
      "video 1/1 (60/236) C:\\Users\\rifal\\Desktop\\CAPSTONE\\WhatsApp Video 2023-12-22 at 17.50.07_28c729f8.mp4: 640x320 (no detections), 129.8ms\n"
     ]
    },
    {
     "name": "stdout",
     "output_type": "stream",
     "text": [
      "Fainted Detected\n",
      "Fainted Detected\n"
     ]
    },
    {
     "name": "stderr",
     "output_type": "stream",
     "text": [
      "video 1/1 (61/236) C:\\Users\\rifal\\Desktop\\CAPSTONE\\WhatsApp Video 2023-12-22 at 17.50.07_28c729f8.mp4: 640x320 (no detections), 144.3ms\n",
      "video 1/1 (62/236) C:\\Users\\rifal\\Desktop\\CAPSTONE\\WhatsApp Video 2023-12-22 at 17.50.07_28c729f8.mp4: 640x320 (no detections), 149.5ms\n"
     ]
    },
    {
     "name": "stdout",
     "output_type": "stream",
     "text": [
      "Fainted Detected\n",
      "Fainted Detected\n"
     ]
    },
    {
     "name": "stderr",
     "output_type": "stream",
     "text": [
      "video 1/1 (63/236) C:\\Users\\rifal\\Desktop\\CAPSTONE\\WhatsApp Video 2023-12-22 at 17.50.07_28c729f8.mp4: 640x320 (no detections), 183.5ms\n",
      "video 1/1 (64/236) C:\\Users\\rifal\\Desktop\\CAPSTONE\\WhatsApp Video 2023-12-22 at 17.50.07_28c729f8.mp4: 640x320 (no detections), 160.3ms\n"
     ]
    },
    {
     "name": "stdout",
     "output_type": "stream",
     "text": [
      "Fainted Detected\n",
      "Fainted Detected\n"
     ]
    },
    {
     "name": "stderr",
     "output_type": "stream",
     "text": [
      "video 1/1 (65/236) C:\\Users\\rifal\\Desktop\\CAPSTONE\\WhatsApp Video 2023-12-22 at 17.50.07_28c729f8.mp4: 640x320 (no detections), 161.8ms\n",
      "video 1/1 (66/236) C:\\Users\\rifal\\Desktop\\CAPSTONE\\WhatsApp Video 2023-12-22 at 17.50.07_28c729f8.mp4: 640x320 (no detections), 160.8ms\n"
     ]
    },
    {
     "name": "stdout",
     "output_type": "stream",
     "text": [
      "Fainted Detected\n",
      "Fainted Detected\n"
     ]
    },
    {
     "name": "stderr",
     "output_type": "stream",
     "text": [
      "video 1/1 (67/236) C:\\Users\\rifal\\Desktop\\CAPSTONE\\WhatsApp Video 2023-12-22 at 17.50.07_28c729f8.mp4: 640x320 (no detections), 158.9ms\n",
      "video 1/1 (68/236) C:\\Users\\rifal\\Desktop\\CAPSTONE\\WhatsApp Video 2023-12-22 at 17.50.07_28c729f8.mp4: 640x320 (no detections), 129.4ms\n"
     ]
    },
    {
     "name": "stdout",
     "output_type": "stream",
     "text": [
      "Fainted Detected\n",
      "Fainted Detected\n"
     ]
    },
    {
     "name": "stderr",
     "output_type": "stream",
     "text": [
      "video 1/1 (69/236) C:\\Users\\rifal\\Desktop\\CAPSTONE\\WhatsApp Video 2023-12-22 at 17.50.07_28c729f8.mp4: 640x320 (no detections), 138.3ms\n",
      "video 1/1 (70/236) C:\\Users\\rifal\\Desktop\\CAPSTONE\\WhatsApp Video 2023-12-22 at 17.50.07_28c729f8.mp4: 640x320 (no detections), 135.8ms\n"
     ]
    },
    {
     "name": "stdout",
     "output_type": "stream",
     "text": [
      "Fainted Detected\n",
      "Fainted Detected\n"
     ]
    },
    {
     "name": "stderr",
     "output_type": "stream",
     "text": [
      "video 1/1 (71/236) C:\\Users\\rifal\\Desktop\\CAPSTONE\\WhatsApp Video 2023-12-22 at 17.50.07_28c729f8.mp4: 640x320 (no detections), 143.3ms\n",
      "video 1/1 (72/236) C:\\Users\\rifal\\Desktop\\CAPSTONE\\WhatsApp Video 2023-12-22 at 17.50.07_28c729f8.mp4: 640x320 (no detections), 138.2ms\n"
     ]
    },
    {
     "name": "stdout",
     "output_type": "stream",
     "text": [
      "Fainted Detected\n",
      "Fainted Detected\n"
     ]
    },
    {
     "name": "stderr",
     "output_type": "stream",
     "text": [
      "video 1/1 (73/236) C:\\Users\\rifal\\Desktop\\CAPSTONE\\WhatsApp Video 2023-12-22 at 17.50.07_28c729f8.mp4: 640x320 (no detections), 152.2ms\n",
      "video 1/1 (74/236) C:\\Users\\rifal\\Desktop\\CAPSTONE\\WhatsApp Video 2023-12-22 at 17.50.07_28c729f8.mp4: 640x320 (no detections), 134.1ms\n"
     ]
    },
    {
     "name": "stdout",
     "output_type": "stream",
     "text": [
      "Fainted Detected\n",
      "Fainted Detected\n"
     ]
    },
    {
     "name": "stderr",
     "output_type": "stream",
     "text": [
      "video 1/1 (75/236) C:\\Users\\rifal\\Desktop\\CAPSTONE\\WhatsApp Video 2023-12-22 at 17.50.07_28c729f8.mp4: 640x320 (no detections), 133.0ms\n",
      "video 1/1 (76/236) C:\\Users\\rifal\\Desktop\\CAPSTONE\\WhatsApp Video 2023-12-22 at 17.50.07_28c729f8.mp4: 640x320 (no detections), 131.7ms\n"
     ]
    },
    {
     "name": "stdout",
     "output_type": "stream",
     "text": [
      "Fainted Detected\n",
      "Fainted Detected\n"
     ]
    },
    {
     "name": "stderr",
     "output_type": "stream",
     "text": [
      "video 1/1 (77/236) C:\\Users\\rifal\\Desktop\\CAPSTONE\\WhatsApp Video 2023-12-22 at 17.50.07_28c729f8.mp4: 640x320 (no detections), 177.0ms\n",
      "video 1/1 (78/236) C:\\Users\\rifal\\Desktop\\CAPSTONE\\WhatsApp Video 2023-12-22 at 17.50.07_28c729f8.mp4: 640x320 (no detections), 135.8ms\n"
     ]
    },
    {
     "name": "stdout",
     "output_type": "stream",
     "text": [
      "Fainted Detected\n",
      "Fainted Detected\n"
     ]
    },
    {
     "name": "stderr",
     "output_type": "stream",
     "text": [
      "video 1/1 (79/236) C:\\Users\\rifal\\Desktop\\CAPSTONE\\WhatsApp Video 2023-12-22 at 17.50.07_28c729f8.mp4: 640x320 1 fainted, 128.9ms\n",
      "video 1/1 (80/236) C:\\Users\\rifal\\Desktop\\CAPSTONE\\WhatsApp Video 2023-12-22 at 17.50.07_28c729f8.mp4: 640x320 1 fainted, 132.1ms\n"
     ]
    },
    {
     "name": "stdout",
     "output_type": "stream",
     "text": [
      "Fainted Detected\n",
      "Fainted Detected\n"
     ]
    },
    {
     "name": "stderr",
     "output_type": "stream",
     "text": [
      "video 1/1 (81/236) C:\\Users\\rifal\\Desktop\\CAPSTONE\\WhatsApp Video 2023-12-22 at 17.50.07_28c729f8.mp4: 640x320 1 fainted, 127.6ms\n",
      "video 1/1 (82/236) C:\\Users\\rifal\\Desktop\\CAPSTONE\\WhatsApp Video 2023-12-22 at 17.50.07_28c729f8.mp4: 640x320 1 fainted, 121.9ms\n"
     ]
    },
    {
     "name": "stdout",
     "output_type": "stream",
     "text": [
      "Fainted Detected\n",
      "Fainted Detected\n"
     ]
    },
    {
     "name": "stderr",
     "output_type": "stream",
     "text": [
      "video 1/1 (83/236) C:\\Users\\rifal\\Desktop\\CAPSTONE\\WhatsApp Video 2023-12-22 at 17.50.07_28c729f8.mp4: 640x320 1 fainted, 122.6ms\n",
      "video 1/1 (84/236) C:\\Users\\rifal\\Desktop\\CAPSTONE\\WhatsApp Video 2023-12-22 at 17.50.07_28c729f8.mp4: 640x320 1 fainted, 124.0ms\n"
     ]
    },
    {
     "name": "stdout",
     "output_type": "stream",
     "text": [
      "Fainted Detected\n",
      "Fainted Detected\n"
     ]
    },
    {
     "name": "stderr",
     "output_type": "stream",
     "text": [
      "video 1/1 (85/236) C:\\Users\\rifal\\Desktop\\CAPSTONE\\WhatsApp Video 2023-12-22 at 17.50.07_28c729f8.mp4: 640x320 1 fainted, 138.0ms\n",
      "video 1/1 (86/236) C:\\Users\\rifal\\Desktop\\CAPSTONE\\WhatsApp Video 2023-12-22 at 17.50.07_28c729f8.mp4: 640x320 1 fainted, 125.2ms\n"
     ]
    },
    {
     "name": "stdout",
     "output_type": "stream",
     "text": [
      "Fainted Detected\n",
      "Fainted Detected\n"
     ]
    },
    {
     "name": "stderr",
     "output_type": "stream",
     "text": [
      "video 1/1 (87/236) C:\\Users\\rifal\\Desktop\\CAPSTONE\\WhatsApp Video 2023-12-22 at 17.50.07_28c729f8.mp4: 640x320 1 fainted, 135.7ms\n",
      "video 1/1 (88/236) C:\\Users\\rifal\\Desktop\\CAPSTONE\\WhatsApp Video 2023-12-22 at 17.50.07_28c729f8.mp4: 640x320 1 fainted, 127.3ms\n"
     ]
    },
    {
     "name": "stdout",
     "output_type": "stream",
     "text": [
      "Fainted Detected\n",
      "Fainted Detected\n"
     ]
    },
    {
     "name": "stderr",
     "output_type": "stream",
     "text": [
      "video 1/1 (89/236) C:\\Users\\rifal\\Desktop\\CAPSTONE\\WhatsApp Video 2023-12-22 at 17.50.07_28c729f8.mp4: 640x320 1 fainted, 144.4ms\n",
      "video 1/1 (90/236) C:\\Users\\rifal\\Desktop\\CAPSTONE\\WhatsApp Video 2023-12-22 at 17.50.07_28c729f8.mp4: 640x320 1 fainted, 165.8ms\n"
     ]
    },
    {
     "name": "stdout",
     "output_type": "stream",
     "text": [
      "Fainted Detected\n",
      "Fainted Detected\n"
     ]
    },
    {
     "name": "stderr",
     "output_type": "stream",
     "text": [
      "video 1/1 (91/236) C:\\Users\\rifal\\Desktop\\CAPSTONE\\WhatsApp Video 2023-12-22 at 17.50.07_28c729f8.mp4: 640x320 1 fainted, 126.4ms\n",
      "video 1/1 (92/236) C:\\Users\\rifal\\Desktop\\CAPSTONE\\WhatsApp Video 2023-12-22 at 17.50.07_28c729f8.mp4: 640x320 (no detections), 125.0ms\n"
     ]
    },
    {
     "name": "stdout",
     "output_type": "stream",
     "text": [
      "Fainted Detected\n",
      "Fainted Detected\n"
     ]
    },
    {
     "name": "stderr",
     "output_type": "stream",
     "text": [
      "video 1/1 (93/236) C:\\Users\\rifal\\Desktop\\CAPSTONE\\WhatsApp Video 2023-12-22 at 17.50.07_28c729f8.mp4: 640x320 (no detections), 132.0ms\n",
      "video 1/1 (94/236) C:\\Users\\rifal\\Desktop\\CAPSTONE\\WhatsApp Video 2023-12-22 at 17.50.07_28c729f8.mp4: 640x320 (no detections), 132.3ms\n"
     ]
    },
    {
     "name": "stdout",
     "output_type": "stream",
     "text": [
      "Fainted Detected\n",
      "Fainted Detected\n"
     ]
    },
    {
     "name": "stderr",
     "output_type": "stream",
     "text": [
      "video 1/1 (95/236) C:\\Users\\rifal\\Desktop\\CAPSTONE\\WhatsApp Video 2023-12-22 at 17.50.07_28c729f8.mp4: 640x320 (no detections), 135.4ms\n",
      "video 1/1 (96/236) C:\\Users\\rifal\\Desktop\\CAPSTONE\\WhatsApp Video 2023-12-22 at 17.50.07_28c729f8.mp4: 640x320 (no detections), 138.0ms\n"
     ]
    },
    {
     "name": "stdout",
     "output_type": "stream",
     "text": [
      "Fainted Detected\n",
      "Fainted Detected\n"
     ]
    },
    {
     "name": "stderr",
     "output_type": "stream",
     "text": [
      "video 1/1 (97/236) C:\\Users\\rifal\\Desktop\\CAPSTONE\\WhatsApp Video 2023-12-22 at 17.50.07_28c729f8.mp4: 640x320 (no detections), 142.7ms\n",
      "video 1/1 (98/236) C:\\Users\\rifal\\Desktop\\CAPSTONE\\WhatsApp Video 2023-12-22 at 17.50.07_28c729f8.mp4: 640x320 (no detections), 135.9ms\n"
     ]
    },
    {
     "name": "stdout",
     "output_type": "stream",
     "text": [
      "Fainted Detected\n",
      "Fainted Detected\n"
     ]
    },
    {
     "name": "stderr",
     "output_type": "stream",
     "text": [
      "video 1/1 (99/236) C:\\Users\\rifal\\Desktop\\CAPSTONE\\WhatsApp Video 2023-12-22 at 17.50.07_28c729f8.mp4: 640x320 (no detections), 138.2ms\n",
      "video 1/1 (100/236) C:\\Users\\rifal\\Desktop\\CAPSTONE\\WhatsApp Video 2023-12-22 at 17.50.07_28c729f8.mp4: 640x320 (no detections), 137.4ms\n"
     ]
    },
    {
     "name": "stdout",
     "output_type": "stream",
     "text": [
      "Fainted Detected\n",
      "Fainted Detected\n"
     ]
    },
    {
     "name": "stderr",
     "output_type": "stream",
     "text": [
      "video 1/1 (101/236) C:\\Users\\rifal\\Desktop\\CAPSTONE\\WhatsApp Video 2023-12-22 at 17.50.07_28c729f8.mp4: 640x320 (no detections), 141.2ms\n",
      "video 1/1 (102/236) C:\\Users\\rifal\\Desktop\\CAPSTONE\\WhatsApp Video 2023-12-22 at 17.50.07_28c729f8.mp4: 640x320 (no detections), 134.1ms\n"
     ]
    },
    {
     "name": "stdout",
     "output_type": "stream",
     "text": [
      "Fainted Detected\n",
      "Fainted Detected\n"
     ]
    },
    {
     "name": "stderr",
     "output_type": "stream",
     "text": [
      "video 1/1 (103/236) C:\\Users\\rifal\\Desktop\\CAPSTONE\\WhatsApp Video 2023-12-22 at 17.50.07_28c729f8.mp4: 640x320 (no detections), 178.4ms\n",
      "video 1/1 (104/236) C:\\Users\\rifal\\Desktop\\CAPSTONE\\WhatsApp Video 2023-12-22 at 17.50.07_28c729f8.mp4: 640x320 (no detections), 114.8ms\n"
     ]
    },
    {
     "name": "stdout",
     "output_type": "stream",
     "text": [
      "Fainted Detected\n",
      "Fainted Detected\n"
     ]
    },
    {
     "name": "stderr",
     "output_type": "stream",
     "text": [
      "video 1/1 (105/236) C:\\Users\\rifal\\Desktop\\CAPSTONE\\WhatsApp Video 2023-12-22 at 17.50.07_28c729f8.mp4: 640x320 (no detections), 123.5ms\n",
      "video 1/1 (106/236) C:\\Users\\rifal\\Desktop\\CAPSTONE\\WhatsApp Video 2023-12-22 at 17.50.07_28c729f8.mp4: 640x320 (no detections), 122.7ms\n"
     ]
    },
    {
     "name": "stdout",
     "output_type": "stream",
     "text": [
      "Fainted Detected\n",
      "Fainted Detected\n"
     ]
    },
    {
     "name": "stderr",
     "output_type": "stream",
     "text": [
      "video 1/1 (107/236) C:\\Users\\rifal\\Desktop\\CAPSTONE\\WhatsApp Video 2023-12-22 at 17.50.07_28c729f8.mp4: 640x320 (no detections), 125.8ms\n",
      "video 1/1 (108/236) C:\\Users\\rifal\\Desktop\\CAPSTONE\\WhatsApp Video 2023-12-22 at 17.50.07_28c729f8.mp4: 640x320 (no detections), 119.8ms\n"
     ]
    },
    {
     "name": "stdout",
     "output_type": "stream",
     "text": [
      "Fainted Detected\n",
      "Fainted Detected\n"
     ]
    },
    {
     "name": "stderr",
     "output_type": "stream",
     "text": [
      "video 1/1 (109/236) C:\\Users\\rifal\\Desktop\\CAPSTONE\\WhatsApp Video 2023-12-22 at 17.50.07_28c729f8.mp4: 640x320 (no detections), 132.3ms\n",
      "video 1/1 (110/236) C:\\Users\\rifal\\Desktop\\CAPSTONE\\WhatsApp Video 2023-12-22 at 17.50.07_28c729f8.mp4: 640x320 (no detections), 128.8ms\n"
     ]
    },
    {
     "name": "stdout",
     "output_type": "stream",
     "text": [
      "Fainted Detected\n",
      "Fainted Detected\n"
     ]
    },
    {
     "name": "stderr",
     "output_type": "stream",
     "text": [
      "video 1/1 (111/236) C:\\Users\\rifal\\Desktop\\CAPSTONE\\WhatsApp Video 2023-12-22 at 17.50.07_28c729f8.mp4: 640x320 (no detections), 129.3ms\n",
      "video 1/1 (112/236) C:\\Users\\rifal\\Desktop\\CAPSTONE\\WhatsApp Video 2023-12-22 at 17.50.07_28c729f8.mp4: 640x320 (no detections), 131.3ms\n"
     ]
    },
    {
     "name": "stdout",
     "output_type": "stream",
     "text": [
      "Fainted Detected\n",
      "Fainted Detected\n"
     ]
    },
    {
     "name": "stderr",
     "output_type": "stream",
     "text": [
      "video 1/1 (113/236) C:\\Users\\rifal\\Desktop\\CAPSTONE\\WhatsApp Video 2023-12-22 at 17.50.07_28c729f8.mp4: 640x320 (no detections), 144.1ms\n",
      "video 1/1 (114/236) C:\\Users\\rifal\\Desktop\\CAPSTONE\\WhatsApp Video 2023-12-22 at 17.50.07_28c729f8.mp4: 640x320 (no detections), 135.2ms\n"
     ]
    },
    {
     "name": "stdout",
     "output_type": "stream",
     "text": [
      "Fainted Detected\n",
      "Fainted Detected\n"
     ]
    },
    {
     "name": "stderr",
     "output_type": "stream",
     "text": [
      "video 1/1 (115/236) C:\\Users\\rifal\\Desktop\\CAPSTONE\\WhatsApp Video 2023-12-22 at 17.50.07_28c729f8.mp4: 640x320 (no detections), 145.8ms\n",
      "video 1/1 (116/236) C:\\Users\\rifal\\Desktop\\CAPSTONE\\WhatsApp Video 2023-12-22 at 17.50.07_28c729f8.mp4: 640x320 (no detections), 175.1ms\n"
     ]
    },
    {
     "name": "stdout",
     "output_type": "stream",
     "text": [
      "Fainted Detected\n",
      "Fainted Detected\n"
     ]
    },
    {
     "name": "stderr",
     "output_type": "stream",
     "text": [
      "video 1/1 (117/236) C:\\Users\\rifal\\Desktop\\CAPSTONE\\WhatsApp Video 2023-12-22 at 17.50.07_28c729f8.mp4: 640x320 (no detections), 148.4ms\n",
      "video 1/1 (118/236) C:\\Users\\rifal\\Desktop\\CAPSTONE\\WhatsApp Video 2023-12-22 at 17.50.07_28c729f8.mp4: 640x320 (no detections), 139.1ms\n"
     ]
    },
    {
     "name": "stdout",
     "output_type": "stream",
     "text": [
      "Fainted Detected\n",
      "Fainted Detected\n"
     ]
    },
    {
     "name": "stderr",
     "output_type": "stream",
     "text": [
      "video 1/1 (119/236) C:\\Users\\rifal\\Desktop\\CAPSTONE\\WhatsApp Video 2023-12-22 at 17.50.07_28c729f8.mp4: 640x320 (no detections), 149.1ms\n",
      "video 1/1 (120/236) C:\\Users\\rifal\\Desktop\\CAPSTONE\\WhatsApp Video 2023-12-22 at 17.50.07_28c729f8.mp4: 640x320 (no detections), 145.1ms\n"
     ]
    },
    {
     "name": "stdout",
     "output_type": "stream",
     "text": [
      "Fainted Detected\n",
      "Fainted Detected\n"
     ]
    },
    {
     "name": "stderr",
     "output_type": "stream",
     "text": [
      "video 1/1 (121/236) C:\\Users\\rifal\\Desktop\\CAPSTONE\\WhatsApp Video 2023-12-22 at 17.50.07_28c729f8.mp4: 640x320 (no detections), 158.9ms\n",
      "video 1/1 (122/236) C:\\Users\\rifal\\Desktop\\CAPSTONE\\WhatsApp Video 2023-12-22 at 17.50.07_28c729f8.mp4: 640x320 (no detections), 133.0ms\n"
     ]
    },
    {
     "name": "stdout",
     "output_type": "stream",
     "text": [
      "Fainted Detected\n",
      "Fainted Detected\n"
     ]
    },
    {
     "name": "stderr",
     "output_type": "stream",
     "text": [
      "video 1/1 (123/236) C:\\Users\\rifal\\Desktop\\CAPSTONE\\WhatsApp Video 2023-12-22 at 17.50.07_28c729f8.mp4: 640x320 (no detections), 148.3ms\n",
      "video 1/1 (124/236) C:\\Users\\rifal\\Desktop\\CAPSTONE\\WhatsApp Video 2023-12-22 at 17.50.07_28c729f8.mp4: 640x320 (no detections), 137.2ms\n"
     ]
    },
    {
     "name": "stdout",
     "output_type": "stream",
     "text": [
      "Fainted Detected\n",
      "Fainted Detected\n"
     ]
    },
    {
     "name": "stderr",
     "output_type": "stream",
     "text": [
      "video 1/1 (125/236) C:\\Users\\rifal\\Desktop\\CAPSTONE\\WhatsApp Video 2023-12-22 at 17.50.07_28c729f8.mp4: 640x320 (no detections), 143.0ms\n",
      "video 1/1 (126/236) C:\\Users\\rifal\\Desktop\\CAPSTONE\\WhatsApp Video 2023-12-22 at 17.50.07_28c729f8.mp4: 640x320 (no detections), 135.4ms\n"
     ]
    },
    {
     "name": "stdout",
     "output_type": "stream",
     "text": [
      "Fainted Detected\n",
      "Fainted Detected\n"
     ]
    },
    {
     "name": "stderr",
     "output_type": "stream",
     "text": [
      "video 1/1 (127/236) C:\\Users\\rifal\\Desktop\\CAPSTONE\\WhatsApp Video 2023-12-22 at 17.50.07_28c729f8.mp4: 640x320 (no detections), 139.8ms\n",
      "video 1/1 (128/236) C:\\Users\\rifal\\Desktop\\CAPSTONE\\WhatsApp Video 2023-12-22 at 17.50.07_28c729f8.mp4: 640x320 (no detections), 163.6ms\n"
     ]
    },
    {
     "name": "stdout",
     "output_type": "stream",
     "text": [
      "Fainted Detected\n",
      "Fainted Detected\n"
     ]
    },
    {
     "name": "stderr",
     "output_type": "stream",
     "text": [
      "video 1/1 (129/236) C:\\Users\\rifal\\Desktop\\CAPSTONE\\WhatsApp Video 2023-12-22 at 17.50.07_28c729f8.mp4: 640x320 (no detections), 153.5ms\n",
      "video 1/1 (130/236) C:\\Users\\rifal\\Desktop\\CAPSTONE\\WhatsApp Video 2023-12-22 at 17.50.07_28c729f8.mp4: 640x320 (no detections), 115.0ms\n"
     ]
    },
    {
     "name": "stdout",
     "output_type": "stream",
     "text": [
      "Fainted Detected\n",
      "Fainted Detected\n"
     ]
    },
    {
     "name": "stderr",
     "output_type": "stream",
     "text": [
      "video 1/1 (131/236) C:\\Users\\rifal\\Desktop\\CAPSTONE\\WhatsApp Video 2023-12-22 at 17.50.07_28c729f8.mp4: 640x320 (no detections), 120.2ms\n",
      "video 1/1 (132/236) C:\\Users\\rifal\\Desktop\\CAPSTONE\\WhatsApp Video 2023-12-22 at 17.50.07_28c729f8.mp4: 640x320 1 fainted, 132.4ms\n"
     ]
    },
    {
     "name": "stdout",
     "output_type": "stream",
     "text": [
      "Fainted Detected\n",
      "Fainted Detected\n"
     ]
    },
    {
     "name": "stderr",
     "output_type": "stream",
     "text": [
      "video 1/1 (133/236) C:\\Users\\rifal\\Desktop\\CAPSTONE\\WhatsApp Video 2023-12-22 at 17.50.07_28c729f8.mp4: 640x320 1 fainted, 141.3ms\n",
      "video 1/1 (134/236) C:\\Users\\rifal\\Desktop\\CAPSTONE\\WhatsApp Video 2023-12-22 at 17.50.07_28c729f8.mp4: 640x320 1 fainted, 133.4ms\n"
     ]
    },
    {
     "name": "stdout",
     "output_type": "stream",
     "text": [
      "Fainted Detected\n",
      "Fainted Detected\n"
     ]
    },
    {
     "name": "stderr",
     "output_type": "stream",
     "text": [
      "video 1/1 (135/236) C:\\Users\\rifal\\Desktop\\CAPSTONE\\WhatsApp Video 2023-12-22 at 17.50.07_28c729f8.mp4: 640x320 1 fainted, 145.4ms\n",
      "video 1/1 (136/236) C:\\Users\\rifal\\Desktop\\CAPSTONE\\WhatsApp Video 2023-12-22 at 17.50.07_28c729f8.mp4: 640x320 1 fainted, 132.9ms\n"
     ]
    },
    {
     "name": "stdout",
     "output_type": "stream",
     "text": [
      "Fainted Detected\n",
      "Fainted Detected\n"
     ]
    },
    {
     "name": "stderr",
     "output_type": "stream",
     "text": [
      "video 1/1 (137/236) C:\\Users\\rifal\\Desktop\\CAPSTONE\\WhatsApp Video 2023-12-22 at 17.50.07_28c729f8.mp4: 640x320 1 fainted, 132.9ms\n",
      "video 1/1 (138/236) C:\\Users\\rifal\\Desktop\\CAPSTONE\\WhatsApp Video 2023-12-22 at 17.50.07_28c729f8.mp4: 640x320 1 fainted, 134.1ms\n"
     ]
    },
    {
     "name": "stdout",
     "output_type": "stream",
     "text": [
      "Fainted Detected\n",
      "Fainted Detected\n"
     ]
    },
    {
     "name": "stderr",
     "output_type": "stream",
     "text": [
      "video 1/1 (139/236) C:\\Users\\rifal\\Desktop\\CAPSTONE\\WhatsApp Video 2023-12-22 at 17.50.07_28c729f8.mp4: 640x320 1 fainted, 134.1ms\n",
      "video 1/1 (140/236) C:\\Users\\rifal\\Desktop\\CAPSTONE\\WhatsApp Video 2023-12-22 at 17.50.07_28c729f8.mp4: 640x320 1 fainted, 134.9ms\n"
     ]
    },
    {
     "name": "stdout",
     "output_type": "stream",
     "text": [
      "Fainted Detected\n",
      "Fainted Detected\n"
     ]
    },
    {
     "name": "stderr",
     "output_type": "stream",
     "text": [
      "video 1/1 (141/236) C:\\Users\\rifal\\Desktop\\CAPSTONE\\WhatsApp Video 2023-12-22 at 17.50.07_28c729f8.mp4: 640x320 1 fainted, 136.6ms\n",
      "video 1/1 (142/236) C:\\Users\\rifal\\Desktop\\CAPSTONE\\WhatsApp Video 2023-12-22 at 17.50.07_28c729f8.mp4: 640x320 1 fainted, 162.0ms\n"
     ]
    },
    {
     "name": "stdout",
     "output_type": "stream",
     "text": [
      "Fainted Detected\n",
      "Fainted Detected\n"
     ]
    },
    {
     "name": "stderr",
     "output_type": "stream",
     "text": [
      "video 1/1 (143/236) C:\\Users\\rifal\\Desktop\\CAPSTONE\\WhatsApp Video 2023-12-22 at 17.50.07_28c729f8.mp4: 640x320 1 fainted, 136.4ms\n",
      "video 1/1 (144/236) C:\\Users\\rifal\\Desktop\\CAPSTONE\\WhatsApp Video 2023-12-22 at 17.50.07_28c729f8.mp4: 640x320 1 fainted, 130.0ms\n"
     ]
    },
    {
     "name": "stdout",
     "output_type": "stream",
     "text": [
      "Fainted Detected\n",
      "Fainted Detected\n"
     ]
    },
    {
     "name": "stderr",
     "output_type": "stream",
     "text": [
      "video 1/1 (145/236) C:\\Users\\rifal\\Desktop\\CAPSTONE\\WhatsApp Video 2023-12-22 at 17.50.07_28c729f8.mp4: 640x320 1 fainted, 157.2ms\n",
      "video 1/1 (146/236) C:\\Users\\rifal\\Desktop\\CAPSTONE\\WhatsApp Video 2023-12-22 at 17.50.07_28c729f8.mp4: 640x320 1 fainted, 140.9ms\n"
     ]
    },
    {
     "name": "stdout",
     "output_type": "stream",
     "text": [
      "Fainted Detected\n",
      "Fainted Detected\n"
     ]
    },
    {
     "name": "stderr",
     "output_type": "stream",
     "text": [
      "video 1/1 (147/236) C:\\Users\\rifal\\Desktop\\CAPSTONE\\WhatsApp Video 2023-12-22 at 17.50.07_28c729f8.mp4: 640x320 1 fainted, 141.8ms\n",
      "video 1/1 (148/236) C:\\Users\\rifal\\Desktop\\CAPSTONE\\WhatsApp Video 2023-12-22 at 17.50.07_28c729f8.mp4: 640x320 1 fainted, 139.9ms\n"
     ]
    },
    {
     "name": "stdout",
     "output_type": "stream",
     "text": [
      "Fainted Detected\n",
      "Fainted Detected\n"
     ]
    },
    {
     "name": "stderr",
     "output_type": "stream",
     "text": [
      "video 1/1 (149/236) C:\\Users\\rifal\\Desktop\\CAPSTONE\\WhatsApp Video 2023-12-22 at 17.50.07_28c729f8.mp4: 640x320 1 fainted, 141.0ms\n",
      "video 1/1 (150/236) C:\\Users\\rifal\\Desktop\\CAPSTONE\\WhatsApp Video 2023-12-22 at 17.50.07_28c729f8.mp4: 640x320 1 fainted, 126.9ms\n"
     ]
    },
    {
     "name": "stdout",
     "output_type": "stream",
     "text": [
      "Fainted Detected\n",
      "Fainted Detected\n"
     ]
    },
    {
     "name": "stderr",
     "output_type": "stream",
     "text": [
      "video 1/1 (151/236) C:\\Users\\rifal\\Desktop\\CAPSTONE\\WhatsApp Video 2023-12-22 at 17.50.07_28c729f8.mp4: 640x320 1 fainted, 131.5ms\n",
      "video 1/1 (152/236) C:\\Users\\rifal\\Desktop\\CAPSTONE\\WhatsApp Video 2023-12-22 at 17.50.07_28c729f8.mp4: 640x320 1 fainted, 131.3ms\n"
     ]
    },
    {
     "name": "stdout",
     "output_type": "stream",
     "text": [
      "Fainted Detected\n",
      "Fainted Detected\n"
     ]
    },
    {
     "name": "stderr",
     "output_type": "stream",
     "text": [
      "video 1/1 (153/236) C:\\Users\\rifal\\Desktop\\CAPSTONE\\WhatsApp Video 2023-12-22 at 17.50.07_28c729f8.mp4: 640x320 1 fainted, 140.8ms\n",
      "video 1/1 (154/236) C:\\Users\\rifal\\Desktop\\CAPSTONE\\WhatsApp Video 2023-12-22 at 17.50.07_28c729f8.mp4: 640x320 1 fainted, 127.3ms\n"
     ]
    },
    {
     "name": "stdout",
     "output_type": "stream",
     "text": [
      "Fainted Detected\n",
      "Fainted Detected\n"
     ]
    },
    {
     "name": "stderr",
     "output_type": "stream",
     "text": [
      "video 1/1 (155/236) C:\\Users\\rifal\\Desktop\\CAPSTONE\\WhatsApp Video 2023-12-22 at 17.50.07_28c729f8.mp4: 640x320 1 fainted, 161.9ms\n",
      "video 1/1 (156/236) C:\\Users\\rifal\\Desktop\\CAPSTONE\\WhatsApp Video 2023-12-22 at 17.50.07_28c729f8.mp4: 640x320 1 fainted, 118.0ms\n"
     ]
    },
    {
     "name": "stdout",
     "output_type": "stream",
     "text": [
      "Fainted Detected\n",
      "Fainted Detected\n"
     ]
    },
    {
     "name": "stderr",
     "output_type": "stream",
     "text": [
      "video 1/1 (157/236) C:\\Users\\rifal\\Desktop\\CAPSTONE\\WhatsApp Video 2023-12-22 at 17.50.07_28c729f8.mp4: 640x320 1 fainted, 120.3ms\n",
      "video 1/1 (158/236) C:\\Users\\rifal\\Desktop\\CAPSTONE\\WhatsApp Video 2023-12-22 at 17.50.07_28c729f8.mp4: 640x320 1 fainted, 141.1ms\n"
     ]
    },
    {
     "name": "stdout",
     "output_type": "stream",
     "text": [
      "Fainted Detected\n",
      "Fainted Detected\n"
     ]
    },
    {
     "name": "stderr",
     "output_type": "stream",
     "text": [
      "video 1/1 (159/236) C:\\Users\\rifal\\Desktop\\CAPSTONE\\WhatsApp Video 2023-12-22 at 17.50.07_28c729f8.mp4: 640x320 1 fainted, 145.7ms\n",
      "video 1/1 (160/236) C:\\Users\\rifal\\Desktop\\CAPSTONE\\WhatsApp Video 2023-12-22 at 17.50.07_28c729f8.mp4: 640x320 1 fainted, 139.6ms\n"
     ]
    },
    {
     "name": "stdout",
     "output_type": "stream",
     "text": [
      "Fainted Detected\n",
      "Fainted Detected\n"
     ]
    },
    {
     "name": "stderr",
     "output_type": "stream",
     "text": [
      "video 1/1 (161/236) C:\\Users\\rifal\\Desktop\\CAPSTONE\\WhatsApp Video 2023-12-22 at 17.50.07_28c729f8.mp4: 640x320 1 fainted, 183.0ms\n",
      "video 1/1 (162/236) C:\\Users\\rifal\\Desktop\\CAPSTONE\\WhatsApp Video 2023-12-22 at 17.50.07_28c729f8.mp4: 640x320 1 fainted, 136.2ms\n"
     ]
    },
    {
     "name": "stdout",
     "output_type": "stream",
     "text": [
      "Fainted Detected\n",
      "Fainted Detected\n"
     ]
    },
    {
     "name": "stderr",
     "output_type": "stream",
     "text": [
      "video 1/1 (163/236) C:\\Users\\rifal\\Desktop\\CAPSTONE\\WhatsApp Video 2023-12-22 at 17.50.07_28c729f8.mp4: 640x320 1 fainted, 146.8ms\n",
      "video 1/1 (164/236) C:\\Users\\rifal\\Desktop\\CAPSTONE\\WhatsApp Video 2023-12-22 at 17.50.07_28c729f8.mp4: 640x320 1 fainted, 137.4ms\n"
     ]
    },
    {
     "name": "stdout",
     "output_type": "stream",
     "text": [
      "Fainted Detected\n",
      "Fainted Detected\n"
     ]
    },
    {
     "name": "stderr",
     "output_type": "stream",
     "text": [
      "video 1/1 (165/236) C:\\Users\\rifal\\Desktop\\CAPSTONE\\WhatsApp Video 2023-12-22 at 17.50.07_28c729f8.mp4: 640x320 1 fainted, 141.2ms\n",
      "video 1/1 (166/236) C:\\Users\\rifal\\Desktop\\CAPSTONE\\WhatsApp Video 2023-12-22 at 17.50.07_28c729f8.mp4: 640x320 1 fainted, 137.5ms\n"
     ]
    },
    {
     "name": "stdout",
     "output_type": "stream",
     "text": [
      "Fainted Detected\n",
      "Fainted Detected\n"
     ]
    },
    {
     "name": "stderr",
     "output_type": "stream",
     "text": [
      "video 1/1 (167/236) C:\\Users\\rifal\\Desktop\\CAPSTONE\\WhatsApp Video 2023-12-22 at 17.50.07_28c729f8.mp4: 640x320 1 fainted, 143.7ms\n",
      "video 1/1 (168/236) C:\\Users\\rifal\\Desktop\\CAPSTONE\\WhatsApp Video 2023-12-22 at 17.50.07_28c729f8.mp4: 640x320 1 fainted, 183.0ms\n"
     ]
    },
    {
     "name": "stdout",
     "output_type": "stream",
     "text": [
      "Fainted Detected\n",
      "Fainted Detected\n"
     ]
    },
    {
     "name": "stderr",
     "output_type": "stream",
     "text": [
      "video 1/1 (169/236) C:\\Users\\rifal\\Desktop\\CAPSTONE\\WhatsApp Video 2023-12-22 at 17.50.07_28c729f8.mp4: 640x320 1 fainted, 142.0ms\n",
      "video 1/1 (170/236) C:\\Users\\rifal\\Desktop\\CAPSTONE\\WhatsApp Video 2023-12-22 at 17.50.07_28c729f8.mp4: 640x320 1 fainted, 135.9ms\n"
     ]
    },
    {
     "name": "stdout",
     "output_type": "stream",
     "text": [
      "Fainted Detected\n",
      "Fainted Detected\n"
     ]
    },
    {
     "name": "stderr",
     "output_type": "stream",
     "text": [
      "video 1/1 (171/236) C:\\Users\\rifal\\Desktop\\CAPSTONE\\WhatsApp Video 2023-12-22 at 17.50.07_28c729f8.mp4: 640x320 1 fainted, 143.4ms\n",
      "video 1/1 (172/236) C:\\Users\\rifal\\Desktop\\CAPSTONE\\WhatsApp Video 2023-12-22 at 17.50.07_28c729f8.mp4: 640x320 1 fainted, 139.7ms\n"
     ]
    },
    {
     "name": "stdout",
     "output_type": "stream",
     "text": [
      "Fainted Detected\n",
      "Fainted Detected\n"
     ]
    },
    {
     "name": "stderr",
     "output_type": "stream",
     "text": [
      "video 1/1 (173/236) C:\\Users\\rifal\\Desktop\\CAPSTONE\\WhatsApp Video 2023-12-22 at 17.50.07_28c729f8.mp4: 640x320 1 fainted, 149.5ms\n",
      "video 1/1 (174/236) C:\\Users\\rifal\\Desktop\\CAPSTONE\\WhatsApp Video 2023-12-22 at 17.50.07_28c729f8.mp4: 640x320 1 fainted, 139.0ms\n"
     ]
    },
    {
     "name": "stdout",
     "output_type": "stream",
     "text": [
      "Fainted Detected\n",
      "Fainted Detected\n"
     ]
    },
    {
     "name": "stderr",
     "output_type": "stream",
     "text": [
      "video 1/1 (175/236) C:\\Users\\rifal\\Desktop\\CAPSTONE\\WhatsApp Video 2023-12-22 at 17.50.07_28c729f8.mp4: 640x320 1 fainted, 147.1ms\n",
      "video 1/1 (176/236) C:\\Users\\rifal\\Desktop\\CAPSTONE\\WhatsApp Video 2023-12-22 at 17.50.07_28c729f8.mp4: 640x320 1 fainted, 143.5ms\n"
     ]
    },
    {
     "name": "stdout",
     "output_type": "stream",
     "text": [
      "Fainted Detected\n",
      "Fainted Detected\n"
     ]
    },
    {
     "name": "stderr",
     "output_type": "stream",
     "text": [
      "video 1/1 (177/236) C:\\Users\\rifal\\Desktop\\CAPSTONE\\WhatsApp Video 2023-12-22 at 17.50.07_28c729f8.mp4: 640x320 1 fainted, 148.9ms\n",
      "video 1/1 (178/236) C:\\Users\\rifal\\Desktop\\CAPSTONE\\WhatsApp Video 2023-12-22 at 17.50.07_28c729f8.mp4: 640x320 1 fainted, 131.5ms\n"
     ]
    },
    {
     "name": "stdout",
     "output_type": "stream",
     "text": [
      "Fainted Detected\n",
      "Fainted Detected\n"
     ]
    },
    {
     "name": "stderr",
     "output_type": "stream",
     "text": [
      "video 1/1 (179/236) C:\\Users\\rifal\\Desktop\\CAPSTONE\\WhatsApp Video 2023-12-22 at 17.50.07_28c729f8.mp4: 640x320 1 fainted, 136.6ms\n",
      "video 1/1 (180/236) C:\\Users\\rifal\\Desktop\\CAPSTONE\\WhatsApp Video 2023-12-22 at 17.50.07_28c729f8.mp4: 640x320 1 fainted, 133.0ms\n"
     ]
    },
    {
     "name": "stdout",
     "output_type": "stream",
     "text": [
      "Fainted Detected\n",
      "Fainted Detected\n"
     ]
    },
    {
     "name": "stderr",
     "output_type": "stream",
     "text": [
      "video 1/1 (181/236) C:\\Users\\rifal\\Desktop\\CAPSTONE\\WhatsApp Video 2023-12-22 at 17.50.07_28c729f8.mp4: 640x320 1 fainted, 184.7ms\n",
      "video 1/1 (182/236) C:\\Users\\rifal\\Desktop\\CAPSTONE\\WhatsApp Video 2023-12-22 at 17.50.07_28c729f8.mp4: 640x320 1 fainted, 132.0ms\n"
     ]
    },
    {
     "name": "stdout",
     "output_type": "stream",
     "text": [
      "Fainted Detected\n",
      "Fainted Detected\n"
     ]
    },
    {
     "name": "stderr",
     "output_type": "stream",
     "text": [
      "video 1/1 (183/236) C:\\Users\\rifal\\Desktop\\CAPSTONE\\WhatsApp Video 2023-12-22 at 17.50.07_28c729f8.mp4: 640x320 1 fainted, 142.2ms\n",
      "video 1/1 (184/236) C:\\Users\\rifal\\Desktop\\CAPSTONE\\WhatsApp Video 2023-12-22 at 17.50.07_28c729f8.mp4: 640x320 1 fainted, 135.8ms\n"
     ]
    },
    {
     "name": "stdout",
     "output_type": "stream",
     "text": [
      "Fainted Detected\n",
      "Fainted Detected\n"
     ]
    },
    {
     "name": "stderr",
     "output_type": "stream",
     "text": [
      "video 1/1 (185/236) C:\\Users\\rifal\\Desktop\\CAPSTONE\\WhatsApp Video 2023-12-22 at 17.50.07_28c729f8.mp4: 640x320 1 fainted, 138.1ms\n",
      "video 1/1 (186/236) C:\\Users\\rifal\\Desktop\\CAPSTONE\\WhatsApp Video 2023-12-22 at 17.50.07_28c729f8.mp4: 640x320 1 fainted, 137.2ms\n"
     ]
    },
    {
     "name": "stdout",
     "output_type": "stream",
     "text": [
      "Fainted Detected\n",
      "Fainted Detected\n"
     ]
    },
    {
     "name": "stderr",
     "output_type": "stream",
     "text": [
      "video 1/1 (187/236) C:\\Users\\rifal\\Desktop\\CAPSTONE\\WhatsApp Video 2023-12-22 at 17.50.07_28c729f8.mp4: 640x320 1 fainted, 142.1ms\n",
      "video 1/1 (188/236) C:\\Users\\rifal\\Desktop\\CAPSTONE\\WhatsApp Video 2023-12-22 at 17.50.07_28c729f8.mp4: 640x320 1 fainted, 139.8ms\n"
     ]
    },
    {
     "name": "stdout",
     "output_type": "stream",
     "text": [
      "Fainted Detected\n",
      "Fainted Detected\n"
     ]
    },
    {
     "name": "stderr",
     "output_type": "stream",
     "text": [
      "video 1/1 (189/236) C:\\Users\\rifal\\Desktop\\CAPSTONE\\WhatsApp Video 2023-12-22 at 17.50.07_28c729f8.mp4: 640x320 1 fainted, 143.0ms\n",
      "video 1/1 (190/236) C:\\Users\\rifal\\Desktop\\CAPSTONE\\WhatsApp Video 2023-12-22 at 17.50.07_28c729f8.mp4: 640x320 1 fainted, 138.3ms\n"
     ]
    },
    {
     "name": "stdout",
     "output_type": "stream",
     "text": [
      "Fainted Detected\n",
      "Fainted Detected\n"
     ]
    },
    {
     "name": "stderr",
     "output_type": "stream",
     "text": [
      "video 1/1 (191/236) C:\\Users\\rifal\\Desktop\\CAPSTONE\\WhatsApp Video 2023-12-22 at 17.50.07_28c729f8.mp4: 640x320 1 fainted, 142.9ms\n",
      "video 1/1 (192/236) C:\\Users\\rifal\\Desktop\\CAPSTONE\\WhatsApp Video 2023-12-22 at 17.50.07_28c729f8.mp4: 640x320 1 fainted, 139.5ms\n"
     ]
    },
    {
     "name": "stdout",
     "output_type": "stream",
     "text": [
      "Fainted Detected\n",
      "Fainted Detected\n"
     ]
    },
    {
     "name": "stderr",
     "output_type": "stream",
     "text": [
      "video 1/1 (193/236) C:\\Users\\rifal\\Desktop\\CAPSTONE\\WhatsApp Video 2023-12-22 at 17.50.07_28c729f8.mp4: 640x320 1 fainted, 142.1ms\n",
      "video 1/1 (194/236) C:\\Users\\rifal\\Desktop\\CAPSTONE\\WhatsApp Video 2023-12-22 at 17.50.07_28c729f8.mp4: 640x320 1 fainted, 179.6ms\n"
     ]
    },
    {
     "name": "stdout",
     "output_type": "stream",
     "text": [
      "Fainted Detected\n",
      "Fainted Detected\n"
     ]
    },
    {
     "name": "stderr",
     "output_type": "stream",
     "text": [
      "video 1/1 (195/236) C:\\Users\\rifal\\Desktop\\CAPSTONE\\WhatsApp Video 2023-12-22 at 17.50.07_28c729f8.mp4: 640x320 1 fainted, 227.5ms\n",
      "video 1/1 (196/236) C:\\Users\\rifal\\Desktop\\CAPSTONE\\WhatsApp Video 2023-12-22 at 17.50.07_28c729f8.mp4: 640x320 1 fainted, 137.4ms\n"
     ]
    },
    {
     "name": "stdout",
     "output_type": "stream",
     "text": [
      "Fainted Detected\n",
      "Fainted Detected\n"
     ]
    },
    {
     "name": "stderr",
     "output_type": "stream",
     "text": [
      "video 1/1 (197/236) C:\\Users\\rifal\\Desktop\\CAPSTONE\\WhatsApp Video 2023-12-22 at 17.50.07_28c729f8.mp4: 640x320 1 fainted, 145.0ms\n",
      "video 1/1 (198/236) C:\\Users\\rifal\\Desktop\\CAPSTONE\\WhatsApp Video 2023-12-22 at 17.50.07_28c729f8.mp4: 640x320 1 fainted, 151.4ms\n"
     ]
    },
    {
     "name": "stdout",
     "output_type": "stream",
     "text": [
      "Fainted Detected\n",
      "Fainted Detected\n"
     ]
    },
    {
     "name": "stderr",
     "output_type": "stream",
     "text": [
      "video 1/1 (199/236) C:\\Users\\rifal\\Desktop\\CAPSTONE\\WhatsApp Video 2023-12-22 at 17.50.07_28c729f8.mp4: 640x320 1 fainted, 150.0ms\n",
      "video 1/1 (200/236) C:\\Users\\rifal\\Desktop\\CAPSTONE\\WhatsApp Video 2023-12-22 at 17.50.07_28c729f8.mp4: 640x320 1 fainted, 142.7ms\n"
     ]
    },
    {
     "name": "stdout",
     "output_type": "stream",
     "text": [
      "Fainted Detected\n",
      "Fainted Detected\n"
     ]
    },
    {
     "name": "stderr",
     "output_type": "stream",
     "text": [
      "video 1/1 (201/236) C:\\Users\\rifal\\Desktop\\CAPSTONE\\WhatsApp Video 2023-12-22 at 17.50.07_28c729f8.mp4: 640x320 1 fainted, 151.0ms\n",
      "video 1/1 (202/236) C:\\Users\\rifal\\Desktop\\CAPSTONE\\WhatsApp Video 2023-12-22 at 17.50.07_28c729f8.mp4: 640x320 1 fainted, 147.7ms\n"
     ]
    },
    {
     "name": "stdout",
     "output_type": "stream",
     "text": [
      "Fainted Detected\n",
      "Fainted Detected\n"
     ]
    },
    {
     "name": "stderr",
     "output_type": "stream",
     "text": [
      "video 1/1 (203/236) C:\\Users\\rifal\\Desktop\\CAPSTONE\\WhatsApp Video 2023-12-22 at 17.50.07_28c729f8.mp4: 640x320 1 fainted, 149.0ms\n",
      "video 1/1 (204/236) C:\\Users\\rifal\\Desktop\\CAPSTONE\\WhatsApp Video 2023-12-22 at 17.50.07_28c729f8.mp4: 640x320 1 fainted, 174.3ms\n"
     ]
    },
    {
     "name": "stdout",
     "output_type": "stream",
     "text": [
      "Fainted Detected\n",
      "Fainted Detected\n"
     ]
    },
    {
     "name": "stderr",
     "output_type": "stream",
     "text": [
      "video 1/1 (205/236) C:\\Users\\rifal\\Desktop\\CAPSTONE\\WhatsApp Video 2023-12-22 at 17.50.07_28c729f8.mp4: 640x320 1 fainted, 183.4ms\n"
     ]
    },
    {
     "name": "stdout",
     "output_type": "stream",
     "text": [
      "Fainted Detected\n"
     ]
    },
    {
     "name": "stderr",
     "output_type": "stream",
     "text": [
      "video 1/1 (206/236) C:\\Users\\rifal\\Desktop\\CAPSTONE\\WhatsApp Video 2023-12-22 at 17.50.07_28c729f8.mp4: 640x320 1 fainted, 230.0ms\n"
     ]
    },
    {
     "name": "stdout",
     "output_type": "stream",
     "text": [
      "Fainted Detected\n"
     ]
    },
    {
     "name": "stderr",
     "output_type": "stream",
     "text": [
      "video 1/1 (207/236) C:\\Users\\rifal\\Desktop\\CAPSTONE\\WhatsApp Video 2023-12-22 at 17.50.07_28c729f8.mp4: 640x320 1 fainted, 200.2ms\n",
      "video 1/1 (208/236) C:\\Users\\rifal\\Desktop\\CAPSTONE\\WhatsApp Video 2023-12-22 at 17.50.07_28c729f8.mp4: 640x320 1 fainted, 136.7ms\n"
     ]
    },
    {
     "name": "stdout",
     "output_type": "stream",
     "text": [
      "Fainted Detected\n",
      "Fainted Detected\n"
     ]
    },
    {
     "name": "stderr",
     "output_type": "stream",
     "text": [
      "video 1/1 (209/236) C:\\Users\\rifal\\Desktop\\CAPSTONE\\WhatsApp Video 2023-12-22 at 17.50.07_28c729f8.mp4: 640x320 1 fainted, 148.4ms\n"
     ]
    },
    {
     "name": "stdout",
     "output_type": "stream",
     "text": [
      "Fainted Detected\n"
     ]
    },
    {
     "name": "stderr",
     "output_type": "stream",
     "text": [
      "video 1/1 (210/236) C:\\Users\\rifal\\Desktop\\CAPSTONE\\WhatsApp Video 2023-12-22 at 17.50.07_28c729f8.mp4: 640x320 1 fainted, 185.9ms\n"
     ]
    },
    {
     "name": "stdout",
     "output_type": "stream",
     "text": [
      "Fainted Detected\n"
     ]
    },
    {
     "name": "stderr",
     "output_type": "stream",
     "text": [
      "video 1/1 (211/236) C:\\Users\\rifal\\Desktop\\CAPSTONE\\WhatsApp Video 2023-12-22 at 17.50.07_28c729f8.mp4: 640x320 1 fainted, 229.5ms\n",
      "video 1/1 (212/236) C:\\Users\\rifal\\Desktop\\CAPSTONE\\WhatsApp Video 2023-12-22 at 17.50.07_28c729f8.mp4: 640x320 1 fainted, 153.9ms\n"
     ]
    },
    {
     "name": "stdout",
     "output_type": "stream",
     "text": [
      "Fainted Detected\n",
      "Fainted Detected\n"
     ]
    },
    {
     "name": "stderr",
     "output_type": "stream",
     "text": [
      "video 1/1 (213/236) C:\\Users\\rifal\\Desktop\\CAPSTONE\\WhatsApp Video 2023-12-22 at 17.50.07_28c729f8.mp4: 640x320 1 fainted, 223.0ms\n",
      "video 1/1 (214/236) C:\\Users\\rifal\\Desktop\\CAPSTONE\\WhatsApp Video 2023-12-22 at 17.50.07_28c729f8.mp4: 640x320 1 fainted, 136.3ms\n"
     ]
    },
    {
     "name": "stdout",
     "output_type": "stream",
     "text": [
      "Fainted Detected\n",
      "Fainted Detected\n"
     ]
    },
    {
     "name": "stderr",
     "output_type": "stream",
     "text": [
      "video 1/1 (215/236) C:\\Users\\rifal\\Desktop\\CAPSTONE\\WhatsApp Video 2023-12-22 at 17.50.07_28c729f8.mp4: 640x320 1 fainted, 142.4ms\n"
     ]
    },
    {
     "name": "stdout",
     "output_type": "stream",
     "text": [
      "Fainted Detected\n"
     ]
    },
    {
     "name": "stderr",
     "output_type": "stream",
     "text": [
      "video 1/1 (216/236) C:\\Users\\rifal\\Desktop\\CAPSTONE\\WhatsApp Video 2023-12-22 at 17.50.07_28c729f8.mp4: 640x320 1 fainted, 189.3ms\n",
      "video 1/1 (217/236) C:\\Users\\rifal\\Desktop\\CAPSTONE\\WhatsApp Video 2023-12-22 at 17.50.07_28c729f8.mp4: 640x320 1 fainted, 145.0ms\n"
     ]
    },
    {
     "name": "stdout",
     "output_type": "stream",
     "text": [
      "Fainted Detected\n",
      "Fainted Detected\n"
     ]
    },
    {
     "name": "stderr",
     "output_type": "stream",
     "text": [
      "video 1/1 (218/236) C:\\Users\\rifal\\Desktop\\CAPSTONE\\WhatsApp Video 2023-12-22 at 17.50.07_28c729f8.mp4: 640x320 1 fainted, 141.2ms\n",
      "video 1/1 (219/236) C:\\Users\\rifal\\Desktop\\CAPSTONE\\WhatsApp Video 2023-12-22 at 17.50.07_28c729f8.mp4: 640x320 1 fainted, 143.8ms\n"
     ]
    },
    {
     "name": "stdout",
     "output_type": "stream",
     "text": [
      "Fainted Detected\n",
      "Fainted Detected\n"
     ]
    },
    {
     "name": "stderr",
     "output_type": "stream",
     "text": [
      "video 1/1 (220/236) C:\\Users\\rifal\\Desktop\\CAPSTONE\\WhatsApp Video 2023-12-22 at 17.50.07_28c729f8.mp4: 640x320 1 fainted, 161.8ms\n",
      "video 1/1 (221/236) C:\\Users\\rifal\\Desktop\\CAPSTONE\\WhatsApp Video 2023-12-22 at 17.50.07_28c729f8.mp4: 640x320 1 fainted, 144.4ms\n"
     ]
    },
    {
     "name": "stdout",
     "output_type": "stream",
     "text": [
      "Fainted Detected\n",
      "Fainted Detected\n"
     ]
    },
    {
     "name": "stderr",
     "output_type": "stream",
     "text": [
      "video 1/1 (222/236) C:\\Users\\rifal\\Desktop\\CAPSTONE\\WhatsApp Video 2023-12-22 at 17.50.07_28c729f8.mp4: 640x320 1 fainted, 152.2ms\n",
      "video 1/1 (223/236) C:\\Users\\rifal\\Desktop\\CAPSTONE\\WhatsApp Video 2023-12-22 at 17.50.07_28c729f8.mp4: 640x320 1 fainted, 136.3ms\n"
     ]
    },
    {
     "name": "stdout",
     "output_type": "stream",
     "text": [
      "Fainted Detected\n",
      "Fainted Detected\n"
     ]
    },
    {
     "name": "stderr",
     "output_type": "stream",
     "text": [
      "video 1/1 (224/236) C:\\Users\\rifal\\Desktop\\CAPSTONE\\WhatsApp Video 2023-12-22 at 17.50.07_28c729f8.mp4: 640x320 1 fainted, 146.2ms\n",
      "video 1/1 (225/236) C:\\Users\\rifal\\Desktop\\CAPSTONE\\WhatsApp Video 2023-12-22 at 17.50.07_28c729f8.mp4: 640x320 1 fainted, 136.1ms\n"
     ]
    },
    {
     "name": "stdout",
     "output_type": "stream",
     "text": [
      "Fainted Detected\n",
      "Fainted Detected\n"
     ]
    },
    {
     "name": "stderr",
     "output_type": "stream",
     "text": [
      "video 1/1 (226/236) C:\\Users\\rifal\\Desktop\\CAPSTONE\\WhatsApp Video 2023-12-22 at 17.50.07_28c729f8.mp4: 640x320 1 fainted, 145.9ms\n"
     ]
    },
    {
     "name": "stdout",
     "output_type": "stream",
     "text": [
      "Fainted Detected\n"
     ]
    },
    {
     "name": "stderr",
     "output_type": "stream",
     "text": [
      "video 1/1 (227/236) C:\\Users\\rifal\\Desktop\\CAPSTONE\\WhatsApp Video 2023-12-22 at 17.50.07_28c729f8.mp4: 640x320 1 fainted, 175.6ms\n",
      "video 1/1 (228/236) C:\\Users\\rifal\\Desktop\\CAPSTONE\\WhatsApp Video 2023-12-22 at 17.50.07_28c729f8.mp4: 640x320 1 fainted, 150.1ms\n"
     ]
    },
    {
     "name": "stdout",
     "output_type": "stream",
     "text": [
      "Fainted Detected\n",
      "Fainted Detected\n"
     ]
    },
    {
     "name": "stderr",
     "output_type": "stream",
     "text": [
      "video 1/1 (229/236) C:\\Users\\rifal\\Desktop\\CAPSTONE\\WhatsApp Video 2023-12-22 at 17.50.07_28c729f8.mp4: 640x320 1 fainted, 143.7ms\n",
      "video 1/1 (230/236) C:\\Users\\rifal\\Desktop\\CAPSTONE\\WhatsApp Video 2023-12-22 at 17.50.07_28c729f8.mp4: 640x320 1 fainted, 132.7ms\n"
     ]
    },
    {
     "name": "stdout",
     "output_type": "stream",
     "text": [
      "Fainted Detected\n",
      "Fainted Detected\n"
     ]
    },
    {
     "name": "stderr",
     "output_type": "stream",
     "text": [
      "video 1/1 (231/236) C:\\Users\\rifal\\Desktop\\CAPSTONE\\WhatsApp Video 2023-12-22 at 17.50.07_28c729f8.mp4: 640x320 1 fainted, 141.3ms\n",
      "video 1/1 (232/236) C:\\Users\\rifal\\Desktop\\CAPSTONE\\WhatsApp Video 2023-12-22 at 17.50.07_28c729f8.mp4: 640x320 1 fainted, 148.3ms\n"
     ]
    },
    {
     "name": "stdout",
     "output_type": "stream",
     "text": [
      "Fainted Detected\n",
      "Fainted Detected\n"
     ]
    },
    {
     "name": "stderr",
     "output_type": "stream",
     "text": [
      "video 1/1 (233/236) C:\\Users\\rifal\\Desktop\\CAPSTONE\\WhatsApp Video 2023-12-22 at 17.50.07_28c729f8.mp4: 640x320 1 fainted, 139.9ms\n",
      "video 1/1 (234/236) C:\\Users\\rifal\\Desktop\\CAPSTONE\\WhatsApp Video 2023-12-22 at 17.50.07_28c729f8.mp4: 640x320 1 fainted, 137.8ms\n"
     ]
    },
    {
     "name": "stdout",
     "output_type": "stream",
     "text": [
      "Fainted Detected\n",
      "Fainted Detected\n"
     ]
    },
    {
     "name": "stderr",
     "output_type": "stream",
     "text": [
      "video 1/1 (235/236) C:\\Users\\rifal\\Desktop\\CAPSTONE\\WhatsApp Video 2023-12-22 at 17.50.07_28c729f8.mp4: 640x320 1 fainted, 150.7ms\n",
      "video 1/1 (236/236) C:\\Users\\rifal\\Desktop\\CAPSTONE\\WhatsApp Video 2023-12-22 at 17.50.07_28c729f8.mp4: 640x320 1 fainted, 136.9ms\n",
      "Speed: 3.7ms preprocess, 144.0ms inference, 1.5ms postprocess per image at shape (1, 3, 640, 320)\n"
     ]
    },
    {
     "name": "stdout",
     "output_type": "stream",
     "text": [
      "Fainted Detected\n",
      "Fainted Detected\n"
     ]
    },
    {
     "name": "stderr",
     "output_type": "stream",
     "text": [
      "\n",
      "video 1/1 (1/236) C:\\Users\\rifal\\Desktop\\CAPSTONE\\WhatsApp Video 2023-12-22 at 17.50.07_28c729f8.mp4: 640x320 (no detections), 150.2ms\n",
      "video 1/1 (2/236) C:\\Users\\rifal\\Desktop\\CAPSTONE\\WhatsApp Video 2023-12-22 at 17.50.07_28c729f8.mp4: 640x320 (no detections), 148.8ms\n"
     ]
    },
    {
     "name": "stdout",
     "output_type": "stream",
     "text": [
      "Fainted Detected\n",
      "Fainted Detected\n"
     ]
    },
    {
     "name": "stderr",
     "output_type": "stream",
     "text": [
      "video 1/1 (3/236) C:\\Users\\rifal\\Desktop\\CAPSTONE\\WhatsApp Video 2023-12-22 at 17.50.07_28c729f8.mp4: 640x320 (no detections), 159.8ms\n",
      "video 1/1 (4/236) C:\\Users\\rifal\\Desktop\\CAPSTONE\\WhatsApp Video 2023-12-22 at 17.50.07_28c729f8.mp4: 640x320 (no detections), 153.4ms\n"
     ]
    },
    {
     "name": "stdout",
     "output_type": "stream",
     "text": [
      "Fainted Detected\n",
      "Fainted Detected\n"
     ]
    },
    {
     "name": "stderr",
     "output_type": "stream",
     "text": [
      "video 1/1 (5/236) C:\\Users\\rifal\\Desktop\\CAPSTONE\\WhatsApp Video 2023-12-22 at 17.50.07_28c729f8.mp4: 640x320 (no detections), 198.6ms\n",
      "video 1/1 (6/236) C:\\Users\\rifal\\Desktop\\CAPSTONE\\WhatsApp Video 2023-12-22 at 17.50.07_28c729f8.mp4: 640x320 (no detections), 135.3ms\n"
     ]
    },
    {
     "name": "stdout",
     "output_type": "stream",
     "text": [
      "Fainted Detected\n",
      "Fainted Detected\n"
     ]
    },
    {
     "name": "stderr",
     "output_type": "stream",
     "text": [
      "video 1/1 (7/236) C:\\Users\\rifal\\Desktop\\CAPSTONE\\WhatsApp Video 2023-12-22 at 17.50.07_28c729f8.mp4: 640x320 (no detections), 155.2ms\n",
      "video 1/1 (8/236) C:\\Users\\rifal\\Desktop\\CAPSTONE\\WhatsApp Video 2023-12-22 at 17.50.07_28c729f8.mp4: 640x320 (no detections), 122.5ms\n"
     ]
    },
    {
     "name": "stdout",
     "output_type": "stream",
     "text": [
      "Fainted Detected\n",
      "Fainted Detected\n"
     ]
    },
    {
     "name": "stderr",
     "output_type": "stream",
     "text": [
      "video 1/1 (9/236) C:\\Users\\rifal\\Desktop\\CAPSTONE\\WhatsApp Video 2023-12-22 at 17.50.07_28c729f8.mp4: 640x320 (no detections), 139.4ms\n",
      "video 1/1 (10/236) C:\\Users\\rifal\\Desktop\\CAPSTONE\\WhatsApp Video 2023-12-22 at 17.50.07_28c729f8.mp4: 640x320 (no detections), 134.2ms\n"
     ]
    },
    {
     "name": "stdout",
     "output_type": "stream",
     "text": [
      "Fainted Detected\n",
      "Fainted Detected\n"
     ]
    },
    {
     "name": "stderr",
     "output_type": "stream",
     "text": [
      "video 1/1 (11/236) C:\\Users\\rifal\\Desktop\\CAPSTONE\\WhatsApp Video 2023-12-22 at 17.50.07_28c729f8.mp4: 640x320 (no detections), 136.0ms\n",
      "video 1/1 (12/236) C:\\Users\\rifal\\Desktop\\CAPSTONE\\WhatsApp Video 2023-12-22 at 17.50.07_28c729f8.mp4: 640x320 (no detections), 163.1ms\n"
     ]
    },
    {
     "name": "stdout",
     "output_type": "stream",
     "text": [
      "Fainted Detected\n",
      "Fainted Detected\n"
     ]
    },
    {
     "name": "stderr",
     "output_type": "stream",
     "text": [
      "video 1/1 (13/236) C:\\Users\\rifal\\Desktop\\CAPSTONE\\WhatsApp Video 2023-12-22 at 17.50.07_28c729f8.mp4: 640x320 (no detections), 143.6ms\n",
      "video 1/1 (14/236) C:\\Users\\rifal\\Desktop\\CAPSTONE\\WhatsApp Video 2023-12-22 at 17.50.07_28c729f8.mp4: 640x320 (no detections), 150.6ms\n"
     ]
    },
    {
     "name": "stdout",
     "output_type": "stream",
     "text": [
      "Fainted Detected\n",
      "Fainted Detected\n"
     ]
    },
    {
     "name": "stderr",
     "output_type": "stream",
     "text": [
      "video 1/1 (15/236) C:\\Users\\rifal\\Desktop\\CAPSTONE\\WhatsApp Video 2023-12-22 at 17.50.07_28c729f8.mp4: 640x320 (no detections), 157.8ms\n",
      "video 1/1 (16/236) C:\\Users\\rifal\\Desktop\\CAPSTONE\\WhatsApp Video 2023-12-22 at 17.50.07_28c729f8.mp4: 640x320 (no detections), 149.7ms\n"
     ]
    },
    {
     "name": "stdout",
     "output_type": "stream",
     "text": [
      "Fainted Detected\n",
      "Fainted Detected\n"
     ]
    },
    {
     "name": "stderr",
     "output_type": "stream",
     "text": [
      "video 1/1 (17/236) C:\\Users\\rifal\\Desktop\\CAPSTONE\\WhatsApp Video 2023-12-22 at 17.50.07_28c729f8.mp4: 640x320 (no detections), 155.8ms\n"
     ]
    },
    {
     "name": "stdout",
     "output_type": "stream",
     "text": [
      "Fainted Detected\n"
     ]
    },
    {
     "name": "stderr",
     "output_type": "stream",
     "text": [
      "video 1/1 (18/236) C:\\Users\\rifal\\Desktop\\CAPSTONE\\WhatsApp Video 2023-12-22 at 17.50.07_28c729f8.mp4: 640x320 (no detections), 179.1ms\n",
      "video 1/1 (19/236) C:\\Users\\rifal\\Desktop\\CAPSTONE\\WhatsApp Video 2023-12-22 at 17.50.07_28c729f8.mp4: 640x320 (no detections), 162.5ms\n"
     ]
    },
    {
     "name": "stdout",
     "output_type": "stream",
     "text": [
      "Fainted Detected\n",
      "Fainted Detected\n"
     ]
    },
    {
     "name": "stderr",
     "output_type": "stream",
     "text": [
      "video 1/1 (20/236) C:\\Users\\rifal\\Desktop\\CAPSTONE\\WhatsApp Video 2023-12-22 at 17.50.07_28c729f8.mp4: 640x320 (no detections), 161.7ms\n",
      "video 1/1 (21/236) C:\\Users\\rifal\\Desktop\\CAPSTONE\\WhatsApp Video 2023-12-22 at 17.50.07_28c729f8.mp4: 640x320 (no detections), 173.7ms\n"
     ]
    },
    {
     "name": "stdout",
     "output_type": "stream",
     "text": [
      "Fainted Detected\n",
      "Fainted Detected\n"
     ]
    },
    {
     "name": "stderr",
     "output_type": "stream",
     "text": [
      "video 1/1 (22/236) C:\\Users\\rifal\\Desktop\\CAPSTONE\\WhatsApp Video 2023-12-22 at 17.50.07_28c729f8.mp4: 640x320 (no detections), 174.4ms\n",
      "video 1/1 (23/236) C:\\Users\\rifal\\Desktop\\CAPSTONE\\WhatsApp Video 2023-12-22 at 17.50.07_28c729f8.mp4: 640x320 (no detections), 145.4ms\n"
     ]
    },
    {
     "name": "stdout",
     "output_type": "stream",
     "text": [
      "Fainted Detected\n",
      "Fainted Detected\n"
     ]
    },
    {
     "name": "stderr",
     "output_type": "stream",
     "text": [
      "video 1/1 (24/236) C:\\Users\\rifal\\Desktop\\CAPSTONE\\WhatsApp Video 2023-12-22 at 17.50.07_28c729f8.mp4: 640x320 (no detections), 186.6ms\n",
      "video 1/1 (25/236) C:\\Users\\rifal\\Desktop\\CAPSTONE\\WhatsApp Video 2023-12-22 at 17.50.07_28c729f8.mp4: 640x320 (no detections), 146.1ms\n"
     ]
    },
    {
     "name": "stdout",
     "output_type": "stream",
     "text": [
      "Fainted Detected\n",
      "Fainted Detected\n"
     ]
    },
    {
     "name": "stderr",
     "output_type": "stream",
     "text": [
      "video 1/1 (26/236) C:\\Users\\rifal\\Desktop\\CAPSTONE\\WhatsApp Video 2023-12-22 at 17.50.07_28c729f8.mp4: 640x320 (no detections), 150.4ms\n",
      "video 1/1 (27/236) C:\\Users\\rifal\\Desktop\\CAPSTONE\\WhatsApp Video 2023-12-22 at 17.50.07_28c729f8.mp4: 640x320 (no detections), 144.1ms\n"
     ]
    },
    {
     "name": "stdout",
     "output_type": "stream",
     "text": [
      "Fainted Detected\n",
      "Fainted Detected\n"
     ]
    },
    {
     "name": "stderr",
     "output_type": "stream",
     "text": [
      "video 1/1 (28/236) C:\\Users\\rifal\\Desktop\\CAPSTONE\\WhatsApp Video 2023-12-22 at 17.50.07_28c729f8.mp4: 640x320 (no detections), 145.9ms\n",
      "video 1/1 (29/236) C:\\Users\\rifal\\Desktop\\CAPSTONE\\WhatsApp Video 2023-12-22 at 17.50.07_28c729f8.mp4: 640x320 (no detections), 147.0ms\n"
     ]
    },
    {
     "name": "stdout",
     "output_type": "stream",
     "text": [
      "Fainted Detected\n",
      "Fainted Detected\n"
     ]
    },
    {
     "name": "stderr",
     "output_type": "stream",
     "text": [
      "video 1/1 (30/236) C:\\Users\\rifal\\Desktop\\CAPSTONE\\WhatsApp Video 2023-12-22 at 17.50.07_28c729f8.mp4: 640x320 (no detections), 144.7ms\n",
      "video 1/1 (31/236) C:\\Users\\rifal\\Desktop\\CAPSTONE\\WhatsApp Video 2023-12-22 at 17.50.07_28c729f8.mp4: 640x320 (no detections), 144.9ms\n"
     ]
    },
    {
     "name": "stdout",
     "output_type": "stream",
     "text": [
      "Fainted Detected\n",
      "Fainted Detected\n"
     ]
    },
    {
     "name": "stderr",
     "output_type": "stream",
     "text": [
      "video 1/1 (32/236) C:\\Users\\rifal\\Desktop\\CAPSTONE\\WhatsApp Video 2023-12-22 at 17.50.07_28c729f8.mp4: 640x320 (no detections), 151.1ms\n",
      "video 1/1 (33/236) C:\\Users\\rifal\\Desktop\\CAPSTONE\\WhatsApp Video 2023-12-22 at 17.50.07_28c729f8.mp4: 640x320 (no detections), 160.1ms\n"
     ]
    },
    {
     "name": "stdout",
     "output_type": "stream",
     "text": [
      "Fainted Detected\n",
      "Fainted Detected\n"
     ]
    },
    {
     "name": "stderr",
     "output_type": "stream",
     "text": [
      "video 1/1 (34/236) C:\\Users\\rifal\\Desktop\\CAPSTONE\\WhatsApp Video 2023-12-22 at 17.50.07_28c729f8.mp4: 640x320 (no detections), 174.3ms\n",
      "video 1/1 (35/236) C:\\Users\\rifal\\Desktop\\CAPSTONE\\WhatsApp Video 2023-12-22 at 17.50.07_28c729f8.mp4: 640x320 (no detections), 166.6ms\n"
     ]
    },
    {
     "name": "stdout",
     "output_type": "stream",
     "text": [
      "Fainted Detected\n",
      "Fainted Detected\n"
     ]
    },
    {
     "name": "stderr",
     "output_type": "stream",
     "text": [
      "video 1/1 (36/236) C:\\Users\\rifal\\Desktop\\CAPSTONE\\WhatsApp Video 2023-12-22 at 17.50.07_28c729f8.mp4: 640x320 (no detections), 227.4ms\n",
      "video 1/1 (37/236) C:\\Users\\rifal\\Desktop\\CAPSTONE\\WhatsApp Video 2023-12-22 at 17.50.07_28c729f8.mp4: 640x320 (no detections), 146.0ms\n"
     ]
    },
    {
     "name": "stdout",
     "output_type": "stream",
     "text": [
      "Fainted Detected\n",
      "Fainted Detected\n"
     ]
    },
    {
     "name": "stderr",
     "output_type": "stream",
     "text": [
      "video 1/1 (38/236) C:\\Users\\rifal\\Desktop\\CAPSTONE\\WhatsApp Video 2023-12-22 at 17.50.07_28c729f8.mp4: 640x320 (no detections), 160.4ms\n"
     ]
    },
    {
     "name": "stdout",
     "output_type": "stream",
     "text": [
      "Fainted Detected\n"
     ]
    },
    {
     "name": "stderr",
     "output_type": "stream",
     "text": [
      "video 1/1 (39/236) C:\\Users\\rifal\\Desktop\\CAPSTONE\\WhatsApp Video 2023-12-22 at 17.50.07_28c729f8.mp4: 640x320 (no detections), 199.1ms\n"
     ]
    },
    {
     "name": "stdout",
     "output_type": "stream",
     "text": [
      "Fainted Detected\n"
     ]
    },
    {
     "name": "stderr",
     "output_type": "stream",
     "text": [
      "video 1/1 (40/236) C:\\Users\\rifal\\Desktop\\CAPSTONE\\WhatsApp Video 2023-12-22 at 17.50.07_28c729f8.mp4: 640x320 (no detections), 190.9ms\n",
      "video 1/1 (41/236) C:\\Users\\rifal\\Desktop\\CAPSTONE\\WhatsApp Video 2023-12-22 at 17.50.07_28c729f8.mp4: 640x320 (no detections), 194.0ms\n"
     ]
    },
    {
     "name": "stdout",
     "output_type": "stream",
     "text": [
      "Fainted Detected\n",
      "Fainted Detected\n"
     ]
    },
    {
     "name": "stderr",
     "output_type": "stream",
     "text": [
      "video 1/1 (42/236) C:\\Users\\rifal\\Desktop\\CAPSTONE\\WhatsApp Video 2023-12-22 at 17.50.07_28c729f8.mp4: 640x320 (no detections), 187.2ms\n",
      "video 1/1 (43/236) C:\\Users\\rifal\\Desktop\\CAPSTONE\\WhatsApp Video 2023-12-22 at 17.50.07_28c729f8.mp4: 640x320 (no detections), 168.6ms\n"
     ]
    },
    {
     "name": "stdout",
     "output_type": "stream",
     "text": [
      "Fainted Detected\n",
      "Fainted Detected\n"
     ]
    },
    {
     "name": "stderr",
     "output_type": "stream",
     "text": [
      "video 1/1 (44/236) C:\\Users\\rifal\\Desktop\\CAPSTONE\\WhatsApp Video 2023-12-22 at 17.50.07_28c729f8.mp4: 640x320 (no detections), 164.7ms\n",
      "video 1/1 (45/236) C:\\Users\\rifal\\Desktop\\CAPSTONE\\WhatsApp Video 2023-12-22 at 17.50.07_28c729f8.mp4: 640x320 (no detections), 157.0ms\n"
     ]
    },
    {
     "name": "stdout",
     "output_type": "stream",
     "text": [
      "Fainted Detected\n",
      "Fainted Detected\n"
     ]
    },
    {
     "name": "stderr",
     "output_type": "stream",
     "text": [
      "video 1/1 (46/236) C:\\Users\\rifal\\Desktop\\CAPSTONE\\WhatsApp Video 2023-12-22 at 17.50.07_28c729f8.mp4: 640x320 (no detections), 230.1ms\n",
      "video 1/1 (47/236) C:\\Users\\rifal\\Desktop\\CAPSTONE\\WhatsApp Video 2023-12-22 at 17.50.07_28c729f8.mp4: 640x320 (no detections), 145.5ms\n"
     ]
    },
    {
     "name": "stdout",
     "output_type": "stream",
     "text": [
      "Fainted Detected\n",
      "Fainted Detected\n"
     ]
    },
    {
     "name": "stderr",
     "output_type": "stream",
     "text": [
      "video 1/1 (48/236) C:\\Users\\rifal\\Desktop\\CAPSTONE\\WhatsApp Video 2023-12-22 at 17.50.07_28c729f8.mp4: 640x320 (no detections), 176.8ms\n",
      "video 1/1 (49/236) C:\\Users\\rifal\\Desktop\\CAPSTONE\\WhatsApp Video 2023-12-22 at 17.50.07_28c729f8.mp4: 640x320 (no detections), 179.3ms\n"
     ]
    },
    {
     "name": "stdout",
     "output_type": "stream",
     "text": [
      "Fainted Detected\n",
      "Fainted Detected\n"
     ]
    },
    {
     "name": "stderr",
     "output_type": "stream",
     "text": [
      "video 1/1 (50/236) C:\\Users\\rifal\\Desktop\\CAPSTONE\\WhatsApp Video 2023-12-22 at 17.50.07_28c729f8.mp4: 640x320 (no detections), 150.3ms\n",
      "video 1/1 (51/236) C:\\Users\\rifal\\Desktop\\CAPSTONE\\WhatsApp Video 2023-12-22 at 17.50.07_28c729f8.mp4: 640x320 (no detections), 159.7ms\n"
     ]
    },
    {
     "name": "stdout",
     "output_type": "stream",
     "text": [
      "Fainted Detected\n",
      "Fainted Detected\n"
     ]
    },
    {
     "name": "stderr",
     "output_type": "stream",
     "text": [
      "video 1/1 (52/236) C:\\Users\\rifal\\Desktop\\CAPSTONE\\WhatsApp Video 2023-12-22 at 17.50.07_28c729f8.mp4: 640x320 (no detections), 153.0ms\n",
      "video 1/1 (53/236) C:\\Users\\rifal\\Desktop\\CAPSTONE\\WhatsApp Video 2023-12-22 at 17.50.07_28c729f8.mp4: 640x320 (no detections), 155.3ms\n"
     ]
    },
    {
     "name": "stdout",
     "output_type": "stream",
     "text": [
      "Fainted Detected\n",
      "Fainted Detected\n"
     ]
    },
    {
     "name": "stderr",
     "output_type": "stream",
     "text": [
      "video 1/1 (54/236) C:\\Users\\rifal\\Desktop\\CAPSTONE\\WhatsApp Video 2023-12-22 at 17.50.07_28c729f8.mp4: 640x320 (no detections), 195.5ms\n",
      "video 1/1 (55/236) C:\\Users\\rifal\\Desktop\\CAPSTONE\\WhatsApp Video 2023-12-22 at 17.50.07_28c729f8.mp4: 640x320 (no detections), 127.7ms\n"
     ]
    },
    {
     "name": "stdout",
     "output_type": "stream",
     "text": [
      "Fainted Detected\n",
      "Fainted Detected\n"
     ]
    },
    {
     "name": "stderr",
     "output_type": "stream",
     "text": [
      "video 1/1 (56/236) C:\\Users\\rifal\\Desktop\\CAPSTONE\\WhatsApp Video 2023-12-22 at 17.50.07_28c729f8.mp4: 640x320 (no detections), 123.7ms\n",
      "video 1/1 (57/236) C:\\Users\\rifal\\Desktop\\CAPSTONE\\WhatsApp Video 2023-12-22 at 17.50.07_28c729f8.mp4: 640x320 (no detections), 117.7ms\n"
     ]
    },
    {
     "name": "stdout",
     "output_type": "stream",
     "text": [
      "Fainted Detected\n",
      "Fainted Detected\n"
     ]
    },
    {
     "name": "stderr",
     "output_type": "stream",
     "text": [
      "video 1/1 (58/236) C:\\Users\\rifal\\Desktop\\CAPSTONE\\WhatsApp Video 2023-12-22 at 17.50.07_28c729f8.mp4: 640x320 (no detections), 164.0ms\n",
      "video 1/1 (59/236) C:\\Users\\rifal\\Desktop\\CAPSTONE\\WhatsApp Video 2023-12-22 at 17.50.07_28c729f8.mp4: 640x320 (no detections), 135.6ms\n"
     ]
    },
    {
     "name": "stdout",
     "output_type": "stream",
     "text": [
      "Fainted Detected\n",
      "Fainted Detected\n"
     ]
    },
    {
     "name": "stderr",
     "output_type": "stream",
     "text": [
      "video 1/1 (60/236) C:\\Users\\rifal\\Desktop\\CAPSTONE\\WhatsApp Video 2023-12-22 at 17.50.07_28c729f8.mp4: 640x320 (no detections), 156.6ms\n",
      "video 1/1 (61/236) C:\\Users\\rifal\\Desktop\\CAPSTONE\\WhatsApp Video 2023-12-22 at 17.50.07_28c729f8.mp4: 640x320 (no detections), 177.1ms\n"
     ]
    },
    {
     "name": "stdout",
     "output_type": "stream",
     "text": [
      "Fainted Detected\n",
      "Fainted Detected\n"
     ]
    },
    {
     "name": "stderr",
     "output_type": "stream",
     "text": [
      "video 1/1 (62/236) C:\\Users\\rifal\\Desktop\\CAPSTONE\\WhatsApp Video 2023-12-22 at 17.50.07_28c729f8.mp4: 640x320 (no detections), 157.3ms\n",
      "video 1/1 (63/236) C:\\Users\\rifal\\Desktop\\CAPSTONE\\WhatsApp Video 2023-12-22 at 17.50.07_28c729f8.mp4: 640x320 (no detections), 155.6ms\n"
     ]
    },
    {
     "name": "stdout",
     "output_type": "stream",
     "text": [
      "Fainted Detected\n",
      "Fainted Detected\n"
     ]
    },
    {
     "name": "stderr",
     "output_type": "stream",
     "text": [
      "video 1/1 (64/236) C:\\Users\\rifal\\Desktop\\CAPSTONE\\WhatsApp Video 2023-12-22 at 17.50.07_28c729f8.mp4: 640x320 (no detections), 187.6ms\n",
      "video 1/1 (65/236) C:\\Users\\rifal\\Desktop\\CAPSTONE\\WhatsApp Video 2023-12-22 at 17.50.07_28c729f8.mp4: 640x320 (no detections), 144.1ms\n"
     ]
    },
    {
     "name": "stdout",
     "output_type": "stream",
     "text": [
      "Fainted Detected\n",
      "Fainted Detected\n"
     ]
    },
    {
     "name": "stderr",
     "output_type": "stream",
     "text": [
      "video 1/1 (66/236) C:\\Users\\rifal\\Desktop\\CAPSTONE\\WhatsApp Video 2023-12-22 at 17.50.07_28c729f8.mp4: 640x320 (no detections), 142.5ms\n",
      "video 1/1 (67/236) C:\\Users\\rifal\\Desktop\\CAPSTONE\\WhatsApp Video 2023-12-22 at 17.50.07_28c729f8.mp4: 640x320 (no detections), 140.0ms\n"
     ]
    },
    {
     "name": "stdout",
     "output_type": "stream",
     "text": [
      "Fainted Detected\n",
      "Fainted Detected\n"
     ]
    },
    {
     "name": "stderr",
     "output_type": "stream",
     "text": [
      "video 1/1 (68/236) C:\\Users\\rifal\\Desktop\\CAPSTONE\\WhatsApp Video 2023-12-22 at 17.50.07_28c729f8.mp4: 640x320 (no detections), 165.3ms\n",
      "video 1/1 (69/236) C:\\Users\\rifal\\Desktop\\CAPSTONE\\WhatsApp Video 2023-12-22 at 17.50.07_28c729f8.mp4: 640x320 (no detections), 171.9ms\n"
     ]
    },
    {
     "name": "stdout",
     "output_type": "stream",
     "text": [
      "Fainted Detected\n",
      "Fainted Detected\n"
     ]
    },
    {
     "name": "stderr",
     "output_type": "stream",
     "text": [
      "video 1/1 (70/236) C:\\Users\\rifal\\Desktop\\CAPSTONE\\WhatsApp Video 2023-12-22 at 17.50.07_28c729f8.mp4: 640x320 (no detections), 139.3ms\n",
      "video 1/1 (71/236) C:\\Users\\rifal\\Desktop\\CAPSTONE\\WhatsApp Video 2023-12-22 at 17.50.07_28c729f8.mp4: 640x320 (no detections), 136.5ms\n"
     ]
    },
    {
     "name": "stdout",
     "output_type": "stream",
     "text": [
      "Fainted Detected\n",
      "Fainted Detected\n"
     ]
    },
    {
     "name": "stderr",
     "output_type": "stream",
     "text": [
      "video 1/1 (72/236) C:\\Users\\rifal\\Desktop\\CAPSTONE\\WhatsApp Video 2023-12-22 at 17.50.07_28c729f8.mp4: 640x320 (no detections), 130.8ms\n",
      "video 1/1 (73/236) C:\\Users\\rifal\\Desktop\\CAPSTONE\\WhatsApp Video 2023-12-22 at 17.50.07_28c729f8.mp4: 640x320 (no detections), 152.4ms\n"
     ]
    },
    {
     "name": "stdout",
     "output_type": "stream",
     "text": [
      "Fainted Detected\n",
      "Fainted Detected\n"
     ]
    },
    {
     "name": "stderr",
     "output_type": "stream",
     "text": [
      "video 1/1 (74/236) C:\\Users\\rifal\\Desktop\\CAPSTONE\\WhatsApp Video 2023-12-22 at 17.50.07_28c729f8.mp4: 640x320 (no detections), 144.1ms\n",
      "video 1/1 (75/236) C:\\Users\\rifal\\Desktop\\CAPSTONE\\WhatsApp Video 2023-12-22 at 17.50.07_28c729f8.mp4: 640x320 (no detections), 153.1ms\n"
     ]
    },
    {
     "name": "stdout",
     "output_type": "stream",
     "text": [
      "Fainted Detected\n",
      "Fainted Detected\n"
     ]
    },
    {
     "name": "stderr",
     "output_type": "stream",
     "text": [
      "video 1/1 (76/236) C:\\Users\\rifal\\Desktop\\CAPSTONE\\WhatsApp Video 2023-12-22 at 17.50.07_28c729f8.mp4: 640x320 (no detections), 169.0ms\n",
      "video 1/1 (77/236) C:\\Users\\rifal\\Desktop\\CAPSTONE\\WhatsApp Video 2023-12-22 at 17.50.07_28c729f8.mp4: 640x320 (no detections), 160.1ms\n"
     ]
    },
    {
     "name": "stdout",
     "output_type": "stream",
     "text": [
      "Fainted Detected\n",
      "Fainted Detected\n"
     ]
    },
    {
     "name": "stderr",
     "output_type": "stream",
     "text": [
      "video 1/1 (78/236) C:\\Users\\rifal\\Desktop\\CAPSTONE\\WhatsApp Video 2023-12-22 at 17.50.07_28c729f8.mp4: 640x320 (no detections), 162.9ms\n",
      "video 1/1 (79/236) C:\\Users\\rifal\\Desktop\\CAPSTONE\\WhatsApp Video 2023-12-22 at 17.50.07_28c729f8.mp4: 640x320 1 fainted, 157.3ms\n"
     ]
    },
    {
     "name": "stdout",
     "output_type": "stream",
     "text": [
      "Fainted Detected\n",
      "Fainted Detected\n"
     ]
    },
    {
     "name": "stderr",
     "output_type": "stream",
     "text": [
      "video 1/1 (80/236) C:\\Users\\rifal\\Desktop\\CAPSTONE\\WhatsApp Video 2023-12-22 at 17.50.07_28c729f8.mp4: 640x320 1 fainted, 151.8ms\n",
      "video 1/1 (81/236) C:\\Users\\rifal\\Desktop\\CAPSTONE\\WhatsApp Video 2023-12-22 at 17.50.07_28c729f8.mp4: 640x320 1 fainted, 155.8ms\n"
     ]
    },
    {
     "name": "stdout",
     "output_type": "stream",
     "text": [
      "Fainted Detected\n",
      "Fainted Detected\n"
     ]
    },
    {
     "name": "stderr",
     "output_type": "stream",
     "text": [
      "video 1/1 (82/236) C:\\Users\\rifal\\Desktop\\CAPSTONE\\WhatsApp Video 2023-12-22 at 17.50.07_28c729f8.mp4: 640x320 1 fainted, 154.7ms\n",
      "video 1/1 (83/236) C:\\Users\\rifal\\Desktop\\CAPSTONE\\WhatsApp Video 2023-12-22 at 17.50.07_28c729f8.mp4: 640x320 1 fainted, 159.3ms\n"
     ]
    },
    {
     "name": "stdout",
     "output_type": "stream",
     "text": [
      "Fainted Detected\n",
      "Fainted Detected\n"
     ]
    },
    {
     "name": "stderr",
     "output_type": "stream",
     "text": [
      "video 1/1 (84/236) C:\\Users\\rifal\\Desktop\\CAPSTONE\\WhatsApp Video 2023-12-22 at 17.50.07_28c729f8.mp4: 640x320 1 fainted, 152.7ms\n",
      "video 1/1 (85/236) C:\\Users\\rifal\\Desktop\\CAPSTONE\\WhatsApp Video 2023-12-22 at 17.50.07_28c729f8.mp4: 640x320 1 fainted, 149.3ms\n"
     ]
    },
    {
     "name": "stdout",
     "output_type": "stream",
     "text": [
      "Fainted Detected\n",
      "Fainted Detected\n"
     ]
    },
    {
     "name": "stderr",
     "output_type": "stream",
     "text": [
      "video 1/1 (86/236) C:\\Users\\rifal\\Desktop\\CAPSTONE\\WhatsApp Video 2023-12-22 at 17.50.07_28c729f8.mp4: 640x320 1 fainted, 184.7ms\n",
      "video 1/1 (87/236) C:\\Users\\rifal\\Desktop\\CAPSTONE\\WhatsApp Video 2023-12-22 at 17.50.07_28c729f8.mp4: 640x320 1 fainted, 129.6ms\n"
     ]
    },
    {
     "name": "stdout",
     "output_type": "stream",
     "text": [
      "Fainted Detected\n",
      "Fainted Detected\n"
     ]
    },
    {
     "name": "stderr",
     "output_type": "stream",
     "text": [
      "video 1/1 (88/236) C:\\Users\\rifal\\Desktop\\CAPSTONE\\WhatsApp Video 2023-12-22 at 17.50.07_28c729f8.mp4: 640x320 1 fainted, 127.7ms\n",
      "video 1/1 (89/236) C:\\Users\\rifal\\Desktop\\CAPSTONE\\WhatsApp Video 2023-12-22 at 17.50.07_28c729f8.mp4: 640x320 1 fainted, 115.6ms\n"
     ]
    },
    {
     "name": "stdout",
     "output_type": "stream",
     "text": [
      "Fainted Detected\n",
      "Fainted Detected\n"
     ]
    },
    {
     "name": "stderr",
     "output_type": "stream",
     "text": [
      "video 1/1 (90/236) C:\\Users\\rifal\\Desktop\\CAPSTONE\\WhatsApp Video 2023-12-22 at 17.50.07_28c729f8.mp4: 640x320 1 fainted, 127.6ms\n",
      "video 1/1 (91/236) C:\\Users\\rifal\\Desktop\\CAPSTONE\\WhatsApp Video 2023-12-22 at 17.50.07_28c729f8.mp4: 640x320 1 fainted, 133.7ms\n"
     ]
    },
    {
     "name": "stdout",
     "output_type": "stream",
     "text": [
      "Fainted Detected\n",
      "Fainted Detected\n"
     ]
    },
    {
     "name": "stderr",
     "output_type": "stream",
     "text": [
      "video 1/1 (92/236) C:\\Users\\rifal\\Desktop\\CAPSTONE\\WhatsApp Video 2023-12-22 at 17.50.07_28c729f8.mp4: 640x320 (no detections), 144.3ms\n",
      "video 1/1 (93/236) C:\\Users\\rifal\\Desktop\\CAPSTONE\\WhatsApp Video 2023-12-22 at 17.50.07_28c729f8.mp4: 640x320 (no detections), 147.3ms\n"
     ]
    },
    {
     "name": "stdout",
     "output_type": "stream",
     "text": [
      "Fainted Detected\n",
      "Fainted Detected\n"
     ]
    },
    {
     "name": "stderr",
     "output_type": "stream",
     "text": [
      "video 1/1 (94/236) C:\\Users\\rifal\\Desktop\\CAPSTONE\\WhatsApp Video 2023-12-22 at 17.50.07_28c729f8.mp4: 640x320 (no detections), 140.2ms\n",
      "video 1/1 (95/236) C:\\Users\\rifal\\Desktop\\CAPSTONE\\WhatsApp Video 2023-12-22 at 17.50.07_28c729f8.mp4: 640x320 (no detections), 144.0ms\n"
     ]
    },
    {
     "name": "stdout",
     "output_type": "stream",
     "text": [
      "Fainted Detected\n",
      "Fainted Detected\n"
     ]
    },
    {
     "name": "stderr",
     "output_type": "stream",
     "text": [
      "video 1/1 (96/236) C:\\Users\\rifal\\Desktop\\CAPSTONE\\WhatsApp Video 2023-12-22 at 17.50.07_28c729f8.mp4: 640x320 (no detections), 157.2ms\n",
      "video 1/1 (97/236) C:\\Users\\rifal\\Desktop\\CAPSTONE\\WhatsApp Video 2023-12-22 at 17.50.07_28c729f8.mp4: 640x320 (no detections), 158.8ms\n"
     ]
    },
    {
     "name": "stdout",
     "output_type": "stream",
     "text": [
      "Fainted Detected\n",
      "Fainted Detected\n"
     ]
    },
    {
     "name": "stderr",
     "output_type": "stream",
     "text": [
      "video 1/1 (98/236) C:\\Users\\rifal\\Desktop\\CAPSTONE\\WhatsApp Video 2023-12-22 at 17.50.07_28c729f8.mp4: 640x320 (no detections), 161.2ms\n",
      "video 1/1 (99/236) C:\\Users\\rifal\\Desktop\\CAPSTONE\\WhatsApp Video 2023-12-22 at 17.50.07_28c729f8.mp4: 640x320 (no detections), 159.8ms\n"
     ]
    },
    {
     "name": "stdout",
     "output_type": "stream",
     "text": [
      "Fainted Detected\n",
      "Fainted Detected\n"
     ]
    },
    {
     "name": "stderr",
     "output_type": "stream",
     "text": [
      "video 1/1 (100/236) C:\\Users\\rifal\\Desktop\\CAPSTONE\\WhatsApp Video 2023-12-22 at 17.50.07_28c729f8.mp4: 640x320 (no detections), 144.5ms\n",
      "video 1/1 (101/236) C:\\Users\\rifal\\Desktop\\CAPSTONE\\WhatsApp Video 2023-12-22 at 17.50.07_28c729f8.mp4: 640x320 (no detections), 133.5ms\n"
     ]
    },
    {
     "name": "stdout",
     "output_type": "stream",
     "text": [
      "Fainted Detected\n",
      "Fainted Detected\n"
     ]
    },
    {
     "name": "stderr",
     "output_type": "stream",
     "text": [
      "video 1/1 (102/236) C:\\Users\\rifal\\Desktop\\CAPSTONE\\WhatsApp Video 2023-12-22 at 17.50.07_28c729f8.mp4: 640x320 (no detections), 177.1ms\n",
      "video 1/1 (103/236) C:\\Users\\rifal\\Desktop\\CAPSTONE\\WhatsApp Video 2023-12-22 at 17.50.07_28c729f8.mp4: 640x320 (no detections), 144.6ms\n"
     ]
    },
    {
     "name": "stdout",
     "output_type": "stream",
     "text": [
      "Fainted Detected\n",
      "Fainted Detected\n"
     ]
    },
    {
     "name": "stderr",
     "output_type": "stream",
     "text": [
      "video 1/1 (104/236) C:\\Users\\rifal\\Desktop\\CAPSTONE\\WhatsApp Video 2023-12-22 at 17.50.07_28c729f8.mp4: 640x320 (no detections), 158.0ms\n",
      "video 1/1 (105/236) C:\\Users\\rifal\\Desktop\\CAPSTONE\\WhatsApp Video 2023-12-22 at 17.50.07_28c729f8.mp4: 640x320 (no detections), 173.1ms\n"
     ]
    },
    {
     "name": "stdout",
     "output_type": "stream",
     "text": [
      "Fainted Detected\n",
      "Fainted Detected\n"
     ]
    },
    {
     "name": "stderr",
     "output_type": "stream",
     "text": [
      "video 1/1 (106/236) C:\\Users\\rifal\\Desktop\\CAPSTONE\\WhatsApp Video 2023-12-22 at 17.50.07_28c729f8.mp4: 640x320 (no detections), 222.4ms\n",
      "video 1/1 (107/236) C:\\Users\\rifal\\Desktop\\CAPSTONE\\WhatsApp Video 2023-12-22 at 17.50.07_28c729f8.mp4: 640x320 (no detections), 167.6ms\n"
     ]
    },
    {
     "name": "stdout",
     "output_type": "stream",
     "text": [
      "Fainted Detected\n",
      "Fainted Detected\n"
     ]
    },
    {
     "name": "stderr",
     "output_type": "stream",
     "text": [
      "video 1/1 (108/236) C:\\Users\\rifal\\Desktop\\CAPSTONE\\WhatsApp Video 2023-12-22 at 17.50.07_28c729f8.mp4: 640x320 (no detections), 141.3ms\n",
      "video 1/1 (109/236) C:\\Users\\rifal\\Desktop\\CAPSTONE\\WhatsApp Video 2023-12-22 at 17.50.07_28c729f8.mp4: 640x320 (no detections), 146.9ms\n"
     ]
    },
    {
     "name": "stdout",
     "output_type": "stream",
     "text": [
      "Fainted Detected\n",
      "Fainted Detected\n"
     ]
    },
    {
     "name": "stderr",
     "output_type": "stream",
     "text": [
      "video 1/1 (110/236) C:\\Users\\rifal\\Desktop\\CAPSTONE\\WhatsApp Video 2023-12-22 at 17.50.07_28c729f8.mp4: 640x320 (no detections), 153.8ms\n",
      "video 1/1 (111/236) C:\\Users\\rifal\\Desktop\\CAPSTONE\\WhatsApp Video 2023-12-22 at 17.50.07_28c729f8.mp4: 640x320 (no detections), 154.5ms\n"
     ]
    },
    {
     "name": "stdout",
     "output_type": "stream",
     "text": [
      "Fainted Detected\n",
      "Fainted Detected\n"
     ]
    },
    {
     "name": "stderr",
     "output_type": "stream",
     "text": [
      "video 1/1 (112/236) C:\\Users\\rifal\\Desktop\\CAPSTONE\\WhatsApp Video 2023-12-22 at 17.50.07_28c729f8.mp4: 640x320 (no detections), 150.3ms\n",
      "video 1/1 (113/236) C:\\Users\\rifal\\Desktop\\CAPSTONE\\WhatsApp Video 2023-12-22 at 17.50.07_28c729f8.mp4: 640x320 (no detections), 145.4ms\n"
     ]
    },
    {
     "name": "stdout",
     "output_type": "stream",
     "text": [
      "Fainted Detected\n",
      "Fainted Detected\n"
     ]
    },
    {
     "name": "stderr",
     "output_type": "stream",
     "text": [
      "video 1/1 (114/236) C:\\Users\\rifal\\Desktop\\CAPSTONE\\WhatsApp Video 2023-12-22 at 17.50.07_28c729f8.mp4: 640x320 (no detections), 142.1ms\n",
      "video 1/1 (115/236) C:\\Users\\rifal\\Desktop\\CAPSTONE\\WhatsApp Video 2023-12-22 at 17.50.07_28c729f8.mp4: 640x320 (no detections), 131.7ms\n"
     ]
    },
    {
     "name": "stdout",
     "output_type": "stream",
     "text": [
      "Fainted Detected\n",
      "Fainted Detected\n"
     ]
    },
    {
     "name": "stderr",
     "output_type": "stream",
     "text": [
      "video 1/1 (116/236) C:\\Users\\rifal\\Desktop\\CAPSTONE\\WhatsApp Video 2023-12-22 at 17.50.07_28c729f8.mp4: 640x320 (no detections), 174.8ms\n",
      "video 1/1 (117/236) C:\\Users\\rifal\\Desktop\\CAPSTONE\\WhatsApp Video 2023-12-22 at 17.50.07_28c729f8.mp4: 640x320 (no detections), 131.2ms\n"
     ]
    },
    {
     "name": "stdout",
     "output_type": "stream",
     "text": [
      "Fainted Detected\n",
      "Fainted Detected\n"
     ]
    },
    {
     "name": "stderr",
     "output_type": "stream",
     "text": [
      "video 1/1 (118/236) C:\\Users\\rifal\\Desktop\\CAPSTONE\\WhatsApp Video 2023-12-22 at 17.50.07_28c729f8.mp4: 640x320 (no detections), 131.4ms\n",
      "video 1/1 (119/236) C:\\Users\\rifal\\Desktop\\CAPSTONE\\WhatsApp Video 2023-12-22 at 17.50.07_28c729f8.mp4: 640x320 (no detections), 133.0ms\n"
     ]
    },
    {
     "name": "stdout",
     "output_type": "stream",
     "text": [
      "Fainted Detected\n",
      "Fainted Detected\n"
     ]
    },
    {
     "name": "stderr",
     "output_type": "stream",
     "text": [
      "video 1/1 (120/236) C:\\Users\\rifal\\Desktop\\CAPSTONE\\WhatsApp Video 2023-12-22 at 17.50.07_28c729f8.mp4: 640x320 (no detections), 170.6ms\n",
      "video 1/1 (121/236) C:\\Users\\rifal\\Desktop\\CAPSTONE\\WhatsApp Video 2023-12-22 at 17.50.07_28c729f8.mp4: 640x320 (no detections), 160.7ms\n"
     ]
    },
    {
     "name": "stdout",
     "output_type": "stream",
     "text": [
      "Fainted Detected\n",
      "Fainted Detected\n"
     ]
    },
    {
     "name": "stderr",
     "output_type": "stream",
     "text": [
      "video 1/1 (122/236) C:\\Users\\rifal\\Desktop\\CAPSTONE\\WhatsApp Video 2023-12-22 at 17.50.07_28c729f8.mp4: 640x320 (no detections), 146.2ms\n",
      "video 1/1 (123/236) C:\\Users\\rifal\\Desktop\\CAPSTONE\\WhatsApp Video 2023-12-22 at 17.50.07_28c729f8.mp4: 640x320 (no detections), 134.2ms\n"
     ]
    },
    {
     "name": "stdout",
     "output_type": "stream",
     "text": [
      "Fainted Detected\n",
      "Fainted Detected\n"
     ]
    },
    {
     "name": "stderr",
     "output_type": "stream",
     "text": [
      "video 1/1 (124/236) C:\\Users\\rifal\\Desktop\\CAPSTONE\\WhatsApp Video 2023-12-22 at 17.50.07_28c729f8.mp4: 640x320 (no detections), 133.3ms\n",
      "video 1/1 (125/236) C:\\Users\\rifal\\Desktop\\CAPSTONE\\WhatsApp Video 2023-12-22 at 17.50.07_28c729f8.mp4: 640x320 (no detections), 132.1ms\n"
     ]
    },
    {
     "name": "stdout",
     "output_type": "stream",
     "text": [
      "Fainted Detected\n",
      "Fainted Detected\n"
     ]
    },
    {
     "name": "stderr",
     "output_type": "stream",
     "text": [
      "video 1/1 (126/236) C:\\Users\\rifal\\Desktop\\CAPSTONE\\WhatsApp Video 2023-12-22 at 17.50.07_28c729f8.mp4: 640x320 (no detections), 122.5ms\n",
      "video 1/1 (127/236) C:\\Users\\rifal\\Desktop\\CAPSTONE\\WhatsApp Video 2023-12-22 at 17.50.07_28c729f8.mp4: 640x320 (no detections), 117.2ms\n"
     ]
    },
    {
     "name": "stdout",
     "output_type": "stream",
     "text": [
      "Fainted Detected\n",
      "Fainted Detected\n"
     ]
    },
    {
     "name": "stderr",
     "output_type": "stream",
     "text": [
      "video 1/1 (128/236) C:\\Users\\rifal\\Desktop\\CAPSTONE\\WhatsApp Video 2023-12-22 at 17.50.07_28c729f8.mp4: 640x320 (no detections), 103.3ms\n",
      "video 1/1 (129/236) C:\\Users\\rifal\\Desktop\\CAPSTONE\\WhatsApp Video 2023-12-22 at 17.50.07_28c729f8.mp4: 640x320 (no detections), 99.6ms\n"
     ]
    },
    {
     "name": "stdout",
     "output_type": "stream",
     "text": [
      "Fainted Detected\n",
      "Fainted Detected\n"
     ]
    },
    {
     "name": "stderr",
     "output_type": "stream",
     "text": [
      "video 1/1 (130/236) C:\\Users\\rifal\\Desktop\\CAPSTONE\\WhatsApp Video 2023-12-22 at 17.50.07_28c729f8.mp4: 640x320 (no detections), 102.9ms\n",
      "video 1/1 (131/236) C:\\Users\\rifal\\Desktop\\CAPSTONE\\WhatsApp Video 2023-12-22 at 17.50.07_28c729f8.mp4: 640x320 (no detections), 118.6ms\n"
     ]
    },
    {
     "name": "stdout",
     "output_type": "stream",
     "text": [
      "Fainted Detected\n",
      "Fainted Detected\n"
     ]
    },
    {
     "name": "stderr",
     "output_type": "stream",
     "text": [
      "video 1/1 (132/236) C:\\Users\\rifal\\Desktop\\CAPSTONE\\WhatsApp Video 2023-12-22 at 17.50.07_28c729f8.mp4: 640x320 1 fainted, 151.2ms\n",
      "video 1/1 (133/236) C:\\Users\\rifal\\Desktop\\CAPSTONE\\WhatsApp Video 2023-12-22 at 17.50.07_28c729f8.mp4: 640x320 1 fainted, 129.7ms\n"
     ]
    },
    {
     "name": "stdout",
     "output_type": "stream",
     "text": [
      "Fainted Detected\n",
      "Fainted Detected\n"
     ]
    },
    {
     "name": "stderr",
     "output_type": "stream",
     "text": [
      "video 1/1 (134/236) C:\\Users\\rifal\\Desktop\\CAPSTONE\\WhatsApp Video 2023-12-22 at 17.50.07_28c729f8.mp4: 640x320 1 fainted, 134.3ms\n",
      "video 1/1 (135/236) C:\\Users\\rifal\\Desktop\\CAPSTONE\\WhatsApp Video 2023-12-22 at 17.50.07_28c729f8.mp4: 640x320 1 fainted, 147.7ms\n"
     ]
    },
    {
     "name": "stdout",
     "output_type": "stream",
     "text": [
      "Fainted Detected\n",
      "Fainted Detected\n"
     ]
    },
    {
     "name": "stderr",
     "output_type": "stream",
     "text": [
      "video 1/1 (136/236) C:\\Users\\rifal\\Desktop\\CAPSTONE\\WhatsApp Video 2023-12-22 at 17.50.07_28c729f8.mp4: 640x320 1 fainted, 154.0ms\n",
      "video 1/1 (137/236) C:\\Users\\rifal\\Desktop\\CAPSTONE\\WhatsApp Video 2023-12-22 at 17.50.07_28c729f8.mp4: 640x320 1 fainted, 136.5ms\n"
     ]
    },
    {
     "name": "stdout",
     "output_type": "stream",
     "text": [
      "Fainted Detected\n",
      "Fainted Detected\n"
     ]
    },
    {
     "name": "stderr",
     "output_type": "stream",
     "text": [
      "video 1/1 (138/236) C:\\Users\\rifal\\Desktop\\CAPSTONE\\WhatsApp Video 2023-12-22 at 17.50.07_28c729f8.mp4: 640x320 1 fainted, 133.9ms\n",
      "video 1/1 (139/236) C:\\Users\\rifal\\Desktop\\CAPSTONE\\WhatsApp Video 2023-12-22 at 17.50.07_28c729f8.mp4: 640x320 1 fainted, 136.7ms\n"
     ]
    },
    {
     "name": "stdout",
     "output_type": "stream",
     "text": [
      "Fainted Detected\n",
      "Fainted Detected\n"
     ]
    },
    {
     "name": "stderr",
     "output_type": "stream",
     "text": [
      "video 1/1 (140/236) C:\\Users\\rifal\\Desktop\\CAPSTONE\\WhatsApp Video 2023-12-22 at 17.50.07_28c729f8.mp4: 640x320 1 fainted, 137.9ms\n",
      "video 1/1 (141/236) C:\\Users\\rifal\\Desktop\\CAPSTONE\\WhatsApp Video 2023-12-22 at 17.50.07_28c729f8.mp4: 640x320 1 fainted, 150.9ms\n"
     ]
    },
    {
     "name": "stdout",
     "output_type": "stream",
     "text": [
      "Fainted Detected\n",
      "Fainted Detected\n"
     ]
    },
    {
     "name": "stderr",
     "output_type": "stream",
     "text": [
      "video 1/1 (142/236) C:\\Users\\rifal\\Desktop\\CAPSTONE\\WhatsApp Video 2023-12-22 at 17.50.07_28c729f8.mp4: 640x320 1 fainted, 143.5ms\n",
      "video 1/1 (143/236) C:\\Users\\rifal\\Desktop\\CAPSTONE\\WhatsApp Video 2023-12-22 at 17.50.07_28c729f8.mp4: 640x320 1 fainted, 148.3ms\n"
     ]
    },
    {
     "name": "stdout",
     "output_type": "stream",
     "text": [
      "Fainted Detected\n",
      "Fainted Detected\n"
     ]
    },
    {
     "name": "stderr",
     "output_type": "stream",
     "text": [
      "video 1/1 (144/236) C:\\Users\\rifal\\Desktop\\CAPSTONE\\WhatsApp Video 2023-12-22 at 17.50.07_28c729f8.mp4: 640x320 1 fainted, 137.0ms\n",
      "video 1/1 (145/236) C:\\Users\\rifal\\Desktop\\CAPSTONE\\WhatsApp Video 2023-12-22 at 17.50.07_28c729f8.mp4: 640x320 1 fainted, 171.2ms\n"
     ]
    },
    {
     "name": "stdout",
     "output_type": "stream",
     "text": [
      "Fainted Detected\n",
      "Fainted Detected\n"
     ]
    },
    {
     "name": "stderr",
     "output_type": "stream",
     "text": [
      "video 1/1 (146/236) C:\\Users\\rifal\\Desktop\\CAPSTONE\\WhatsApp Video 2023-12-22 at 17.50.07_28c729f8.mp4: 640x320 1 fainted, 124.3ms\n",
      "video 1/1 (147/236) C:\\Users\\rifal\\Desktop\\CAPSTONE\\WhatsApp Video 2023-12-22 at 17.50.07_28c729f8.mp4: 640x320 1 fainted, 126.0ms\n"
     ]
    },
    {
     "name": "stdout",
     "output_type": "stream",
     "text": [
      "Fainted Detected\n",
      "Fainted Detected\n"
     ]
    },
    {
     "name": "stderr",
     "output_type": "stream",
     "text": [
      "video 1/1 (148/236) C:\\Users\\rifal\\Desktop\\CAPSTONE\\WhatsApp Video 2023-12-22 at 17.50.07_28c729f8.mp4: 640x320 1 fainted, 132.8ms\n",
      "video 1/1 (149/236) C:\\Users\\rifal\\Desktop\\CAPSTONE\\WhatsApp Video 2023-12-22 at 17.50.07_28c729f8.mp4: 640x320 1 fainted, 143.1ms\n"
     ]
    },
    {
     "name": "stdout",
     "output_type": "stream",
     "text": [
      "Fainted Detected\n",
      "Fainted Detected\n"
     ]
    },
    {
     "name": "stderr",
     "output_type": "stream",
     "text": [
      "video 1/1 (150/236) C:\\Users\\rifal\\Desktop\\CAPSTONE\\WhatsApp Video 2023-12-22 at 17.50.07_28c729f8.mp4: 640x320 1 fainted, 145.8ms\n",
      "video 1/1 (151/236) C:\\Users\\rifal\\Desktop\\CAPSTONE\\WhatsApp Video 2023-12-22 at 17.50.07_28c729f8.mp4: 640x320 1 fainted, 134.0ms\n"
     ]
    },
    {
     "name": "stdout",
     "output_type": "stream",
     "text": [
      "Fainted Detected\n",
      "Fainted Detected\n"
     ]
    },
    {
     "name": "stderr",
     "output_type": "stream",
     "text": [
      "video 1/1 (152/236) C:\\Users\\rifal\\Desktop\\CAPSTONE\\WhatsApp Video 2023-12-22 at 17.50.07_28c729f8.mp4: 640x320 1 fainted, 135.5ms\n",
      "video 1/1 (153/236) C:\\Users\\rifal\\Desktop\\CAPSTONE\\WhatsApp Video 2023-12-22 at 17.50.07_28c729f8.mp4: 640x320 1 fainted, 143.8ms\n"
     ]
    },
    {
     "name": "stdout",
     "output_type": "stream",
     "text": [
      "Fainted Detected\n",
      "Fainted Detected\n"
     ]
    },
    {
     "name": "stderr",
     "output_type": "stream",
     "text": [
      "video 1/1 (154/236) C:\\Users\\rifal\\Desktop\\CAPSTONE\\WhatsApp Video 2023-12-22 at 17.50.07_28c729f8.mp4: 640x320 1 fainted, 147.0ms\n",
      "video 1/1 (155/236) C:\\Users\\rifal\\Desktop\\CAPSTONE\\WhatsApp Video 2023-12-22 at 17.50.07_28c729f8.mp4: 640x320 1 fainted, 158.5ms\n"
     ]
    },
    {
     "name": "stdout",
     "output_type": "stream",
     "text": [
      "Fainted Detected\n",
      "Fainted Detected\n"
     ]
    },
    {
     "name": "stderr",
     "output_type": "stream",
     "text": [
      "video 1/1 (156/236) C:\\Users\\rifal\\Desktop\\CAPSTONE\\WhatsApp Video 2023-12-22 at 17.50.07_28c729f8.mp4: 640x320 1 fainted, 142.5ms\n",
      "video 1/1 (157/236) C:\\Users\\rifal\\Desktop\\CAPSTONE\\WhatsApp Video 2023-12-22 at 17.50.07_28c729f8.mp4: 640x320 1 fainted, 137.4ms\n"
     ]
    },
    {
     "name": "stdout",
     "output_type": "stream",
     "text": [
      "Fainted Detected\n",
      "Fainted Detected\n"
     ]
    },
    {
     "name": "stderr",
     "output_type": "stream",
     "text": [
      "video 1/1 (158/236) C:\\Users\\rifal\\Desktop\\CAPSTONE\\WhatsApp Video 2023-12-22 at 17.50.07_28c729f8.mp4: 640x320 1 fainted, 138.7ms\n",
      "video 1/1 (159/236) C:\\Users\\rifal\\Desktop\\CAPSTONE\\WhatsApp Video 2023-12-22 at 17.50.07_28c729f8.mp4: 640x320 1 fainted, 177.8ms\n"
     ]
    },
    {
     "name": "stdout",
     "output_type": "stream",
     "text": [
      "Fainted Detected\n",
      "Fainted Detected\n"
     ]
    },
    {
     "name": "stderr",
     "output_type": "stream",
     "text": [
      "video 1/1 (160/236) C:\\Users\\rifal\\Desktop\\CAPSTONE\\WhatsApp Video 2023-12-22 at 17.50.07_28c729f8.mp4: 640x320 1 fainted, 135.4ms\n",
      "video 1/1 (161/236) C:\\Users\\rifal\\Desktop\\CAPSTONE\\WhatsApp Video 2023-12-22 at 17.50.07_28c729f8.mp4: 640x320 1 fainted, 142.4ms\n"
     ]
    },
    {
     "name": "stdout",
     "output_type": "stream",
     "text": [
      "Fainted Detected\n",
      "Fainted Detected\n"
     ]
    },
    {
     "name": "stderr",
     "output_type": "stream",
     "text": [
      "video 1/1 (162/236) C:\\Users\\rifal\\Desktop\\CAPSTONE\\WhatsApp Video 2023-12-22 at 17.50.07_28c729f8.mp4: 640x320 1 fainted, 150.3ms\n",
      "video 1/1 (163/236) C:\\Users\\rifal\\Desktop\\CAPSTONE\\WhatsApp Video 2023-12-22 at 17.50.07_28c729f8.mp4: 640x320 1 fainted, 140.8ms\n"
     ]
    },
    {
     "name": "stdout",
     "output_type": "stream",
     "text": [
      "Fainted Detected\n",
      "Fainted Detected\n"
     ]
    },
    {
     "name": "stderr",
     "output_type": "stream",
     "text": [
      "video 1/1 (164/236) C:\\Users\\rifal\\Desktop\\CAPSTONE\\WhatsApp Video 2023-12-22 at 17.50.07_28c729f8.mp4: 640x320 1 fainted, 144.0ms\n",
      "video 1/1 (165/236) C:\\Users\\rifal\\Desktop\\CAPSTONE\\WhatsApp Video 2023-12-22 at 17.50.07_28c729f8.mp4: 640x320 1 fainted, 141.6ms\n"
     ]
    },
    {
     "ename": "",
     "evalue": "",
     "output_type": "error",
     "traceback": [
      "\u001b[1;31mThe Kernel crashed while executing code in the the current cell or a previous cell. Please review the code in the cell(s) to identify a possible cause of the failure. Click <a href='https://aka.ms/vscodeJupyterKernelCrash'>here</a> for more info. View Jupyter <a href='command:jupyter.viewOutput'>log</a> for further details."
     ]
    }
   ],
   "source": [
    "import cv2\n",
    "import winsound\n",
    "import time\n",
    "from ultralytics import YOLO\n",
    "import numpy as np\n",
    "\n",
    "\n",
    "model = YOLO('C:/Users/rifal/Desktop/CAPSTONE/Fainting-Detection-4/runs/detect/train12/weights/best.pt')\n",
    "\n",
    "alarm_triggered = False\n",
    "start_time = None\n",
    "\n",
    "while True:\n",
    "    \n",
    "    results = model.predict(source='C:/Users/rifal/Desktop/CAPSTONE/pred.mp4', show=True, stream= True, conf=0.5, classes=1)\n",
    "\n",
    "    for i, (result) in enumerate(results):\n",
    "        print('Fainted Detected')\n",
    "        \n",
    "        if result and not alarm_triggered:\n",
    "            start_time = time.time()\n",
    "            alarm_triggered = True\n",
    "        elif not result and alarm_triggered:\n",
    "            alarm_triggered = False\n",
    "            start_time = None\n",
    "    \n",
    "    if alarm_triggered and start_time is not None:\n",
    "        elapsed_time = time.time() - start_time\n",
    "        if elapsed_time >= 1:\n",
    "            winsound.Beep(1000, 2000)\n",
    "            #cv2.putText(frame, \"No movement detected for 10 seconds!\", (10, 30), cv2.FONT_HERSHEY_SIMPLEX, 1, (0, 0, 255), 2)\n",
    "        \n",
    "    if cv2.waitKey(10) == ord('q'):\n",
    "        break\n",
    "\n",
    "cv2.destroyAllWindows()"
   ]
  },
  {
   "cell_type": "code",
   "execution_count": null,
   "id": "b85483be",
   "metadata": {},
   "outputs": [],
   "source": []
  }
 ],
 "metadata": {
  "kernelspec": {
   "display_name": "Python 3 (ipykernel)",
   "language": "python",
   "name": "python3"
  },
  "language_info": {
   "codemirror_mode": {
    "name": "ipython",
    "version": 3
   },
   "file_extension": ".py",
   "mimetype": "text/x-python",
   "name": "python",
   "nbconvert_exporter": "python",
   "pygments_lexer": "ipython3",
   "version": "3.11.5"
  }
 },
 "nbformat": 4,
 "nbformat_minor": 5
}
